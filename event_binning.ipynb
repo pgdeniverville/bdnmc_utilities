{
 "cells": [
  {
   "cell_type": "code",
   "execution_count": 1,
   "metadata": {},
   "outputs": [],
   "source": [
    "import pandas as pd\n",
    "import numpy as np\n",
    "import glob"
   ]
  },
  {
   "cell_type": "code",
   "execution_count": 3,
   "metadata": {},
   "outputs": [],
   "source": [
    "import matplotlib as mpl\n",
    "import matplotlib.pyplot as plt"
   ]
  },
  {
   "cell_type": "code",
   "execution_count": 4,
   "metadata": {},
   "outputs": [],
   "source": [
    "import math"
   ]
  },
  {
   "cell_type": "code",
   "execution_count": 5,
   "metadata": {},
   "outputs": [],
   "source": [
    "mini_bins=[0.05,0.1,0.15,0.2,0.25,0.3,0.35,0.4,0.45,0.5,0.55,2];"
   ]
  },
  {
   "cell_type": "code",
   "execution_count": 6,
   "metadata": {},
   "outputs": [],
   "source": [
    "bin_widths=[mini_bins[i]-mini_bins[i-1] for i in xrange(1,len(mini_bins))]"
   ]
  },
  {
   "cell_type": "code",
   "execution_count": 7,
   "metadata": {},
   "outputs": [],
   "source": [
    "minikinetic = set(glob.glob(\"Events6/mini_*\")) - set(glob.glob(\"Events6/mini_baryonic*\"))"
   ]
  },
  {
   "cell_type": "code",
   "execution_count": 8,
   "metadata": {},
   "outputs": [],
   "source": [
    "def calc_kin_energy(arr):\n",
    "    return arr[4]-math.sqrt(arr[4]**2-(arr[1]**2+arr[2]**2+arr[3]**2))"
   ]
  },
  {
   "cell_type": "code",
   "execution_count": 8,
   "metadata": {},
   "outputs": [],
   "source": [
    "test=sum_csv=pd.read_csv('Events6/summary.dat',header=None,names=range(6),sep=' ',skipinitialspace=True).values"
   ]
  },
  {
   "cell_type": "code",
   "execution_count": 15,
   "metadata": {},
   "outputs": [],
   "source": [
    "a=np.array([  3.50000000e-01,   1.70000000e-01,   3.30652064e+00,\n",
    "         6.87956926e-01,   2.25122717e-01,   9.20554228e-02,\n",
    "         4.80930574e-02,   2.53742512e-02,   1.13102282e-02,\n",
    "         6.19603808e-03,   5.11419016e-03,   3.24554375e-03,\n",
    "         5.90098864e-03])"
   ]
  },
  {
   "cell_type": "code",
   "execution_count": 16,
   "metadata": {},
   "outputs": [
    {
     "data": {
      "text/plain": [
       "array([  6.61304128e+01,   1.37591385e+01,   4.50245434e+00,\n",
       "         1.84110846e+00,   9.61861148e-01,   5.07485024e-01,\n",
       "         2.26204564e-01,   1.23920762e-01,   1.02283803e-01,\n",
       "         6.49108750e-02,   4.06964734e-03])"
      ]
     },
     "execution_count": 16,
     "metadata": {},
     "output_type": "execute_result"
    }
   ],
   "source": [
    "a[2:]/bin_widths"
   ]
  },
  {
   "cell_type": "code",
   "execution_count": 9,
   "metadata": {},
   "outputs": [],
   "source": [
    "def bin_events(event_file_list,summary_file):\n",
    "    files = dict()\n",
    "    for f in event_file_list:\n",
    "        with open(f) as fs:\n",
    "            files[float(fs.readline().split()[1])] = f\n",
    "    \n",
    "    sum_csv=pd.read_csv(summary_file,header=None,names=range(6),sep=' ',skipinitialspace=True).values\n",
    "    for i in xrange(len(sum_csv)):\n",
    "        if sum_csv[i,0] != 'Run':\n",
    "            continue\n",
    "        else:\n",
    "            run_num = float(sum_csv[i,1])\n",
    "            #print run_num\n",
    "        sum_num=0;\n",
    "        MV=0;\n",
    "        MX=0;\n",
    "        for j in xrange(i,len(sum_csv)):\n",
    "            if sum_csv[j,0]==\"Total\":\n",
    "                sum_num = sum_csv[j,3]\n",
    "                MV = sum_csv[j,1]\n",
    "                MX = sum_csv[j,2]\n",
    "                #print(sum_num,MV,MX)\n",
    "                break\n",
    "        if run_num not in files:\n",
    "            continue\n",
    "        event_file=files[run_num]\n",
    "    \n",
    "        event_csv=pd.read_csv(event_file,header=None,names=[0,1,2,3,4],sep=' ',skipinitialspace=True).values\n",
    "        \n",
    "        par=event_csv[(event_csv[:,0]==\"proton\")]\n",
    "        par2=[calc_kin_energy(arr) for arr in par]\n",
    "        par2=[a for a in par2 if not math.isnan(a)]\n",
    "        vals,bins=np.histogram(par2,bins=mini_bins)\n",
    "        \n",
    "        nar=event_csv[(event_csv[:,0]==\"neutron\")]\n",
    "        nar2=[calc_kin_energy(arr) for arr in nar]\n",
    "        nar2=[a for a in nar2 if not math.isnan(a)]\n",
    "        nvals,bins=np.histogram(nar2,bins=mini_bins)\n",
    "        \n",
    "        vals = vals/bin_widths\n",
    "        nvals = nvals/bin_widths\n",
    "        \n",
    "        try:\n",
    "            scale=sum_num/float(len(par)+len(nar))\n",
    "        except ZeroDivisionError:\n",
    "            print event_file\n",
    "            scale=1.0\n",
    "        yield np.append([MV,MX],(vals+nvals)*scale)"
   ]
  },
  {
   "cell_type": "code",
   "execution_count": 20,
   "metadata": {},
   "outputs": [],
   "source": [
    "kinetic_generator=bin_events(minikinetic,'Events6/summary.dat')"
   ]
  },
  {
   "cell_type": "code",
   "execution_count": 21,
   "metadata": {},
   "outputs": [],
   "source": [
    "out=[x for x in kinetic_generator]"
   ]
  },
  {
   "cell_type": "code",
   "execution_count": 17,
   "metadata": {},
   "outputs": [
    {
     "data": {
      "text/plain": [
       "95"
      ]
     },
     "execution_count": 17,
     "metadata": {},
     "output_type": "execute_result"
    }
   ],
   "source": [
    "len(set(glob.glob(\"Events_fit/mini_baryonic*\")))"
   ]
  },
  {
   "cell_type": "code",
   "execution_count": 18,
   "metadata": {},
   "outputs": [],
   "source": [
    "baryonic_generator=bin_events(set(glob.glob(\"Events_fit/mini_baryonic*\")),'Events_fit/summary_baryonic.dat')"
   ]
  },
  {
   "cell_type": "code",
   "execution_count": 19,
   "metadata": {},
   "outputs": [],
   "source": [
    "outb=[x for x in baryonic_generator]"
   ]
  },
  {
   "cell_type": "code",
   "execution_count": 194,
   "metadata": {},
   "outputs": [],
   "source": [
    "\"\"\"\n",
    "def bin_events(event_file,summary_file):\n",
    "    event_csv=pd.read_csv(event_file,header=None,names=[0,1,2,3,4],sep=' ',skipinitialspace=True).values\n",
    "    run_number=event_csv[0,1]\n",
    "    sum_csv=pd.read_csv(summary_file,header=None,names=range(6),sep=' ',skipinitialspace=True).values\n",
    "    sum_arr=[]\n",
    "    if len(np.where(sum_csv==run_number)[0])<1:\n",
    "        delete_arr.append([event_file])\n",
    "        return -1\n",
    "    else: \n",
    "        return 0\n",
    "    for i in xrange(len(sum_csv))+np.where(sum_csv==run_number)[0][0]:\n",
    "        if sum_csv[i,0]==\"Total\":\n",
    "            sum_num = sum_csv[i,3]\n",
    "            MV = sum_csv[i,1]\n",
    "            MX = sum_csv[i,2]\n",
    "            break\n",
    "    par=event_csv[(event_csv[:,0]==\"proton\")]\n",
    "    par2=[calc_kin_energy(arr) for arr in par]\n",
    "    par2=[a for a in par2 if not math.isnan(a)]\n",
    "    vals,bins=np.histogram(par2,bins=mini_bins)\n",
    "    nar=event_csv[(event_csv[:,0]==\"neutron\")]\n",
    "    nar2=[calc_kin_energy(arr) for arr in nar]\n",
    "    nar2=[a for a in nar2 if not math.isnan(a)]\n",
    "    nvals,bins=np.histogram(nar2,bins=mini_bins)\n",
    "    try:\n",
    "        scale=sum_num/float(len(par)+len(nar))\n",
    "    except ZeroDivisionError:\n",
    "        print event_file\n",
    "        scale=1.0\n",
    "    return np.append([MV,MX],(vals+nvals)*scale)\n",
    "\"\"\""
   ]
  },
  {
   "cell_type": "code",
   "execution_count": 50,
   "metadata": {},
   "outputs": [],
   "source": [
    "#outb=[bin_events(file_name,'Events2/summary_baryonic.dat') for file_name in glob.glob(\"Events2/mini_baryonic*\")]"
   ]
  },
  {
   "cell_type": "code",
   "execution_count": 14,
   "metadata": {},
   "outputs": [],
   "source": [
    "np.savetxt(\"miniboone_baryonic_binned_kappa_0_alphaprime_0.00001.csv\",outb,delimiter=\" \")"
   ]
  },
  {
   "cell_type": "code",
   "execution_count": 25,
   "metadata": {},
   "outputs": [],
   "source": [
    "np.savetxt(\"miniboone_binned_kappa_0.001_alphaprime_0.5.csv\",out,delimiter=\" \")"
   ]
  },
  {
   "cell_type": "code",
   "execution_count": 20,
   "metadata": {},
   "outputs": [],
   "source": [
    "np.savetxt(\"miniboone_binned_3ratio_2.csv\",outb,delimiter=\" \")"
   ]
  },
  {
   "cell_type": "code",
   "execution_count": 26,
   "metadata": {},
   "outputs": [],
   "source": [
    "np.savetxt(\"miniboone_binned_3ratio_alphaprime_0.5.csv\",out,delimiter=\" \")"
   ]
  },
  {
   "cell_type": "code",
   "execution_count": 6,
   "metadata": {},
   "outputs": [],
   "source": [
    "a=pd.read_csv('Events2/events.dat',header=None,names=[0,1,2,3,4],sep=' ',skipinitialspace=True).values"
   ]
  },
  {
   "cell_type": "code",
   "execution_count": 7,
   "metadata": {},
   "outputs": [],
   "source": [
    "b=pd.read_csv('Events2/summary.dat',header=None,names=range(6),sep=' ',skipinitialspace=True).values"
   ]
  }
 ],
 "metadata": {
  "kernelspec": {
   "display_name": "Python 3",
   "language": "python",
   "name": "python3"
  },
  "language_info": {
   "codemirror_mode": {
    "name": "ipython",
    "version": 3
   },
   "file_extension": ".py",
   "mimetype": "text/x-python",
   "name": "python",
   "nbconvert_exporter": "python",
   "pygments_lexer": "ipython3",
   "version": "3.6.7"
  }
 },
 "nbformat": 4,
 "nbformat_minor": 1
}
