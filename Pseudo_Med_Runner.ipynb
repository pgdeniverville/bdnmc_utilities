{
 "cells": [
  {
   "cell_type": "code",
   "execution_count": 5,
   "metadata": {},
   "outputs": [],
   "source": [
    "import numpy as np\n",
    "import subprocess as subp\n",
    "import matplotlib.pyplot as plt\n",
    "import matplotlib.patches as pat\n",
    "from operator import itemgetter\n",
    "#From http://pdg.lbl.gov/2009/AtomicNuclearProperties/HTML_PAGES/013.html\n",
    "rad_length_Al=0.08897\n",
    "X_Al=24.3\n",
    "N_A=6.02214e23\n",
    "A_Al=26.98\n",
    "rad_length_coef=X_Al*N_A/A_Al\n",
    "pb_to_cm2=10**-36"
   ]
  },
  {
   "cell_type": "code",
   "execution_count": 6,
   "metadata": {},
   "outputs": [],
   "source": [
    "import os"
   ]
  },
  {
   "cell_type": "code",
   "execution_count": 7,
   "metadata": {},
   "outputs": [],
   "source": [
    "def update_param(b,replacement_array):\n",
    "    for i in range(len(b)):\n",
    "        line = b[i].split()\n",
    "        if len(line)<2:\n",
    "            continue\n",
    "        for rep in replacement_array:\n",
    "            if line[0]==rep[0]:\n",
    "                b[i]=line[0]+' '+str(rep[1])+'\\n'\n",
    "    return b"
   ]
  },
  {
   "cell_type": "code",
   "execution_count": 4,
   "metadata": {
    "collapsed": true
   },
   "outputs": [
    {
     "ename": "KeyboardInterrupt",
     "evalue": "",
     "output_type": "error",
     "traceback": [
      "\u001b[0;31m---------------------------------------------------------------------------\u001b[0m",
      "\u001b[0;31mKeyboardInterrupt\u001b[0m                         Traceback (most recent call last)",
      "\u001b[0;32m<ipython-input-4-af7c5a4c0a43>\u001b[0m in \u001b[0;36m<module>\u001b[0;34m()\u001b[0m\n\u001b[1;32m     13\u001b[0m     \u001b[0;32mwith\u001b[0m \u001b[0mopen\u001b[0m\u001b[0;34m(\u001b[0m\u001b[0;34m\"parameter_testing_2.dat\"\u001b[0m\u001b[0;34m,\u001b[0m\u001b[0;34m'w'\u001b[0m\u001b[0;34m)\u001b[0m \u001b[0;32mas\u001b[0m \u001b[0mf\u001b[0m\u001b[0;34m:\u001b[0m\u001b[0;34m\u001b[0m\u001b[0m\n\u001b[1;32m     14\u001b[0m         \u001b[0mf\u001b[0m\u001b[0;34m.\u001b[0m\u001b[0mwritelines\u001b[0m\u001b[0;34m(\u001b[0m\u001b[0mb\u001b[0m\u001b[0;34m)\u001b[0m\u001b[0;34m\u001b[0m\u001b[0m\n\u001b[0;32m---> 15\u001b[0;31m     \u001b[0msubp\u001b[0m\u001b[0;34m.\u001b[0m\u001b[0mcall\u001b[0m\u001b[0;34m(\u001b[0m\u001b[0;34m[\u001b[0m\u001b[0;34m\"./build/main\"\u001b[0m\u001b[0;34m,\u001b[0m \u001b[0;34m\"parameter_testing_2.dat\"\u001b[0m\u001b[0;34m]\u001b[0m\u001b[0;34m)\u001b[0m\u001b[0;34m\u001b[0m\u001b[0m\n\u001b[0m",
      "\u001b[0;32m/usr/lib/python3.6/subprocess.py\u001b[0m in \u001b[0;36mcall\u001b[0;34m(timeout, *popenargs, **kwargs)\u001b[0m\n\u001b[1;32m    267\u001b[0m     \u001b[0;32mwith\u001b[0m \u001b[0mPopen\u001b[0m\u001b[0;34m(\u001b[0m\u001b[0;34m*\u001b[0m\u001b[0mpopenargs\u001b[0m\u001b[0;34m,\u001b[0m \u001b[0;34m**\u001b[0m\u001b[0mkwargs\u001b[0m\u001b[0;34m)\u001b[0m \u001b[0;32mas\u001b[0m \u001b[0mp\u001b[0m\u001b[0;34m:\u001b[0m\u001b[0;34m\u001b[0m\u001b[0m\n\u001b[1;32m    268\u001b[0m         \u001b[0;32mtry\u001b[0m\u001b[0;34m:\u001b[0m\u001b[0;34m\u001b[0m\u001b[0m\n\u001b[0;32m--> 269\u001b[0;31m             \u001b[0;32mreturn\u001b[0m \u001b[0mp\u001b[0m\u001b[0;34m.\u001b[0m\u001b[0mwait\u001b[0m\u001b[0;34m(\u001b[0m\u001b[0mtimeout\u001b[0m\u001b[0;34m=\u001b[0m\u001b[0mtimeout\u001b[0m\u001b[0;34m)\u001b[0m\u001b[0;34m\u001b[0m\u001b[0m\n\u001b[0m\u001b[1;32m    270\u001b[0m         \u001b[0;32mexcept\u001b[0m\u001b[0;34m:\u001b[0m\u001b[0;34m\u001b[0m\u001b[0m\n\u001b[1;32m    271\u001b[0m             \u001b[0mp\u001b[0m\u001b[0;34m.\u001b[0m\u001b[0mkill\u001b[0m\u001b[0;34m(\u001b[0m\u001b[0;34m)\u001b[0m\u001b[0;34m\u001b[0m\u001b[0m\n",
      "\u001b[0;32m/usr/lib/python3.6/subprocess.py\u001b[0m in \u001b[0;36mwait\u001b[0;34m(self, timeout, endtime)\u001b[0m\n\u001b[1;32m   1455\u001b[0m                         \u001b[0;32mif\u001b[0m \u001b[0mself\u001b[0m\u001b[0;34m.\u001b[0m\u001b[0mreturncode\u001b[0m \u001b[0;32mis\u001b[0m \u001b[0;32mnot\u001b[0m \u001b[0;32mNone\u001b[0m\u001b[0;34m:\u001b[0m\u001b[0;34m\u001b[0m\u001b[0m\n\u001b[1;32m   1456\u001b[0m                             \u001b[0;32mbreak\u001b[0m  \u001b[0;31m# Another thread waited.\u001b[0m\u001b[0;34m\u001b[0m\u001b[0m\n\u001b[0;32m-> 1457\u001b[0;31m                         \u001b[0;34m(\u001b[0m\u001b[0mpid\u001b[0m\u001b[0;34m,\u001b[0m \u001b[0msts\u001b[0m\u001b[0;34m)\u001b[0m \u001b[0;34m=\u001b[0m \u001b[0mself\u001b[0m\u001b[0;34m.\u001b[0m\u001b[0m_try_wait\u001b[0m\u001b[0;34m(\u001b[0m\u001b[0;36m0\u001b[0m\u001b[0;34m)\u001b[0m\u001b[0;34m\u001b[0m\u001b[0m\n\u001b[0m\u001b[1;32m   1458\u001b[0m                         \u001b[0;31m# Check the pid and loop as waitpid has been known to\u001b[0m\u001b[0;34m\u001b[0m\u001b[0;34m\u001b[0m\u001b[0m\n\u001b[1;32m   1459\u001b[0m                         \u001b[0;31m# return 0 even without WNOHANG in odd situations.\u001b[0m\u001b[0;34m\u001b[0m\u001b[0;34m\u001b[0m\u001b[0m\n",
      "\u001b[0;32m/usr/lib/python3.6/subprocess.py\u001b[0m in \u001b[0;36m_try_wait\u001b[0;34m(self, wait_flags)\u001b[0m\n\u001b[1;32m   1402\u001b[0m             \u001b[0;34m\"\"\"All callers to this function MUST hold self._waitpid_lock.\"\"\"\u001b[0m\u001b[0;34m\u001b[0m\u001b[0m\n\u001b[1;32m   1403\u001b[0m             \u001b[0;32mtry\u001b[0m\u001b[0;34m:\u001b[0m\u001b[0;34m\u001b[0m\u001b[0m\n\u001b[0;32m-> 1404\u001b[0;31m                 \u001b[0;34m(\u001b[0m\u001b[0mpid\u001b[0m\u001b[0;34m,\u001b[0m \u001b[0msts\u001b[0m\u001b[0;34m)\u001b[0m \u001b[0;34m=\u001b[0m \u001b[0mos\u001b[0m\u001b[0;34m.\u001b[0m\u001b[0mwaitpid\u001b[0m\u001b[0;34m(\u001b[0m\u001b[0mself\u001b[0m\u001b[0;34m.\u001b[0m\u001b[0mpid\u001b[0m\u001b[0;34m,\u001b[0m \u001b[0mwait_flags\u001b[0m\u001b[0;34m)\u001b[0m\u001b[0;34m\u001b[0m\u001b[0m\n\u001b[0m\u001b[1;32m   1405\u001b[0m             \u001b[0;32mexcept\u001b[0m \u001b[0mChildProcessError\u001b[0m\u001b[0;34m:\u001b[0m\u001b[0;34m\u001b[0m\u001b[0m\n\u001b[1;32m   1406\u001b[0m                 \u001b[0;31m# This happens if SIGCLD is set to be ignored or waiting\u001b[0m\u001b[0;34m\u001b[0m\u001b[0;34m\u001b[0m\u001b[0m\n",
      "\u001b[0;31mKeyboardInterrupt\u001b[0m: "
     ]
    }
   ],
   "source": [
    "with open(\"parameter_testing.dat\",'r') as f:\n",
    "    b=f.readlines()\n",
    "amarr=[0.3,0.35,0.4,0.45,0.5,0.55,0.6]\n",
    "dmarr=[0.15,0.2,0.25,0.3]\n",
    "#amarr=[0.0001,0.001,6]\n",
    "#dmarr=[0.25]\n",
    "massarr = [[a,x] for a in amarr for x in dmarr]\n",
    "for marr in massarr:\n",
    "    ma=str(marr[0])\n",
    "    dm=str(marr[1])\n",
    "    rep_arr=[[\"dark_mediator_mass\",ma],[\"dark_matter_mass\",dm],[\"output_file\",\"Events_Pseudo/miniboone_{}_{}.dat\".format(ma,dm)]]\n",
    "    b=update_param(b,rep_arr)\n",
    "    with open(\"parameter_testing_2.dat\",'w') as f:\n",
    "        f.writelines(b)\n",
    "    subp.call([\"./build/main\", \"parameter_testing_2.dat\"])"
   ]
  },
  {
   "cell_type": "code",
   "execution_count": 28,
   "metadata": {},
   "outputs": [
    {
     "name": "stdout",
     "output_type": "stream",
     "text": [
      "[0.002]\n",
      "[0.0021]\n",
      "[0.0022]\n",
      "[0.0023]\n",
      "[0.0024]\n"
     ]
    }
   ],
   "source": [
    "with open(\"run_lsnd_adp.dat\",'r') as f:\n",
    "    b=f.readlines()\n",
    "#dpmarr=[1e-5,1e-4]+[x/1000.0 for x in range(1,30,1)]\n",
    "#dpmarr=[round(x*10**-5,5) for x in range(1,10)]+[round(x*10**-4,4) for x in range(1,26)]\n",
    "#dpmarr=[1e-5,1e-4]+[round(x*1e-4,4) for x in range(8,31)]\n",
    "#dpmarr=[round(x*1e-5,5) for x in range(250,260)]\n",
    "dpmarr=[0.002,0.0021,0.0022,0.0023,0.0024]\n",
    "#amarr=[0.0001,0.001,6]\n",
    "#dmarr=[0.25]\n",
    "massarr = [[a] for a in dpmarr]\n",
    "for marr in massarr:\n",
    "    mdp=str(marr[0])\n",
    "    rep_arr=[[\"dark_photon_mass\",mdp],[\"output_file\",\"Events_ADP_2/lsnd_{}.dat\".format(mdp)]]\n",
    "    b=update_param(b,rep_arr)\n",
    "    with open(\"run_lsnd_adp_2.dat\",'w') as f:\n",
    "        f.writelines(b)\n",
    "    subp.call([\"./build/main\", \"run_lsnd_adp_2.dat\"])\n",
    "    print(marr)"
   ]
  },
  {
   "cell_type": "code",
   "execution_count": 7,
   "metadata": {
    "scrolled": true
   },
   "outputs": [
    {
     "ename": "KeyboardInterrupt",
     "evalue": "",
     "output_type": "error",
     "traceback": [
      "\u001b[0;31m---------------------------------------------------------------------------\u001b[0m",
      "\u001b[0;31mKeyboardInterrupt\u001b[0m                         Traceback (most recent call last)",
      "\u001b[0;32m<ipython-input-7-8fc8212793bb>\u001b[0m in \u001b[0;36m<module>\u001b[0;34m()\u001b[0m\n\u001b[1;32m     13\u001b[0m     \u001b[0;32mwith\u001b[0m \u001b[0mopen\u001b[0m\u001b[0;34m(\u001b[0m\u001b[0;34m\"run_mini_adp_2.dat\"\u001b[0m\u001b[0;34m,\u001b[0m\u001b[0;34m'w'\u001b[0m\u001b[0;34m)\u001b[0m \u001b[0;32mas\u001b[0m \u001b[0mf\u001b[0m\u001b[0;34m:\u001b[0m\u001b[0;34m\u001b[0m\u001b[0m\n\u001b[1;32m     14\u001b[0m         \u001b[0mf\u001b[0m\u001b[0;34m.\u001b[0m\u001b[0mwritelines\u001b[0m\u001b[0;34m(\u001b[0m\u001b[0mb\u001b[0m\u001b[0;34m)\u001b[0m\u001b[0;34m\u001b[0m\u001b[0m\n\u001b[0;32m---> 15\u001b[0;31m     \u001b[0msubp\u001b[0m\u001b[0;34m.\u001b[0m\u001b[0mcall\u001b[0m\u001b[0;34m(\u001b[0m\u001b[0;34m[\u001b[0m\u001b[0;34m\"./build/main\"\u001b[0m\u001b[0;34m,\u001b[0m \u001b[0;34m\"run_mini_adp_2.dat\"\u001b[0m\u001b[0;34m]\u001b[0m\u001b[0;34m)\u001b[0m\u001b[0;34m\u001b[0m\u001b[0m\n\u001b[0m\u001b[1;32m     16\u001b[0m     \u001b[0mprint\u001b[0m\u001b[0;34m(\u001b[0m\u001b[0mmarr\u001b[0m\u001b[0;34m)\u001b[0m\u001b[0;34m\u001b[0m\u001b[0m\n",
      "\u001b[0;32m/usr/lib/python3.6/subprocess.py\u001b[0m in \u001b[0;36mcall\u001b[0;34m(timeout, *popenargs, **kwargs)\u001b[0m\n\u001b[1;32m    267\u001b[0m     \u001b[0;32mwith\u001b[0m \u001b[0mPopen\u001b[0m\u001b[0;34m(\u001b[0m\u001b[0;34m*\u001b[0m\u001b[0mpopenargs\u001b[0m\u001b[0;34m,\u001b[0m \u001b[0;34m**\u001b[0m\u001b[0mkwargs\u001b[0m\u001b[0;34m)\u001b[0m \u001b[0;32mas\u001b[0m \u001b[0mp\u001b[0m\u001b[0;34m:\u001b[0m\u001b[0;34m\u001b[0m\u001b[0m\n\u001b[1;32m    268\u001b[0m         \u001b[0;32mtry\u001b[0m\u001b[0;34m:\u001b[0m\u001b[0;34m\u001b[0m\u001b[0m\n\u001b[0;32m--> 269\u001b[0;31m             \u001b[0;32mreturn\u001b[0m \u001b[0mp\u001b[0m\u001b[0;34m.\u001b[0m\u001b[0mwait\u001b[0m\u001b[0;34m(\u001b[0m\u001b[0mtimeout\u001b[0m\u001b[0;34m=\u001b[0m\u001b[0mtimeout\u001b[0m\u001b[0;34m)\u001b[0m\u001b[0;34m\u001b[0m\u001b[0m\n\u001b[0m\u001b[1;32m    270\u001b[0m         \u001b[0;32mexcept\u001b[0m\u001b[0;34m:\u001b[0m\u001b[0;34m\u001b[0m\u001b[0m\n\u001b[1;32m    271\u001b[0m             \u001b[0mp\u001b[0m\u001b[0;34m.\u001b[0m\u001b[0mkill\u001b[0m\u001b[0;34m(\u001b[0m\u001b[0;34m)\u001b[0m\u001b[0;34m\u001b[0m\u001b[0m\n",
      "\u001b[0;32m/usr/lib/python3.6/subprocess.py\u001b[0m in \u001b[0;36mwait\u001b[0;34m(self, timeout, endtime)\u001b[0m\n\u001b[1;32m   1455\u001b[0m                         \u001b[0;32mif\u001b[0m \u001b[0mself\u001b[0m\u001b[0;34m.\u001b[0m\u001b[0mreturncode\u001b[0m \u001b[0;32mis\u001b[0m \u001b[0;32mnot\u001b[0m \u001b[0;32mNone\u001b[0m\u001b[0;34m:\u001b[0m\u001b[0;34m\u001b[0m\u001b[0m\n\u001b[1;32m   1456\u001b[0m                             \u001b[0;32mbreak\u001b[0m  \u001b[0;31m# Another thread waited.\u001b[0m\u001b[0;34m\u001b[0m\u001b[0m\n\u001b[0;32m-> 1457\u001b[0;31m                         \u001b[0;34m(\u001b[0m\u001b[0mpid\u001b[0m\u001b[0;34m,\u001b[0m \u001b[0msts\u001b[0m\u001b[0;34m)\u001b[0m \u001b[0;34m=\u001b[0m \u001b[0mself\u001b[0m\u001b[0;34m.\u001b[0m\u001b[0m_try_wait\u001b[0m\u001b[0;34m(\u001b[0m\u001b[0;36m0\u001b[0m\u001b[0;34m)\u001b[0m\u001b[0;34m\u001b[0m\u001b[0m\n\u001b[0m\u001b[1;32m   1458\u001b[0m                         \u001b[0;31m# Check the pid and loop as waitpid has been known to\u001b[0m\u001b[0;34m\u001b[0m\u001b[0;34m\u001b[0m\u001b[0m\n\u001b[1;32m   1459\u001b[0m                         \u001b[0;31m# return 0 even without WNOHANG in odd situations.\u001b[0m\u001b[0;34m\u001b[0m\u001b[0;34m\u001b[0m\u001b[0m\n",
      "\u001b[0;32m/usr/lib/python3.6/subprocess.py\u001b[0m in \u001b[0;36m_try_wait\u001b[0;34m(self, wait_flags)\u001b[0m\n\u001b[1;32m   1402\u001b[0m             \u001b[0;34m\"\"\"All callers to this function MUST hold self._waitpid_lock.\"\"\"\u001b[0m\u001b[0;34m\u001b[0m\u001b[0m\n\u001b[1;32m   1403\u001b[0m             \u001b[0;32mtry\u001b[0m\u001b[0;34m:\u001b[0m\u001b[0;34m\u001b[0m\u001b[0m\n\u001b[0;32m-> 1404\u001b[0;31m                 \u001b[0;34m(\u001b[0m\u001b[0mpid\u001b[0m\u001b[0;34m,\u001b[0m \u001b[0msts\u001b[0m\u001b[0;34m)\u001b[0m \u001b[0;34m=\u001b[0m \u001b[0mos\u001b[0m\u001b[0;34m.\u001b[0m\u001b[0mwaitpid\u001b[0m\u001b[0;34m(\u001b[0m\u001b[0mself\u001b[0m\u001b[0;34m.\u001b[0m\u001b[0mpid\u001b[0m\u001b[0;34m,\u001b[0m \u001b[0mwait_flags\u001b[0m\u001b[0;34m)\u001b[0m\u001b[0;34m\u001b[0m\u001b[0m\n\u001b[0m\u001b[1;32m   1405\u001b[0m             \u001b[0;32mexcept\u001b[0m \u001b[0mChildProcessError\u001b[0m\u001b[0;34m:\u001b[0m\u001b[0;34m\u001b[0m\u001b[0m\n\u001b[1;32m   1406\u001b[0m                 \u001b[0;31m# This happens if SIGCLD is set to be ignored or waiting\u001b[0m\u001b[0;34m\u001b[0m\u001b[0;34m\u001b[0m\u001b[0m\n",
      "\u001b[0;31mKeyboardInterrupt\u001b[0m: "
     ]
    }
   ],
   "source": [
    "with open(\"run_mini_adp.dat\",'r') as f:\n",
    "    b=f.readlines()\n",
    "#dpmarr=[1e-5,1e-4]+[0.001]+[x/1000.0 for x in range(5,100,5)]\n",
    "#dpmarr=[1e-5,1e-4]+[round(x*1e-4,4) for x in range(10,50)]\n",
    "dpmarr=[round(x*1e-5,5) for x in range(321,330)]\n",
    "#amarr=[0.0001,0.001,6]\n",
    "#dmarr=[0.25]\n",
    "massarr = [[a] for a in dpmarr]\n",
    "for marr in massarr:\n",
    "    mdp=str(marr[0])\n",
    "    rep_arr=[[\"dark_photon_mass\",mdp],[\"output_file\",\"Events_ADP_2/mini_{}.dat\".format(mdp)]]\n",
    "    b=update_param(b,rep_arr)\n",
    "    with open(\"run_mini_adp_2.dat\",'w') as f:\n",
    "        f.writelines(b)\n",
    "    subp.call([\"./build/main\", \"run_mini_adp_2.dat\"])\n",
    "    print(marr)"
   ]
  },
  {
   "cell_type": "code",
   "execution_count": 10,
   "metadata": {
    "collapsed": true
   },
   "outputs": [
    {
     "name": "stdout",
     "output_type": "stream",
     "text": [
      "[0.002, 0.01]\n",
      "[0.002, 0.006]\n",
      "[0.002, 0.003]\n",
      "[0.002, 0.001]\n",
      "[0.002, 0.0006]\n",
      "[0.002, 0.0003]\n",
      "[0.002, 0.0001]\n",
      "[0.002, 6e-05]\n",
      "[0.002, 3e-05]\n",
      "[0.002, 1e-05]\n",
      "[0.002, 6e-06]\n",
      "[0.002, 3e-06]\n",
      "[0.002, 1e-06]\n",
      "[0.005, 0.01]\n",
      "[0.005, 0.006]\n",
      "[0.005, 0.003]\n",
      "[0.005, 0.001]\n",
      "[0.005, 0.0006]\n",
      "[0.005, 0.0003]\n",
      "[0.005, 0.0001]\n",
      "[0.005, 6e-05]\n",
      "[0.005, 3e-05]\n",
      "[0.005, 1e-05]\n",
      "[0.005, 6e-06]\n",
      "[0.005, 3e-06]\n",
      "[0.005, 1e-06]\n",
      "[0.01, 0.01]\n",
      "[0.01, 0.006]\n",
      "[0.01, 0.003]\n",
      "[0.01, 0.001]\n",
      "[0.01, 0.0006]\n",
      "[0.01, 0.0003]\n",
      "[0.01, 0.0001]\n",
      "[0.01, 6e-05]\n",
      "[0.01, 3e-05]\n",
      "[0.01, 1e-05]\n",
      "[0.01, 6e-06]\n",
      "[0.01, 3e-06]\n",
      "[0.01, 1e-06]\n",
      "[0.02, 0.01]\n",
      "[0.02, 0.006]\n",
      "[0.02, 0.003]\n",
      "[0.02, 0.001]\n",
      "[0.02, 0.0006]\n",
      "[0.02, 0.0003]\n",
      "[0.02, 0.0001]\n",
      "[0.02, 6e-05]\n",
      "[0.02, 3e-05]\n",
      "[0.02, 1e-05]\n",
      "[0.02, 6e-06]\n",
      "[0.02, 3e-06]\n",
      "[0.02, 1e-06]\n",
      "[0.03, 0.01]\n",
      "[0.03, 0.006]\n",
      "[0.03, 0.003]\n",
      "[0.03, 0.001]\n",
      "[0.03, 0.0006]\n",
      "[0.03, 0.0003]\n",
      "[0.03, 0.0001]\n",
      "[0.03, 6e-05]\n",
      "[0.03, 3e-05]\n",
      "[0.03, 1e-05]\n",
      "[0.03, 6e-06]\n",
      "[0.03, 3e-06]\n",
      "[0.03, 1e-06]\n",
      "[0.04, 0.01]\n",
      "[0.04, 0.006]\n",
      "[0.04, 0.003]\n",
      "[0.04, 0.001]\n",
      "[0.04, 0.0006]\n",
      "[0.04, 0.0003]\n",
      "[0.04, 0.0001]\n",
      "[0.04, 6e-05]\n",
      "[0.04, 3e-05]\n",
      "[0.04, 1e-05]\n",
      "[0.04, 6e-06]\n",
      "[0.04, 3e-06]\n",
      "[0.04, 1e-06]\n",
      "[0.05, 0.01]\n",
      "[0.05, 0.006]\n",
      "[0.05, 0.003]\n",
      "[0.05, 0.001]\n",
      "[0.05, 0.0006]\n",
      "[0.05, 0.0003]\n",
      "[0.05, 0.0001]\n",
      "[0.05, 6e-05]\n",
      "[0.05, 3e-05]\n",
      "[0.05, 1e-05]\n",
      "[0.05, 6e-06]\n",
      "[0.05, 3e-06]\n",
      "[0.05, 1e-06]\n",
      "[0.06, 0.01]\n",
      "[0.06, 0.006]\n",
      "[0.06, 0.003]\n",
      "[0.06, 0.001]\n",
      "[0.06, 0.0006]\n",
      "[0.06, 0.0003]\n",
      "[0.06, 0.0001]\n",
      "[0.06, 6e-05]\n",
      "[0.06, 3e-05]\n",
      "[0.06, 1e-05]\n",
      "[0.06, 6e-06]\n",
      "[0.06, 3e-06]\n",
      "[0.06, 1e-06]\n",
      "[0.07, 0.01]\n"
     ]
    },
    {
     "ename": "KeyboardInterrupt",
     "evalue": "",
     "output_type": "error",
     "traceback": [
      "\u001b[0;31m---------------------------------------------------------------------------\u001b[0m",
      "\u001b[0;31mKeyboardInterrupt\u001b[0m                         Traceback (most recent call last)",
      "\u001b[0;32m<ipython-input-10-3a8f22bbb668>\u001b[0m in \u001b[0;36m<module>\u001b[0;34m()\u001b[0m\n\u001b[1;32m     11\u001b[0m     \u001b[0;32mwith\u001b[0m \u001b[0mopen\u001b[0m\u001b[0;34m(\u001b[0m\u001b[0;34m\"run_CHARM_adp_2.dat\"\u001b[0m\u001b[0;34m,\u001b[0m\u001b[0;34m'w'\u001b[0m\u001b[0;34m)\u001b[0m \u001b[0;32mas\u001b[0m \u001b[0mf\u001b[0m\u001b[0;34m:\u001b[0m\u001b[0;34m\u001b[0m\u001b[0m\n\u001b[1;32m     12\u001b[0m         \u001b[0mf\u001b[0m\u001b[0;34m.\u001b[0m\u001b[0mwritelines\u001b[0m\u001b[0;34m(\u001b[0m\u001b[0mb\u001b[0m\u001b[0;34m)\u001b[0m\u001b[0;34m\u001b[0m\u001b[0m\n\u001b[0;32m---> 13\u001b[0;31m     \u001b[0msubp\u001b[0m\u001b[0;34m.\u001b[0m\u001b[0mcall\u001b[0m\u001b[0;34m(\u001b[0m\u001b[0;34m[\u001b[0m\u001b[0;34m\"./build/main\"\u001b[0m\u001b[0;34m,\u001b[0m \u001b[0;34m\"run_CHARM_adp_2.dat\"\u001b[0m\u001b[0;34m]\u001b[0m\u001b[0;34m)\u001b[0m\u001b[0;34m\u001b[0m\u001b[0m\n\u001b[0m\u001b[1;32m     14\u001b[0m     \u001b[0mprint\u001b[0m\u001b[0;34m(\u001b[0m\u001b[0mmarr\u001b[0m\u001b[0;34m)\u001b[0m\u001b[0;34m\u001b[0m\u001b[0m\n",
      "\u001b[0;32m/usr/lib/python3.6/subprocess.py\u001b[0m in \u001b[0;36mcall\u001b[0;34m(timeout, *popenargs, **kwargs)\u001b[0m\n\u001b[1;32m    267\u001b[0m     \u001b[0;32mwith\u001b[0m \u001b[0mPopen\u001b[0m\u001b[0;34m(\u001b[0m\u001b[0;34m*\u001b[0m\u001b[0mpopenargs\u001b[0m\u001b[0;34m,\u001b[0m \u001b[0;34m**\u001b[0m\u001b[0mkwargs\u001b[0m\u001b[0;34m)\u001b[0m \u001b[0;32mas\u001b[0m \u001b[0mp\u001b[0m\u001b[0;34m:\u001b[0m\u001b[0;34m\u001b[0m\u001b[0m\n\u001b[1;32m    268\u001b[0m         \u001b[0;32mtry\u001b[0m\u001b[0;34m:\u001b[0m\u001b[0;34m\u001b[0m\u001b[0m\n\u001b[0;32m--> 269\u001b[0;31m             \u001b[0;32mreturn\u001b[0m \u001b[0mp\u001b[0m\u001b[0;34m.\u001b[0m\u001b[0mwait\u001b[0m\u001b[0;34m(\u001b[0m\u001b[0mtimeout\u001b[0m\u001b[0;34m=\u001b[0m\u001b[0mtimeout\u001b[0m\u001b[0;34m)\u001b[0m\u001b[0;34m\u001b[0m\u001b[0m\n\u001b[0m\u001b[1;32m    270\u001b[0m         \u001b[0;32mexcept\u001b[0m\u001b[0;34m:\u001b[0m\u001b[0;34m\u001b[0m\u001b[0m\n\u001b[1;32m    271\u001b[0m             \u001b[0mp\u001b[0m\u001b[0;34m.\u001b[0m\u001b[0mkill\u001b[0m\u001b[0;34m(\u001b[0m\u001b[0;34m)\u001b[0m\u001b[0;34m\u001b[0m\u001b[0m\n",
      "\u001b[0;32m/usr/lib/python3.6/subprocess.py\u001b[0m in \u001b[0;36mwait\u001b[0;34m(self, timeout, endtime)\u001b[0m\n\u001b[1;32m   1455\u001b[0m                         \u001b[0;32mif\u001b[0m \u001b[0mself\u001b[0m\u001b[0;34m.\u001b[0m\u001b[0mreturncode\u001b[0m \u001b[0;32mis\u001b[0m \u001b[0;32mnot\u001b[0m \u001b[0;32mNone\u001b[0m\u001b[0;34m:\u001b[0m\u001b[0;34m\u001b[0m\u001b[0m\n\u001b[1;32m   1456\u001b[0m                             \u001b[0;32mbreak\u001b[0m  \u001b[0;31m# Another thread waited.\u001b[0m\u001b[0;34m\u001b[0m\u001b[0m\n\u001b[0;32m-> 1457\u001b[0;31m                         \u001b[0;34m(\u001b[0m\u001b[0mpid\u001b[0m\u001b[0;34m,\u001b[0m \u001b[0msts\u001b[0m\u001b[0;34m)\u001b[0m \u001b[0;34m=\u001b[0m \u001b[0mself\u001b[0m\u001b[0;34m.\u001b[0m\u001b[0m_try_wait\u001b[0m\u001b[0;34m(\u001b[0m\u001b[0;36m0\u001b[0m\u001b[0;34m)\u001b[0m\u001b[0;34m\u001b[0m\u001b[0m\n\u001b[0m\u001b[1;32m   1458\u001b[0m                         \u001b[0;31m# Check the pid and loop as waitpid has been known to\u001b[0m\u001b[0;34m\u001b[0m\u001b[0;34m\u001b[0m\u001b[0m\n\u001b[1;32m   1459\u001b[0m                         \u001b[0;31m# return 0 even without WNOHANG in odd situations.\u001b[0m\u001b[0;34m\u001b[0m\u001b[0;34m\u001b[0m\u001b[0m\n",
      "\u001b[0;32m/usr/lib/python3.6/subprocess.py\u001b[0m in \u001b[0;36m_try_wait\u001b[0;34m(self, wait_flags)\u001b[0m\n\u001b[1;32m   1402\u001b[0m             \u001b[0;34m\"\"\"All callers to this function MUST hold self._waitpid_lock.\"\"\"\u001b[0m\u001b[0;34m\u001b[0m\u001b[0m\n\u001b[1;32m   1403\u001b[0m             \u001b[0;32mtry\u001b[0m\u001b[0;34m:\u001b[0m\u001b[0;34m\u001b[0m\u001b[0m\n\u001b[0;32m-> 1404\u001b[0;31m                 \u001b[0;34m(\u001b[0m\u001b[0mpid\u001b[0m\u001b[0;34m,\u001b[0m \u001b[0msts\u001b[0m\u001b[0;34m)\u001b[0m \u001b[0;34m=\u001b[0m \u001b[0mos\u001b[0m\u001b[0;34m.\u001b[0m\u001b[0mwaitpid\u001b[0m\u001b[0;34m(\u001b[0m\u001b[0mself\u001b[0m\u001b[0;34m.\u001b[0m\u001b[0mpid\u001b[0m\u001b[0;34m,\u001b[0m \u001b[0mwait_flags\u001b[0m\u001b[0;34m)\u001b[0m\u001b[0;34m\u001b[0m\u001b[0m\n\u001b[0m\u001b[1;32m   1405\u001b[0m             \u001b[0;32mexcept\u001b[0m \u001b[0mChildProcessError\u001b[0m\u001b[0;34m:\u001b[0m\u001b[0;34m\u001b[0m\u001b[0m\n\u001b[1;32m   1406\u001b[0m                 \u001b[0;31m# This happens if SIGCLD is set to be ignored or waiting\u001b[0m\u001b[0;34m\u001b[0m\u001b[0;34m\u001b[0m\u001b[0m\n",
      "\u001b[0;31mKeyboardInterrupt\u001b[0m: "
     ]
    }
   ],
   "source": [
    "with open(\"run_CHARM_adp.dat\",'r') as f:\n",
    "    b=f.readlines()\n",
    "dpmarr=[2,5,10,20,30,40,50,60,70,80,90,100,110,120,130]\n",
    "g_arr=[1e-2,6e-3,3e-3,1e-3,6e-4,3e-4,1e-4,6e-5,3e-5,1e-5,6e-6,3e-6,1e-6]\n",
    "massarr = [[a/1000.0,b] for a in dpmarr for b in g_arr]\n",
    "for marr in massarr:\n",
    "    mdp=str(marr[0])\n",
    "    gagpg=str(marr[1])\n",
    "    rep_arr=[[\"dark_photon_mass\",mdp],[\"gagpg\",gagpg],[\"output_file\",\"Events_CHARM_ADP_2/CHARM_{}_{}.dat\".format(gagpg,mdp)]]\n",
    "    b=update_param(b,rep_arr)\n",
    "    with open(\"run_CHARM_adp_2.dat\",'w') as f:\n",
    "        f.writelines(b)\n",
    "    subp.call([\"./build/main\", \"run_CHARM_adp_2.dat\"])\n",
    "    print(marr)"
   ]
  },
  {
   "cell_type": "code",
   "execution_count": 11,
   "metadata": {},
   "outputs": [
    {
     "name": "stdout",
     "output_type": "stream",
     "text": [
      "[0.01]\n",
      "[0.015]\n",
      "[0.02]\n",
      "[0.025]\n",
      "[0.03]\n",
      "[0.035]\n",
      "[0.04]\n",
      "[0.045]\n",
      "[0.0525]\n",
      "[0.0575]\n",
      "[0.0625]\n",
      "[0.0675]\n",
      "[0.0725]\n",
      "[0.0775]\n"
     ]
    }
   ],
   "source": [
    "with open(\"run_ship_adp.dat\",'r') as f:\n",
    "    b=f.readlines()\n",
    "#dpmarr=[1e-5,1e-4]+[0.001,0.005,0.01,0.02,0.03,0.04,0.05,0.075,0.1,0.125,0.15,0.175,0.2,0.21,0.22,0.23,0.24,0.25,0.26,0.27,0.28,0.29,0.3]\n",
    "dpmarr=[x/1000.0 for x in range(10,50,5)]+[x/10000.0 for x in range(525,800,50)]\n",
    "#dpmarr=[1e-5,1e-4]+[round(x*1e-4,4) for x in range(10,50)]\n",
    "#dpmarr=[round(x*1e-5,5) for x in range(321,330)]\n",
    "#amarr=[0.0001,0.001,6]\n",
    "#dmarr=[0.25]\n",
    "massarr = [[a] for a in dpmarr]\n",
    "for marr in massarr:\n",
    "    mdp=str(marr[0])\n",
    "    rep_arr=[[\"dark_photon_mass\",mdp],[\"output_file\",\"Events_ship/ship_{}.dat\".format(mdp)]]\n",
    "    b=update_param(b,rep_arr)\n",
    "    with open(\"run_ship_adp_2.dat\",'w') as f:\n",
    "        f.writelines(b)\n",
    "    subp.call([\"./build/main\", \"run_ship_adp_2.dat\"])\n",
    "    print(marr)"
   ]
  },
  {
   "cell_type": "code",
   "execution_count": 12,
   "metadata": {},
   "outputs": [],
   "source": [
    "a=subp.call([\"./build/main\", \"run_CHARM_adp.dat\"])"
   ]
  },
  {
   "cell_type": "code",
   "execution_count": 4,
   "metadata": {},
   "outputs": [],
   "source": [
    "def get_last_event(fp=\"Events_CHARM_ADP_2/CHARM_1.dat\"):\n",
    "    with open(fp) as f:\n",
    "        return float(f.readlines()[-1].split()[7])"
   ]
  },
  {
   "cell_type": "code",
   "execution_count": null,
   "metadata": {},
   "outputs": [],
   "source": [
    "def calc_event_rate(file,mdp_in,gagpg_in):\n",
    "    mdp=str(mdp_in)\n",
    "    gagpg=str(gagpg_in)\n",
    "    rep_arr=[[\"dark_photon_mass\",mdp],[\"gagpg\",gagpg],[\"output_file\",\"Events_CHARM_ADP_2/CHARM_processing.dat\".format(gagpg,mdp)]]\n",
    "    with open(\"run_CHARM_adp_2.dat\",'w') as f:\n",
    "            f.writelines(b)\n",
    "    subp.call([\"./build/main\", \"run_CHARM_adp_2.dat\"])\n",
    "    events"
   ]
  },
  {
   "cell_type": "code",
   "execution_count": null,
   "metadata": {},
   "outputs": [],
   "source": [
    "Event_Cut=2.3\n",
    "with open(\"run_CHARM_adp.dat\",'r') as f:\n",
    "    b=f.readlines()\n",
    "dpmarr=[10,15,20,25,30,40,50,60,70,80,90,100,110,120,130,134,140,150]+[x for x in range(160,220,10)]"
   ]
  },
  {
   "cell_type": "code",
   "execution_count": 10,
   "metadata": {},
   "outputs": [
    {
     "name": "stdout",
     "output_type": "stream",
     "text": [
      "10 0.003 10.8143\n",
      "Hit inflection at 10 0.003\n",
      "10 0.002 301.132\n",
      "10 0.001 2192.85\n",
      "10 0.0006 2499.33\n",
      "10 0.0003 828.905\n",
      "10 0.0002 207.747\n",
      "10 0.0001 26.5653\n",
      "10 6e-05 2.73891\n",
      "10 3e-05 0.0\n",
      "Hit threshold at  10 3e-05\n",
      "15 0.003 0.0\n",
      "15 0.002 0.00509698\n",
      "15 0.001 25.9101\n",
      "Hit inflection at 15 0.001\n",
      "15 0.0006 223.744\n",
      "15 0.0003 497.834\n",
      "15 0.0002 288.792\n",
      "15 0.0001 62.5751\n",
      "15 6e-05 12.6769\n",
      "15 3e-05 0.839623\n",
      "Hit threshold at  15 3e-05\n",
      "20 0.001 0.0286574\n",
      "20 0.0006 4.20875\n",
      "Hit inflection at 20 0.0006\n",
      "20 0.0003 89.1995\n",
      "20 0.0002 120.399\n",
      "20 0.0001 66.5416\n",
      "20 6e-05 21.1824\n",
      "20 3e-05 2.06969\n",
      "20 2e-05 0.511591\n",
      "Hit threshold at  20 2e-05\n",
      "25 0.0006 0.0141458\n",
      "25 0.0003 7.69915\n",
      "Hit inflection at 25 0.0003\n",
      "25 0.0002 35.0887\n",
      "25 0.0001 45.9429\n",
      "25 6e-05 24.6005\n",
      "25 3e-05 2.87042\n",
      "25 2e-05 0.785369\n",
      "Hit threshold at  25 2e-05\n",
      "30 0.0003 0.277767\n",
      "30 0.0002 3.52533\n",
      "Hit inflection at 30 0.0002\n",
      "30 0.0001 27.7864\n",
      "30 6e-05 19.0151\n",
      "30 3e-05 4.15539\n",
      "30 2e-05 1.40975\n",
      "30 1e-05 0.0\n",
      "Hit threshold at  30 1e-05\n",
      "40 0.0002 0.0162413\n",
      "40 0.0001 1.91094\n",
      "Hit inflection at 40 0.0001\n",
      "40 6e-05 5.04091\n",
      "40 3e-05 3.57045\n",
      "40 2e-05 1.84936\n",
      "40 1e-05 0.0\n",
      "Hit threshold at  40 1e-05\n",
      "50 0.0001 0.0491917\n",
      "50 6e-05 0.701218\n",
      "50 3e-05 2.16785\n",
      "Hit inflection at 50 3e-05\n",
      "50 2e-05 1.37143\n",
      "50 1e-05 0.0\n",
      "Hit threshold at  50 1e-05\n",
      "60 3e-05 0.674996\n",
      "60 2e-05 0.802479\n",
      "60 1e-05 0.0\n",
      "60 6e-06 0.0\n",
      "60 3e-06 0.0\n",
      "60 1e-06 0.0\n",
      "No events found!\n"
     ]
    }
   ],
   "source": [
    "threshold=1\n",
    "with open(\"run_CHARM_adp.dat\",'r') as f:\n",
    "    b=f.readlines()\n",
    "#2,3,5,7,\n",
    "\n",
    "#g_arr=[3e-2,2e-2,1e-2,8e-3,6e-3,4.5e-3,3e-3,2e-3,1e-3,8e-4,6e-4,4.5e-4,3e-4,2e-4,1e-4,8e-5,6e-5,4.5e-5,3e-5,2e-5,1e-5]\n",
    "#1e-2,6e-3,\n",
    "g_arr=[3e-3,2e-3,1e-3,6e-4,3e-4,2e-4,1e-4,6e-5,3e-5,2e-5,1e-5,6e-6,3e-6,1e-6]\n",
    "jmin=0\n",
    "for i in range(len(dpmarr)):\n",
    "    mdp=str(dpmarr[i]/1000.0)\n",
    "    inflection_switch = False\n",
    "    for j in range(jmin,len(g_arr)):\n",
    "        gagpg = str(g_arr[j])\n",
    "        rep_arr=[[\"dark_photon_mass\",mdp],[\"gagpg\",gagpg],[\"output_file\",\"Events_CHARM_ADP_2/CHARM_{}_{}.dat\".format(gagpg,mdp)]]\n",
    "        b=update_param(b,rep_arr)\n",
    "        with open(\"run_CHARM_adp_2.dat\",'w') as f:\n",
    "            f.writelines(b)\n",
    "        subp.call([\"./build/main\", \"run_CHARM_adp_2.dat\"])\n",
    "        events=get_last_event(fp=\"Events_CHARM_ADP_2/CHARM_1.dat\")\n",
    "        print(dpmarr[i],g_arr[j],events)\n",
    "        if events>threshold and not inflection_switch:\n",
    "            inflection_switch = True\n",
    "            jmin=j\n",
    "            print(\"Hit inflection at\",dpmarr[i],g_arr[j])\n",
    "        elif events<threshold and inflection_switch:\n",
    "            print(\"Hit threshold at \",dpmarr[i],g_arr[j])\n",
    "            break\n",
    "    if not inflection_switch:\n",
    "        print(\"No events found!\")\n",
    "        break"
   ]
  },
  {
   "cell_type": "code",
   "execution_count": 32,
   "metadata": {},
   "outputs": [
    {
     "name": "stdout",
     "output_type": "stream",
     "text": [
      "1 2 3\n"
     ]
    }
   ],
   "source": [
    "print(1,2,3)"
   ]
  },
  {
   "cell_type": "code",
   "execution_count": 86,
   "metadata": {},
   "outputs": [],
   "source": [
    "file_list=['data/E137/'+i for i in lst[0][2]]"
   ]
  },
  {
   "cell_type": "code",
   "execution_count": 87,
   "metadata": {},
   "outputs": [],
   "source": [
    "for file in file_list:\n",
    "    with open(file) as f:\n",
    "        tst=f.readlines()\n",
    "    for i in range(len(tst)):\n",
    "        tst[i]=tst[i].replace(\"\\t\",\" \")\n",
    "    with open(file,'w') as f:\n",
    "        f.writelines(tst)"
   ]
  },
  {
   "cell_type": "code",
   "execution_count": 73,
   "metadata": {},
   "outputs": [
    {
     "data": {
      "text/plain": [
       "[('data/E137',\n",
       "  [],\n",
       "  ['E137_alist_mdp100mev_ma0mev.dat',\n",
       "   'E137_alist_mdp500mev_ma0mev.dat',\n",
       "   'E137_dplist_mdp500mev_ma0mev.dat',\n",
       "   'E137_dplist_mdp10mev_ma0mev.dat',\n",
       "   'E137_dplist_mdp50mev_ma0mev.dat',\n",
       "   'E137_dplist_mdp200mev_ma0mev.dat',\n",
       "   'E137_alist_mdp200mev_ma0mev.dat',\n",
       "   'E137_dplist_mdp1gev_ma0mev.dat',\n",
       "   'E137_alist_mdp50mev_ma0mev.dat',\n",
       "   'E137_dplist_mdp100mev_ma0mev.dat',\n",
       "   'E137_dplist_mdp20mev_ma0mev.dat',\n",
       "   'E137_alist_mdp1gev_ma0mev.dat',\n",
       "   'E137_alist_mdp20mev_ma0mev.dat',\n",
       "   'E137_alist_mdp10mev_ma0mev.dat'])]"
      ]
     },
     "execution_count": 73,
     "metadata": {},
     "output_type": "execute_result"
    }
   ],
   "source": []
  },
  {
   "cell_type": "code",
   "execution_count": 88,
   "metadata": {},
   "outputs": [],
   "source": [
    "def e137_arr_prepend(dp_list,a_list,num_per_pot):\n",
    "    return([\"production_channel brem_dp\\n\", \n",
    "\"production_distribution particle_list\\n\", \n",
    " \"particle_list_file {}\\n\".format(dp_list),\"num_per_pot {}\\n\".format(num_per_pot), \n",
    "\"\\nproduction_channel brem_axion\\n\", \"production_distribution particle_list\\n\",\n",
    " \"particle_list_file {}\\n\".format(a_list),\n",
    " \"num_per_pot {}\\n\\n\".format(num_per_pot)])"
   ]
  },
  {
   "cell_type": "code",
   "execution_count": null,
   "metadata": {},
   "outputs": [],
   "source": [
    "with open(\"run_e137_adp_run2.dat\",'r') as f2:\n",
    "    b2=f2.readlines()\n",
    "with open(\"run_e137_adp_run1.dat\",'r') as f1:\n",
    "    b1=f1.readlines()\n",
    "#dpmarr=[0.01,0.02,0.05,0.1,0.2,0.5,1]\n",
    "dpmarr=[0.01]\n",
    "#amarr=[0.0001,0.001,6]\n",
    "#dmarr=[0.25]\n",
    "massarr = [[a] for a in dpmarr]\n",
    "gagpg = 1e-2\n",
    "for marr in massarr:\n",
    "    mdp=marr[0]\n",
    "    ma=0\n",
    "    dplist='data/E137/E137_dplist_mdp{}mev_ma{}mev.dat'.format(round(mdp*1000),ma)\n",
    "    alist='data/E137/E137_alist_mdp{}mev_ma{}mev.dat'.format(round(mdp*1000),ma)\n",
    "    numperpot=0;\n",
    "    with open(dplist) as l:\n",
    "        numperpot=float(l.readline().split('#')[1].split('\\n')[0])*pb_to_cm2*gagpg**2*rad_length_coef;\n",
    "    rep_arr=[[\"dark_photon_mass\",mdp],[\"output_file\",\"Events_ADP/e137r2_{}.dat\".format(mdp)]]\n",
    "    b2=e137_arr_prepend(dplist,alist,numperpot)+update_param(b2,rep_arr)\n",
    "    rep_arr=[[\"dark_photon_mass\",mdp],[\"output_file\",\"Events_ADP/e137r1_{}.dat\".format(mdp)]]\n",
    "    b1=e137_arr_prepend(dplist,alist,numperpot)+update_param(b1,rep_arr)\n",
    "    with open(\"run_e137_adp_run2b.dat\",'w') as f:\n",
    "        print(b2)\n",
    "        f.writelines(b2)\n",
    "    with open(\"run_e137_adp_run1b.dat\",'w') as f:\n",
    "        f.writelines(b1)\n",
    "    subp.call([\"./build/main\", \"run_e137_adp_run2b.dat\"])\n",
    "    subp.call([\"./build/main\", \"run_e137_adp_run1b.dat\"])\n",
    "    print(marr)"
   ]
  },
  {
   "cell_type": "code",
   "execution_count": 43,
   "metadata": {},
   "outputs": [],
   "source": [
    "b=update_param(b,rep_arr)"
   ]
  },
  {
   "cell_type": "code",
   "execution_count": 19,
   "metadata": {},
   "outputs": [],
   "source": [
    "c[1]=0.3"
   ]
  },
  {
   "cell_type": "code",
   "execution_count": 20,
   "metadata": {},
   "outputs": [
    {
     "data": {
      "text/plain": [
       "['dark_matter_mass', 0.3]"
      ]
     },
     "execution_count": 20,
     "metadata": {},
     "output_type": "execute_result"
    }
   ],
   "source": [
    "c"
   ]
  },
  {
   "cell_type": "code",
   "execution_count": 23,
   "metadata": {},
   "outputs": [
    {
     "data": {
      "text/plain": [
       "'dark_matter_mass 0.3'"
      ]
     },
     "execution_count": 23,
     "metadata": {},
     "output_type": "execute_result"
    }
   ],
   "source": [
    "c[0]+' '+str(c[1])"
   ]
  },
  {
   "cell_type": "code",
   "execution_count": 17,
   "metadata": {},
   "outputs": [],
   "source": [
    "def gen_dm_dist(fp,out,nbins=20,plot_title=''):\n",
    "    with open(fp,\"r\") as l:\n",
    "        dat=l.read().splitlines()\n",
    "        summary = dat[-1].split()\n",
    "        print(summary)\n",
    "        dat=dat[:-2]\n",
    "        energy=[float(line.split()[2]) for line in dat]\n",
    "        fig1, ax = plt.subplots()\n",
    "        hist,bins=np.histogram(energy,nbins)\n",
    "        hist=hist*float(summary[-1])*float(summary[-3])/float(summary[-2])\n",
    "        bin_centers=(bins[:-1]+bins[1:])/2\n",
    "        bin_widths = (bins[:-1]-bins[1:])\n",
    "        plt.bar(bin_centers,hist,bin_widths,edgecolor='black')\n",
    "        plt.ylabel('Neutrino Intersections',fontsize=13)\n",
    "        plt.xlabel('Neutrino Energy (GeV)',fontsize=13)\n",
    "        if plot_title != '':\n",
    "            plt.title(plot_title,fontsize=13)\n",
    "        plt.xlim(bins[0],bins[-1])\n",
    "        plt.tight_layout()\n",
    "        plt.savefig(out)\n",
    "        plt.show()"
   ]
  },
  {
   "cell_type": "code",
   "execution_count": 24,
   "metadata": {},
   "outputs": [
    {
     "name": "stdout",
     "output_type": "stream",
     "text": [
      "['Total', '781625', '1.6e+21', '4.82814e+18', '100000', '0.107842']\n"
     ]
    },
    {
     "data": {
      "image/png": "[encoded data removed]",
      "text/plain": [
       "<matplotlib.figure.Figure at 0x7ff57271c550>"
      ]
     },
     "metadata": {},
     "output_type": "display_data"
    }
   ],
   "source": [
    "gen_dm_dist(\"Events_Pseudo_2/miniboone_0.05_0.95_ma10mev.dat\",\"ma10mevwide.pdf\",nbins=50,plot_title='$m_a$=10 MeV $z\\in [0.05,0.95]$')"
   ]
  },
  {
   "cell_type": "code",
   "execution_count": 22,
   "metadata": {},
   "outputs": [
    {
     "name": "stdout",
     "output_type": "stream",
     "text": [
      "['Total', '1005024', '1.6e+21', '1.56452e+18', '100000', '0.0795896']\n"
     ]
    },
    {
     "data": {
      "image/png": "[encoded data removed]",
      "text/plain": [
       "<matplotlib.figure.Figure at 0x7ff572725b38>"
      ]
     },
     "metadata": {},
     "output_type": "display_data"
    }
   ],
   "source": [
    "gen_dm_dist(\"Events_Pseudo_2/miniboone_0.3_0.7_ma10mev.dat\",\"ma10mevnarrow.pdf\",nbins=50,plot_title='$m_a$=10 MeV $z\\in [0.3,0.7]$')"
   ]
  },
  {
   "cell_type": "code",
   "execution_count": 23,
   "metadata": {},
   "outputs": [
    {
     "name": "stdout",
     "output_type": "stream",
     "text": [
      "['Total', '722010', '1.6e+21', '4.82068e+18', '100000', '0.0745495']\n"
     ]
    },
    {
     "data": {
      "image/png": "[encoded data removed]",
      "text/plain": [
       "<matplotlib.figure.Figure at 0x7ff5a2763ef0>"
      ]
     },
     "metadata": {},
     "output_type": "display_data"
    }
   ],
   "source": [
    "gen_dm_dist(\"Events_Pseudo_2/miniboone_0.05_0.95_ma50mev.dat\",\"ma50mevwide.pdf\",nbins=50,plot_title='$m_a$=50 MeV $z\\in [0.05,0.95]$')"
   ]
  },
  {
   "cell_type": "code",
   "execution_count": 26,
   "metadata": {},
   "outputs": [
    {
     "name": "stdout",
     "output_type": "stream",
     "text": [
      "['Total', '882306', '1.6e+21', '4.82846e+18', '100000', '0.111443']\n"
     ]
    },
    {
     "data": {
      "image/png": "[encoded data removed]",
      "text/plain": [
       "<matplotlib.figure.Figure at 0x7ff56e51b6d8>"
      ]
     },
     "metadata": {},
     "output_type": "display_data"
    }
   ],
   "source": [
    "gen_dm_dist(\"Events_Pseudo_2/miniboone_0.05_0.95.dat\",\"ma1mevwide.pdf\",nbins=50,plot_title='$m_a$=1 MeV $z\\in [0.05,0.95]$')"
   ]
  },
  {
   "cell_type": "code",
   "execution_count": null,
   "metadata": {},
   "outputs": [],
   "source": []
  }
 ],
 "metadata": {
  "kernelspec": {
   "display_name": "Python 3",
   "language": "python",
   "name": "python3"
  },
  "language_info": {
   "codemirror_mode": {
    "name": "ipython",
    "version": 3
   },
   "file_extension": ".py",
   "mimetype": "text/x-python",
   "name": "python",
   "nbconvert_exporter": "python",
   "pygments_lexer": "ipython3",
   "version": "3.7.5"
  }
 },
 "nbformat": 4,
 "nbformat_minor": 2
}
