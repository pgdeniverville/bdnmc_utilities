{
 "cells": [
  {
   "cell_type": "code",
   "execution_count": 1,
   "metadata": {},
   "outputs": [],
   "source": [
    "import numpy as np\n",
    "import os\n",
    "import math"
   ]
  },
  {
   "cell_type": "code",
   "execution_count": 2,
   "metadata": {},
   "outputs": [],
   "source": [
    "def mom(arr):\n",
    "    return math.sqrt(arr[3]**2+arr[1]**2+arr[2]**2)\n",
    "    \n",
    "def theta(arr):\n",
    "    return math.acos(arr[3]/mom(arr))\n",
    "\n",
    "def phi(arr):\n",
    "    return math.atan(arr[0]/arr[1])\n",
    "\n",
    "def cos_theta(arr):\n",
    "    return arr[3]/mom(arr)\n",
    "\n",
    "def theta_dif(arr1,arr2):\n",
    "    return math.acos(dp(arr1[1:4],arr2[1:4])/mom(arr1)/mom(arr2))\n",
    "\n",
    "#Expect each element of arr to be 4 elements. Expects px py pz E.\n",
    "def invariant_mass(arr):\n",
    "    tot = [0,0,0,0]\n",
    "    for line in arr:\n",
    "        for i in range(4):\n",
    "            tot[i]+=line[i]\n",
    "    return tot[0]**2-tot[3]**2-tot[1]**2-tot[2]**2\n",
    "\n",
    "def cos_angle_between(arr1,arr2):\n",
    "    return (arr1[3]*arr2[3]+arr1[1]*arr2[1]+arr1[2]*arr2[2])/mom(arr1)/mom(arr2)"
   ]
  },
  {
   "cell_type": "code",
   "execution_count": 3,
   "metadata": {},
   "outputs": [],
   "source": [
    "def dp(a1,a2):\n",
    "    tot=0\n",
    "    for i in range(len(a1)):\n",
    "        tot+=a1[i]*a2[i]\n",
    "    return tot\n",
    "def sub(a1,a2):\n",
    "    return [a1[i]-a2[i] for i in range(len(a1))]\n",
    "def add(a1,a2):\n",
    "    return [a1[i]+a2[i] for i in range(len(a1))]\n",
    "def mul(c,a1):\n",
    "    return [c*a1[i] for i in range(len(a1))]\n",
    "def plane_cross(p,o,r,n):\n",
    "    bot=dp(n,p)\n",
    "    if bot == 0:\n",
    "        return -1\n",
    "    a = dp(n,sub(r,o))/bot\n",
    "    R=sub(r,add(o,mul(a,p)))\n",
    "    return dp(R,R)**0.5"
   ]
  },
  {
   "cell_type": "code",
   "execution_count": 4,
   "metadata": {},
   "outputs": [],
   "source": [
    "def record_list(outfile,data):\n",
    "    with open(outfile,'w') as w:\n",
    "        for line in data:\n",
    "            tmpstr=\"\"\n",
    "            for elem in line:\n",
    "                tmpstr+=str(elem)+' '\n",
    "            tmpstr=tmpstr[:-1]\n",
    "            tmpstr+='\\n'\n",
    "            w.write(tmpstr)"
   ]
  },
  {
   "cell_type": "code",
   "execution_count": 5,
   "metadata": {},
   "outputs": [],
   "source": [
    "def Event_Parser(event_file, cut):\n",
    "    with open(event_file) as ef:\n",
    "        dat=ef.read().splitlines()\n",
    "        run_num=''\n",
    "        for line in dat:\n",
    "            line=line.split()\n",
    "            if len(line)==2 and line[0]==\"Run\":\n",
    "                run_num=line[1]                \n",
    "                break\n",
    "    dat2 = [line.split() for line in dat]\n",
    "    sum_line= dat2[-1]\n",
    "    electron = [[float(line[i]) for i in range(1,len(line))] for line in dat2 if len(line)>1 and line[0]=='electron']\n",
    "    mv = sum_line[1]\n",
    "    mx = sum_line[2]\n",
    "    nevents = float(sum_line[3])\n",
    "    POT = float(sum_line[7])\n",
    "    alpha_D=float(sum_line[4])\n",
    "    eps=float(sum_line[5])\n",
    "    \n",
    "    return [float(mv),float(mx),nevents*cut(electron,POT),alpha_D,eps,sum_line]"
   ]
  },
  {
   "cell_type": "code",
   "execution_count": 6,
   "metadata": {},
   "outputs": [],
   "source": [
    "def CHARM2_cut(data,POT):\n",
    "    charm2_cut=[theta(line)**2*line[3] for line in data]\n",
    "    cha_pas=0\n",
    "    for i in charm2_cut:\n",
    "        if i<0.001:\n",
    "            cha_pas+=1\n",
    "    \n",
    "    charm2_pot=2.5e19\n",
    "    if cha_pas is 0:\n",
    "        charm2_eff=0\n",
    "    else:\n",
    "        charm2_eff=charm2_pot/POT*cha_pas/len(charm2_cut)\n",
    "     \n",
    "    return charm2_eff"
   ]
  },
  {
   "cell_type": "code",
   "execution_count": 7,
   "metadata": {},
   "outputs": [],
   "source": [
    "def Minerva_cut(data,POT):\n",
    "    minerva_cut = [theta(line)**2*line[3] for line in data]\n",
    "    min_pas=0\n",
    "    for i in minerva_cut:\n",
    "        if i<0.0032:\n",
    "            min_pas+=1\n",
    "\n",
    "    minerva_POT=3.43e20\n",
    "    if min_pas is 0:\n",
    "        minerva_eff=0\n",
    "    else:\n",
    "        minerva_eff=minerva_POT/POT*min_pas/len(minerva_cut)\n",
    "        \n",
    "    return minerva_eff"
   ]
  },
  {
   "cell_type": "code",
   "execution_count": 8,
   "metadata": {},
   "outputs": [],
   "source": [
    "def NOvA_cut(data,POT):\n",
    "    nova_cut = [theta(line)**2*line[3] for line in data]\n",
    "    nov_pas=0\n",
    "    for i in nova_cut:\n",
    "        if i<0.005:\n",
    "            nov_pas+=1\n",
    "\n",
    "    nov_POT=2.97e20\n",
    "    if nov_pas is 0:\n",
    "        nova_eff=0\n",
    "    else:\n",
    "        nova_eff=nov_POT/POT*nov_pas/len(nova_cut)\n",
    "        \n",
    "    return nova_eff"
   ]
  },
  {
   "cell_type": "code",
   "execution_count": 7,
   "metadata": {},
   "outputs": [],
   "source": [
    "def bebc_cut(data,POT):\n",
    "    bebc_cut=[[line[3],theta(line)**2*line[3]] for line in data]\n",
    "    beb_pas=0\n",
    "    for i in bebc_cut:\n",
    "        if i[0]>0.5 and i[1]<2*511e-6:\n",
    "            beb_pas+=1\n",
    "    \n",
    "    #bebc_pot=2.5e19\n",
    "    if beb_pas == 0:\n",
    "        bebc_eff=0\n",
    "    else:\n",
    "        bebc_eff=beb_pas/len(bebc_cut)\n",
    "     \n",
    "    return bebc_eff"
   ]
  },
  {
   "cell_type": "code",
   "execution_count": 10,
   "metadata": {},
   "outputs": [],
   "source": [
    "mini_numi_angle=0.10472\n",
    "mini_cos_cut=0.99;\n",
    "mini_POT=6e20\n",
    "mnx=math.sin(mini_numi_angle);mny=0;mnz=math.cos(mini_numi_angle)\n",
    "mini_arr=[0,mnx,mny,mnz]\n",
    "def mini_numi_cut(data,POT):\n",
    "    mini_cut=[cos_angle_between(x,mini_arr) for x in data]\n",
    "    mini_pas=0\n",
    "    for i in mini_cut:\n",
    "        if i>mini_cos_cut:\n",
    "            mini_pas+=1\n",
    "\n",
    "    if mini_POT is 0:\n",
    "        mini_eff=0\n",
    "    else:\n",
    "        mini_eff=mini_POT/POT*mini_pas/len(mini_cut)\n",
    "    \n",
    "    return mini_eff"
   ]
  },
  {
   "cell_type": "code",
   "execution_count": 11,
   "metadata": {},
   "outputs": [],
   "source": [
    "def Intersection_Parser(event_file):\n",
    "    with open(event_file) as ef:\n",
    "        dat=ef.read().splitlines()\n",
    "        Total_Line=''\n",
    "        for line in dat:\n",
    "            line=line.split()\n",
    "            if line[0]==\"Total\":\n",
    "                Total_Line=line\n",
    "                break\n",
    "    dat2 = [line.split() for line in dat]\n",
    "    mass=dat2[1][7]\n",
    "    Total_Line=Total_Line+[mass]\n",
    "    dat2 = [Total_Line]+dat2[:-1]\n",
    "    return dat2"
   ]
  },
  {
   "cell_type": "code",
   "execution_count": 12,
   "metadata": {},
   "outputs": [],
   "source": [
    "def Clean_Event_File(event_file):\n",
    "    with open(event_file) as ef:\n",
    "        dat=ef.read().splitlines()\n",
    "    dat2 = [line.split() for line in dat]\n",
    "    Total_Line=dat2[-1]\n",
    "    dat2 = [Total_Line]+dat2[:-1]\n",
    "    return dat2"
   ]
  },
  {
   "cell_type": "code",
   "execution_count": 11,
   "metadata": {},
   "outputs": [
    {
     "ename": "FileNotFoundError",
     "evalue": "[Errno 2] No such file or directory: '~/Code/cpp/bdnmc_events/BEBC/RUN_2'",
     "output_type": "error",
     "traceback": [
      "\u001b[0;31m---------------------------------------------------------------------------\u001b[0m",
      "\u001b[0;31mFileNotFoundError\u001b[0m                         Traceback (most recent call last)",
      "\u001b[0;32m<ipython-input-11-d363fec06f85>\u001b[0m in \u001b[0;36m<module>\u001b[0;34m\u001b[0m\n\u001b[0;32m----> 1\u001b[0;31m \u001b[0mfile_list\u001b[0m\u001b[0;34m=\u001b[0m\u001b[0mnp\u001b[0m\u001b[0;34m.\u001b[0m\u001b[0msort\u001b[0m\u001b[0;34m(\u001b[0m\u001b[0mos\u001b[0m\u001b[0;34m.\u001b[0m\u001b[0mlistdir\u001b[0m\u001b[0;34m(\u001b[0m\u001b[0;34m\"~/Code/cpp/bdnmc_events/BEBC/RUN_2\"\u001b[0m\u001b[0;34m)\u001b[0m\u001b[0;34m)\u001b[0m\u001b[0;34m\u001b[0m\u001b[0;34m\u001b[0m\u001b[0m\n\u001b[0m",
      "\u001b[0;31mFileNotFoundError\u001b[0m: [Errno 2] No such file or directory: '~/Code/cpp/bdnmc_events/BEBC/RUN_2'"
     ]
    }
   ],
   "source": [
    "file_list=np.sort(os.listdir(\"~/Code/cpp/bdnmc_events/BEBC/RUN_2\"))"
   ]
  },
  {
   "cell_type": "code",
   "execution_count": 39,
   "metadata": {},
   "outputs": [
    {
     "data": {
      "text/plain": [
       "array(['DUNE_HPg.dat', 'DUNE_HPg_1000_0.001.dat',\n",
       "       'DUNE_HPg_100_0.001.dat', 'DUNE_HPg_200_0.001.dat',\n",
       "       'DUNE_HPg_300_0.001.dat', 'DUNE_HPg_400_0.001.dat',\n",
       "       'DUNE_HPg_500_0.001.dat', 'DUNE_HPg_50_0.001.dat',\n",
       "       'DUNE_HPg_600_0.001.dat', 'DUNE_HPg_800_0.001.dat',\n",
       "       'numi_YuDai.dat', 'numi_YuDai_decay_Events_1000_1e-08.dat',\n",
       "       'numi_YuDai_decay_Events_100_1e-08.dat',\n",
       "       'numi_YuDai_decay_Events_1250_1e-08.dat',\n",
       "       'numi_YuDai_decay_Events_1500_1e-08.dat',\n",
       "       'numi_YuDai_decay_Events_2000_1e-08.dat',\n",
       "       'numi_YuDai_decay_Events_200_1e-08.dat',\n",
       "       'numi_YuDai_decay_Events_300_1e-08.dat',\n",
       "       'numi_YuDai_decay_Events_500_1e-08.dat',\n",
       "       'numi_YuDai_decay_Events_50_1e-08.dat',\n",
       "       'numi_YuDai_decay_Events_700_1e-08.dat',\n",
       "       'numi_YuDai_decay_Events_900_1e-08.dat'], dtype='<U38')"
      ]
     },
     "execution_count": 39,
     "metadata": {},
     "output_type": "execute_result"
    }
   ],
   "source": [
    "file_list=[x for x in file_list if x.count(\"minerva_\")>0]"
   ]
  },
  {
   "cell_type": "code",
   "execution_count": 41,
   "metadata": {},
   "outputs": [],
   "source": [
    "file_list=np.sort(os.listdir(\"Decay_Events/\"))\n",
    "file_list=[x for x in file_list if x.count(\"DUNE_HPg_\")>0]\n",
    "eventlist=[Intersection_Parser('Decay_Events/'+file) for file in file_list[:]]\n",
    "#np.savetxt(\"minerva_events.dat\",eventlist)"
   ]
  },
  {
   "cell_type": "code",
   "execution_count": 19,
   "metadata": {},
   "outputs": [],
   "source": [
    "file_list=np.sort(os.listdir(\"Claudia/\"))\n",
    "file_list=[x for x in file_list if x.count(\"charm2_\")>0]\n",
    "charm2eventlist=[Event_Parser('Claudia/'+file,CHARM2_cut) for file in file_list[:]]\n",
    "#record_list(\"Claudia/charm2elec.dat\",eventlist)\n",
    "#np.savetxt(\"charm2_events.dat\",eventlist)"
   ]
  },
  {
   "cell_type": "code",
   "execution_count": 20,
   "metadata": {},
   "outputs": [],
   "source": [
    "tot_tab=[]\n",
    "for x in charm2eventlist:\n",
    "    x[-1][3]=x[2]*1\n",
    "    x[-1][0]=\"Total\"\n",
    "    tot_tab+=[x[-1]]\n",
    "record_list(\"Claudia/charm2elec.dat\",tot_tab)      "
   ]
  },
  {
   "cell_type": "code",
   "execution_count": 14,
   "metadata": {},
   "outputs": [],
   "source": [
    "file_list=np.sort(os.listdir(\"Claudia/\"))\n",
    "file_list=[x for x in file_list if x.count(\"bebc_\")>0]\n",
    "bebceventlist=[Event_Parser('Claudia/'+file,bebc_cut) for file in file_list[:]]"
   ]
  },
  {
   "cell_type": "code",
   "execution_count": 15,
   "metadata": {},
   "outputs": [],
   "source": [
    "tot_tab=[]\n",
    "for x in bebceventlist:\n",
    "    x[-1][3]=x[2]*1\n",
    "    x[-1][0]=\"Total\"\n",
    "    tot_tab+=[x[-1]]\n",
    "record_list(\"Claudia/bebcelec.dat\",tot_tab)"
   ]
  },
  {
   "cell_type": "code",
   "execution_count": 40,
   "metadata": {},
   "outputs": [],
   "source": [
    "file_list=np.sort(os.listdir(\"Claudia_MB_Numi/\"))\n",
    "file_list=[x for x in file_list if x.count(\"MB_Numi_scatter\")>0]\n",
    "mbeventlist=[Event_Parser('Claudia_MB_Numi/'+file,mini_numi_cut) for file in file_list[:]]"
   ]
  },
  {
   "cell_type": "code",
   "execution_count": 41,
   "metadata": {},
   "outputs": [],
   "source": [
    "tot_tab=[]\n",
    "for x in mbeventlist:\n",
    "    x[-1][3]=x[2]*0.35\n",
    "    x[-1][0]=\"Total\"\n",
    "    tot_tab+=[x[-1]]\n",
    "record_list(\"Claudia_MB_Numi/numi_elec_sum.dat\",tot_tab)"
   ]
  },
  {
   "cell_type": "code",
   "execution_count": 29,
   "metadata": {},
   "outputs": [],
   "source": [
    "file_list=np.sort(os.listdir(\"Claudia/\"))\n",
    "file_list=[x for x in file_list if x.count(\"minerva_\")>0]\n",
    "minervaeventlist=[Event_Parser('Claudia/'+file,Minerva_cut) for file in file_list[:]]"
   ]
  },
  {
   "cell_type": "code",
   "execution_count": 31,
   "metadata": {},
   "outputs": [],
   "source": [
    "tot_tab=[]\n",
    "for x in minervaeventlist:\n",
    "    x[-1][3]=x[2]*0.709\n",
    "    x[-1][0]=\"Total\"\n",
    "    tot_tab+=[x[-1]]\n",
    "record_list(\"Claudia/minerva_elec.dat\",tot_tab)"
   ]
  },
  {
   "cell_type": "code",
   "execution_count": 32,
   "metadata": {},
   "outputs": [],
   "source": [
    "file_list=np.sort(os.listdir(\"Claudia/\"))\n",
    "file_list=[x for x in file_list if x.count(\"nova_\")>0]\n",
    "novaeventlist=[Event_Parser('Claudia/'+file,NOvA_cut) for file in file_list[:]]"
   ]
  },
  {
   "cell_type": "code",
   "execution_count": 33,
   "metadata": {},
   "outputs": [],
   "source": [
    "tot_tab=[]\n",
    "for x in novaeventlist:\n",
    "    x[-1][3]=x[2]*0.5\n",
    "    x[-1][0]=\"Total\"\n",
    "    tot_tab+=[x[-1]]\n",
    "record_list(\"Claudia/nova_elec.dat\",tot_tab)"
   ]
  },
  {
   "cell_type": "code",
   "execution_count": 70,
   "metadata": {},
   "outputs": [],
   "source": [
    "file_list=np.sort(os.listdir(\"Decay_Events_2/\"))\n",
    "file_list=[x for x in file_list if x.count(\"DUNE_HPg_\")>0]\n",
    "eventlist=[Clean_Event_File('Decay_Events_2/'+file) for file in file_list[:]]\n",
    "#np.savetxt(\"minerva_events.dat\",eventlist)"
   ]
  },
  {
   "cell_type": "code",
   "execution_count": 71,
   "metadata": {},
   "outputs": [],
   "source": [
    "for i in range(len(file_list)):\n",
    "    record_list('YuDai_project/DUNE_decays/'+file_list[i],eventlist[i])"
   ]
  },
  {
   "cell_type": "code",
   "execution_count": 9,
   "metadata": {},
   "outputs": [],
   "source": [
    "meta=0.547862"
   ]
  },
  {
   "cell_type": "code",
   "execution_count": 10,
   "metadata": {},
   "outputs": [],
   "source": [
    "charm2_file=np.loadtxt(\"data/particle_list_charm2.dat\");\n",
    "charm2_file=charm2_file[:100000]"
   ]
  },
  {
   "cell_type": "code",
   "execution_count": 13,
   "metadata": {},
   "outputs": [],
   "source": [
    "charm2_file_eta=[[x[0],x[1],x[2],math.sqrt(x[0]**2+x[1]**2+x[2]**2+meta**2)] for x in charm2_file];"
   ]
  },
  {
   "cell_type": "code",
   "execution_count": 18,
   "metadata": {},
   "outputs": [
    {
     "data": {
      "text/plain": [
       "0.5478620000001176"
      ]
     },
     "execution_count": 18,
     "metadata": {},
     "output_type": "execute_result"
    }
   ],
   "source": [
    "math.sqrt(charm2_file_eta[1][3]**2-charm2_file_eta[1][0]**2-charm2_file_eta[1][2]**2-charm2_file_eta[1][1]**2)"
   ]
  },
  {
   "cell_type": "code",
   "execution_count": 14,
   "metadata": {},
   "outputs": [],
   "source": [
    "np.savetxt(\"charm2_eta.dat\",charm2_file_eta)"
   ]
  },
  {
   "cell_type": "code",
   "execution_count": null,
   "metadata": {},
   "outputs": [],
   "source": []
  }
 ],
 "metadata": {
  "kernelspec": {
   "display_name": "Python 3",
   "language": "python",
   "name": "python3"
  },
  "language_info": {
   "codemirror_mode": {
    "name": "ipython",
    "version": 3
   },
   "file_extension": ".py",
   "mimetype": "text/x-python",
   "name": "python",
   "nbconvert_exporter": "python",
   "pygments_lexer": "ipython3",
   "version": "3.9.5"
  }
 },
 "nbformat": 4,
 "nbformat_minor": 2
}
