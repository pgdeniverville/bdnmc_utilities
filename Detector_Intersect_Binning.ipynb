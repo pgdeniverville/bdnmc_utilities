{
 "cells": [
  {
   "cell_type": "code",
   "execution_count": 1,
   "metadata": {},
   "outputs": [],
   "source": [
    "import pandas as pd\n",
    "import numpy as np\n",
    "import glob\n",
    "import math"
   ]
  },
  {
   "cell_type": "code",
   "execution_count": 2,
   "metadata": {},
   "outputs": [],
   "source": [
    "bins=[float(x) for x in range(0,150,5)]"
   ]
  },
  {
   "cell_type": "code",
   "execution_count": 3,
   "metadata": {},
   "outputs": [],
   "source": [
    "bins=[float(x) for x in range(0,150,2)]"
   ]
  },
  {
   "cell_type": "code",
   "execution_count": 4,
   "metadata": {},
   "outputs": [],
   "source": [
    "bin_widths=np.array([bins[i]-bins[i-1] for i in range(1,len(bins))])"
   ]
  },
  {
   "cell_type": "code",
   "execution_count": 4,
   "metadata": {},
   "outputs": [],
   "source": [
    "file_name=\"Claudia_Events/dm_dist_300_100.0_100_0.dat\""
   ]
  },
  {
   "cell_type": "code",
   "execution_count": 91,
   "metadata": {},
   "outputs": [],
   "source": [
    "test_arr=pd.read_csv(file_name,sep=' ',\n",
    "            header=None).values[:,2]"
   ]
  },
  {
   "cell_type": "code",
   "execution_count": 54,
   "metadata": {},
   "outputs": [],
   "source": [
    "energies=test_arr[:,2]"
   ]
  },
  {
   "cell_type": "code",
   "execution_count": 55,
   "metadata": {},
   "outputs": [],
   "source": [
    "vals,ebins=np.histogram(energies,bins=bins)"
   ]
  },
  {
   "cell_type": "code",
   "execution_count": 70,
   "metadata": {},
   "outputs": [],
   "source": [
    "vals_normed=vals/bin_widths"
   ]
  },
  {
   "cell_type": "code",
   "execution_count": 68,
   "metadata": {},
   "outputs": [],
   "source": [
    "mv,mx,dist,angle=file_name.split('_')[3:]\n",
    "angle=angle.split(\".dat\")[0]"
   ]
  },
  {
   "cell_type": "code",
   "execution_count": 18,
   "metadata": {},
   "outputs": [],
   "source": [
    "summary_file=\"Claudia_Events5/minos_abs_claudia_test.dat\""
   ]
  },
  {
   "cell_type": "code",
   "execution_count": 19,
   "metadata": {},
   "outputs": [],
   "source": [
    "event_file_list=set(glob.glob(\"Claudia_Events5/minos_abs_dm_dist*\"))"
   ]
  },
  {
   "cell_type": "code",
   "execution_count": 43,
   "metadata": {},
   "outputs": [],
   "source": [
    "summary_file=\"Claudia_Events5/minos_claudia_test.dat\"\n",
    "\n",
    "event_file_list=set(glob.glob(\"Claudia_Events5/minos_dm_dist*\"))"
   ]
  },
  {
   "cell_type": "code",
   "execution_count": 52,
   "metadata": {},
   "outputs": [],
   "source": [
    "summary_file=\"Claudia_Events5/nova_abs_claudia_test.dat\"\n",
    "\n",
    "event_file_list=set(glob.glob(\"Claudia_Events5/nova_abs_dm_dist*\"))"
   ]
  },
  {
   "cell_type": "code",
   "execution_count": 61,
   "metadata": {},
   "outputs": [],
   "source": [
    "summary_file=\"Claudia_Events5/nova_claudia_test.dat\"\n",
    "\n",
    "event_file_list=set(glob.glob(\"Claudia_Events5/nova_dm_dist*\"))"
   ]
  },
  {
   "cell_type": "code",
   "execution_count": 5,
   "metadata": {},
   "outputs": [],
   "source": [
    "summary_file=\"Claudia_Events/OPERA_claudia_test.dat\"\n",
    "\n",
    "event_file_list=set(glob.glob(\"Claudia_Events/OPERA_dm_dist*\"))"
   ]
  },
  {
   "cell_type": "code",
   "execution_count": 7,
   "metadata": {},
   "outputs": [],
   "source": [
    "def bin_events(event_file_list,filepath,summary_file,scaling=1.0):\n",
    "    #files = dict()\n",
    "    #for f in event_file_list:\n",
    "    #    files[float(fs.readline().split()[1])] = f\n",
    "    sum_csv = pd.read_csv(summary_file,header=None,names=range(11),\n",
    "                          sep=' ', skipinitialspace=True).values\n",
    "\n",
    "    for i in xrange(len(sum_csv)):\n",
    "        if sum_csv[i,0] != 'Run':\n",
    "            continue\n",
    "        else:\n",
    "            run_name = filepath+sum_csv[i,1]\n",
    "        if run_name not in event_file_list:\n",
    "            continue\n",
    "        sum_num=0;\n",
    "        MV=0;\n",
    "        MX=0;\n",
    "        angle=0\n",
    "        dist=0\n",
    "        tot=0;\n",
    "        alpha_b=0;\n",
    "        for j in xrange(i,len(sum_csv)):\n",
    "            if sum_csv[j,0]==\"Total\":\n",
    "                sum_num = sum_csv[j,3]\n",
    "                MV = sum_csv[j,1]\n",
    "                MX = sum_csv[j,2]\n",
    "                tot = sum_csv[j,8]\n",
    "                alpha_b = sum_csv[j,5]\n",
    "                mv,mx,dist,angle=run_name.split('_')[-4:]\n",
    "                angle=angle.split(\".dat\")[0]\n",
    "                if float(mv)/1000.0 != float(MV):\n",
    "                    print(\"Consistency fail \" + str(float(mv)/1000.0) + \" \" + run_name)\n",
    "                #print(sum_num,MV,MX)\n",
    "                break\n",
    "        \n",
    "        energies=pd.read_csv(run_name,header=None,\n",
    "                              sep=' ',skipinitialspace=True).values[:,2]\n",
    "\n",
    "        evals,ebins = np.histogram(energies,bins=bins)\n",
    "        \n",
    "        evals = evals/bin_widths\n",
    "        try:\n",
    "            scale = tot/float(sum_num)/scaling\n",
    "        except ZeroDivisionError:\n",
    "            print run_name\n",
    "            scale = 1.0\n",
    "        yield np.append([MV,MX,dist,angle,alpha_b],evals*scale)"
   ]
  },
  {
   "cell_type": "code",
   "execution_count": 24,
   "metadata": {},
   "outputs": [],
   "source": [
    "generator = bin_events(event_file_list,\"Claudia_Events/\",summary_file,scaling=100)"
   ]
  },
  {
   "cell_type": "code",
   "execution_count": 25,
   "metadata": {},
   "outputs": [],
   "source": [
    "outb = [x for x in generator] "
   ]
  },
  {
   "cell_type": "code",
   "execution_count": 26,
   "metadata": {},
   "outputs": [],
   "source": [
    "outb2=np.array(outb,dtype='float32')"
   ]
  },
  {
   "cell_type": "code",
   "execution_count": 27,
   "metadata": {},
   "outputs": [],
   "source": [
    "titles=[\"M_A(GeV)\",\"M_DM(GeV)\",\"Distance(m)\",\"Angle(Degrees)\",\"alpha_B\"]"
   ]
  },
  {
   "cell_type": "code",
   "execution_count": 28,
   "metadata": {},
   "outputs": [],
   "source": [
    "header=np.concatenate((titles,bins[:-1]))"
   ]
  },
  {
   "cell_type": "code",
   "execution_count": 29,
   "metadata": {},
   "outputs": [],
   "source": [
    "output=pd.DataFrame(data=outb,columns=header);"
   ]
  },
  {
   "cell_type": "code",
   "execution_count": 30,
   "metadata": {},
   "outputs": [],
   "source": [
    "output.to_csv(\"OPERA_sample_distributions.csv\",index=False)"
   ]
  },
  {
   "cell_type": "code",
   "execution_count": null,
   "metadata": {},
   "outputs": [],
   "source": []
  }
 ],
 "metadata": {
  "kernelspec": {
   "display_name": "Python 3",
   "language": "python",
   "name": "python3"
  },
  "language_info": {
   "codemirror_mode": {
    "name": "ipython",
    "version": 3
   },
   "file_extension": ".py",
   "mimetype": "text/x-python",
   "name": "python",
   "nbconvert_exporter": "python",
   "pygments_lexer": "ipython3",
   "version": "3.9.5"
  }
 },
 "nbformat": 4,
 "nbformat_minor": 1
}
