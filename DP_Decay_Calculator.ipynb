{
 "cells": [
  {
   "cell_type": "code",
   "execution_count": 1,
   "metadata": {},
   "outputs": [],
   "source": [
    "import parser_funcs\n",
    "import numpy as np\n",
    "import os\n",
    "import math\n",
    "from scipy.special import kn\n",
    "from scipy.interpolate import interp1d\n",
    "from scipy.interpolate import SmoothBivariateSpline\n",
    "from scipy.optimize import brentq\n",
    "from scipy.integrate import quad\n",
    "from scipy.interpolate import griddata\n",
    "from scipy.optimize import minimize_scalar\n",
    "from scipy.optimize import root_scalar\n",
    "import sys\n",
    "import glob\n",
    "import random\n",
    "#import matplotlib.pyplot as plt"
   ]
  },
  {
   "cell_type": "code",
   "execution_count": 2,
   "metadata": {},
   "outputs": [],
   "source": [
    "#Units\n",
    "gev=1;mev=1e-3*gev;kev=1e-6*gev;\n",
    "\n",
    "#constants\n",
    "hbar=float(1.054*1e-34/(1.6e-19)/(1e9));\n",
    "speed_of_light=3e8;conversion=hbar**2*speed_of_light**2;\n",
    "alpha_em=1.0/137.035999074;\n",
    "\n",
    "#masses\n",
    "mp=0.938272046*gev;melec=511*kev;mmuon=105.658*mev;\n",
    "mpi=134.9767*mev;mpip=139.57018*mev;mkaon=0.493667*gev;\n",
    "mj_psi=3.097*gev;"
   ]
  },
  {
   "cell_type": "code",
   "execution_count": 3,
   "metadata": {},
   "outputs": [],
   "source": [
    "def mom(arr):\n",
    "    return math.sqrt(arr[3]**2+arr[1]**2+arr[2]**2)\n",
    "    \n",
    "def theta(arr):\n",
    "    return math.acos(arr[3]/mom(arr))\n",
    "\n",
    "def phi(arr):\n",
    "    return math.atan(arr[0]/arr[1])\n",
    "\n",
    "def cos_theta(arr):\n",
    "    return arr[3]/mom(arr)\n",
    "\n",
    "def theta_dif(arr1,arr2):\n",
    "    return math.acos(dp(arr1[1:4],arr2[1:4])/mom(arr1)/mom(arr2))\n",
    "\n",
    "#Expect each element of arr to be 4 elements. Expects px py pz E.\n",
    "def invariant_mass(arr):\n",
    "    tot = [0,0,0,0]\n",
    "    for line in arr:\n",
    "        for i in range(4):\n",
    "            tot[i]+=line[i]\n",
    "    return tot[0]**2-tot[3]**2-tot[1]**2-tot[2]**2\n",
    "\n",
    "def cos_angle_between(arr1,arr2):\n",
    "    return (arr1[3]*arr2[3]+arr1[1]*arr2[1]+arr1[2]*arr2[2])/mom(arr1)/mom(arr2)"
   ]
  },
  {
   "cell_type": "code",
   "execution_count": 4,
   "metadata": {},
   "outputs": [],
   "source": [
    "def momvec(arr):\n",
    "    return [arr[1],arr[2],arr[3]]\n",
    "def startvec(arr):\n",
    "    return [arr[5],arr[6],arr[7]]\n",
    "def decaypoint(arr):\n",
    "    return math.sqrt(arr[9]**2+arr[10]**2+arr[11]**2)\n",
    "def dp(a1,a2):\n",
    "    tot=0\n",
    "    for i in range(len(a1)):\n",
    "        tot+=a1[i]*a2[i]\n",
    "    return tot\n",
    "def veclen(a1):\n",
    "    return dp(a1,a1)**0.5\n",
    "def sub(a1,a2):\n",
    "    return [a1[i]-a2[i] for i in range(len(a1))]\n",
    "def add(a1,a2):\n",
    "    return [a1[i]+a2[i] for i in range(len(a1))]\n",
    "def mul(c,a1):\n",
    "    return [c*a1[i] for i in range(len(a1))]\n",
    "def plane_cross(p,o,r,n):\n",
    "    bot=dp(n,p)\n",
    "    if bot == 0:\n",
    "        return -1\n",
    "    a = dp(n,sub(r,o))/bot\n",
    "    point = add(o,mul(a,p))\n",
    "    R=sub(r,point)\n",
    "    return point,dp(R,R)**0.5"
   ]
  },
  {
   "cell_type": "code",
   "execution_count": 5,
   "metadata": {},
   "outputs": [],
   "source": [
    "def record_list(outfile,data):\n",
    "    with open(outfile,'w') as w:\n",
    "        for line in data:\n",
    "            tmpstr=\"\"\n",
    "            for elem in line:\n",
    "                tmpstr+=str(elem)+' '\n",
    "            tmpstr=tmpstr[:-1]\n",
    "            tmpstr+='\\n'\n",
    "            w.write(tmpstr)\n",
    "def append_list(outfile,data):\n",
    "    with open(outfile,'a') as w:\n",
    "        for line in data:\n",
    "            tmpstr=\"\"\n",
    "            for elem in line:\n",
    "                tmpstr+=str(elem)+' '\n",
    "            tmpstr=tmpstr[:-1]\n",
    "            tmpstr+='\\n'\n",
    "            w.write(tmpstr)"
   ]
  },
  {
   "cell_type": "code",
   "execution_count": 27,
   "metadata": {},
   "outputs": [],
   "source": [
    "def format_rratio(rratio):\n",
    "    for line in rratio:\n",
    "        linearr=line.split()\n",
    "        if len(linearr)>=14:\n",
    "            try:\n",
    "                yield [float(linearr[0]),float(linearr[3])]\n",
    "            except ValueError:\n",
    "                continue\n",
    "\n",
    "with open('data/rratio_raw.dat','r') as infile:\n",
    "    rratio1=infile.read()\n",
    "    \n",
    "rratio_rough = rratio1.splitlines()\n",
    "rratio_clean=np.array(list(format_rratio(rratio_rough)),dtype=float)\n",
    "f_rratio = interp1d(rratio_clean[:,0],rratio_clean[:,1])\n",
    "def rratio(s):\n",
    "    if s<rratio_clean[0,0]:\n",
    "        return 0\n",
    "    else:\n",
    "        return f_rratio(s)"
   ]
  },
  {
   "cell_type": "code",
   "execution_count": 26,
   "metadata": {},
   "outputs": [],
   "source": [
    "def GammaV(kappa, mv, alpha_p=0, mx=100):\n",
    "    term = 0;\n",
    "    if mv>2*mx:\n",
    "        term += alpha_p*(mv*mv-4*mx*mx)*math.sqrt(mv*mv/4.0-mx*mx)\n",
    "    if mv>2*melec:\n",
    "        term += 4*pow(kappa,2)*alpha_em*(2*pow(melec,2)+mv*mv)*math.sqrt(mv*mv/4.0-pow(melec,2))\n",
    "    if mv>2*mmuon:\n",
    "        term += 4*pow(kappa,2)*alpha_em*(2*pow(mmuon,2)+mv*mv)*math.sqrt(mv*mv/4.0-pow(mmuon,2))*(1+rratio(mv))\n",
    "    return 1.0/(6.0*mv*mv)*(term)"
   ]
  },
  {
   "cell_type": "code",
   "execution_count": 8,
   "metadata": {},
   "outputs": [],
   "source": [
    "def Gamma_V_to_ll(kappa, mv, ml, alpha_p=0, mx=100):\n",
    "    if mv>2*ml:\n",
    "        return 4*pow(kappa,2)*alpha_em*(2*pow(ml,2)+mv*mv)*math.sqrt(mv*mv/4.0-pow(ml,2))/(6.0*mv*mv)\n",
    "    else:\n",
    "        return 0\n",
    "def Br_V_to_leptons(kappa,mv,alpha_p=0,mx=100):\n",
    "    GV=GammaV(kappa, mv, alpha_p=alpha_p, mx=mx)\n",
    "    if GV<=0:\n",
    "        return 0\n",
    "    return (Gamma_V_to_ll(kappa,mv,melec,alpha_p=alpha_p,mx=mx)+Gamma_V_to_ll(kappa,mv,mmuon,alpha_p=alpha_p,mx=mx))/GammaV(kappa, mv, alpha_p=alpha_p, mx=mx)"
   ]
  },
  {
   "cell_type": "code",
   "execution_count": 9,
   "metadata": {},
   "outputs": [],
   "source": [
    "#l_i = dist_i/speed_of_light/lifetime*mass\n",
    "def dec_prob(l1,l2,momentum):\n",
    "    return math.exp(-l1/momentum)*(1-math.exp(-l2/momentum))\n",
    "def calc_mean_events(dat,dist,eps,epset,mv,events):\n",
    "    if GammaV(eps,mv) <= 0:\n",
    "        return 0.0\n",
    "    lifetime = hbar/GammaV(eps,mv)\n",
    "    l1 = dist/speed_of_light/lifetime*mv\n",
    "    l2 = 1.0/speed_of_light/lifetime*mv\n",
    "    tot=0\n",
    "    for u in dat:\n",
    "        tot+=dec_prob(l1,u[2]*l2,u[0])\n",
    "    return tot/len(dat)*events*(eps/epset)**2"
   ]
  },
  {
   "cell_type": "code",
   "execution_count": 10,
   "metadata": {},
   "outputs": [],
   "source": [
    "def process_infile_data(file,cut):\n",
    "    with open(file) as infile:\n",
    "        dat = infile.read()\n",
    "        dat = dat.splitlines()\n",
    "        sumline = dat[-1].split()\n",
    "        dat = dat[:-1]\n",
    "        dat = [u.split() for u in dat]\n",
    "        tot=len(dat)\n",
    "        dat = cut(dat)\n",
    "        dat = [[float(u[4]),float(u[5]),float(u[6]),float(u[3]),float(u[1])] for u in dat]\n",
    "        dat = [[math.sqrt(u[0]**2+u[1]**2+u[2]**2),u[3],u[4]] for u in dat]\n",
    "        mv = float(sumline[1])\n",
    "        eps = float(sumline[4])\n",
    "        intersects=len(dat)/tot*float(sumline[-1])*float(sumline[-3])\n",
    "        return(mv,eps,intersects,dat)"
   ]
  },
  {
   "cell_type": "code",
   "execution_count": 11,
   "metadata": {},
   "outputs": [],
   "source": [
    "nucal_dist=64;nucal_eff=0.7;\n",
    "#nucal_evnt=4.4894\n",
    "nucal_evnt=7.28\n",
    "def nucal_cut(dat):\n",
    "    return [u for u in dat if float(u[3])>3]\n",
    "def nucal_cut_2(dat):\n",
    "    return [u for u in dat if float(u[3])>10]"
   ]
  },
  {
   "cell_type": "code",
   "execution_count": 12,
   "metadata": {},
   "outputs": [],
   "source": [
    "def calc_params_nucal(file):\n",
    "    mv,eps_eval,events,dat=process_infile_data(file,nucal_cut)\n",
    "    #if mv>0.8:\n",
    "    #    return [mv,-1,-1]\n",
    "    evnt_rate = lambda eps : -1.0*calc_mean_events(dat,nucal_dist,10**eps,eps_eval,mv,events*nucal_eff*Br_V_to_leptons(eps,mv))\n",
    "    diff_from_evnt = lambda eps : abs(evnt_rate(eps)+nucal_evnt)\n",
    "    opt=minimize_scalar(evnt_rate,bounds=(-8,-3),method='bounded',options={'maxiter':500})\n",
    "    if opt.fun>-nucal_evnt:\n",
    "        return [mv,-1,-1]\n",
    "    x=10\n",
    "    opt2=minimize_scalar(diff_from_evnt,bounds=(-8,opt.x),method='bounded',options={'maxiter':500})\n",
    "    opt3=minimize_scalar(diff_from_evnt,bounds=(opt.x,opt.x+1),method='bounded',options={'maxiter':500})\n",
    "    if opt3.fun > 0.1:\n",
    "        return [mv,10**opt2.x,-1]\n",
    "    return [mv,10**opt2.x,10**opt3.x]"
   ]
  },
  {
   "cell_type": "code",
   "execution_count": 52,
   "metadata": {},
   "outputs": [],
   "source": [
    "def Event_Parser(event_file, cut):\n",
    "    with open(event_file) as ef:\n",
    "        dat=ef.read().splitlines()\n",
    "        run_num=''\n",
    "        for line in dat:\n",
    "            line=line.split()\n",
    "            if len(line)==2 and line[0]==\"Run\":\n",
    "                run_num=line[1]                \n",
    "                break\n",
    "    dat2 = [line.split() for line in dat]\n",
    "    sum_line= dat2[-1]\n",
    "    weight_tab=[float(line[2]) for line in dat2 if len(line)==3 and line[0]==\"event\"]\n",
    "    dp_tab=[[float(line[i]) for i in range(1,len(line))] for line in dat2 if len(line)>1\\\n",
    "                and line[0]=='Dark_Photon']\n",
    "    lep = [[float(line[i]) for i in range(1,len(line))]+[line[0]] for line in dat2 if len(line)>1\\\n",
    "                and (line[0]=='Electron' or line[0]=='Muon' or line[0]=='Hadronic_Stuff')]\n",
    "    antilep = [[float(line[i]) for i in range(1,len(line))]+[line[0]] for line in dat2 if len(line)>1 and (line[0]=='Positron' or line[0]=='Anti-muon' or line[0]=='Hadronic_Stuff')]\n",
    "    mv = float(sum_line[2])\n",
    "    nevents = float(sum_line[1])\n",
    "    POT = float(sum_line[7])\n",
    "    alpha_D=float(sum_line[5])\n",
    "    eps=float(sum_line[4])\n",
    "    dp_lifetime=hbar/GammaV(eps,mv)\n",
    "    eff=float(sum_line[8])\n",
    "    nevents,weight_tab,dp_tab,lep_tab,antilep_tab=cut(nevents,weight_tab,dp_tab,lep,antilep)\n",
    "    return [float(mv),alpha_D,eps,eff,dp_lifetime,nevents,weight_tab,dp_tab,lep,antilep]"
   ]
  },
  {
   "cell_type": "code",
   "execution_count": 14,
   "metadata": {},
   "outputs": [],
   "source": [
    "#l_i = dist_i/speed_of_light/lifetime*mass\n",
    "def dec_prob(l1,l2):\n",
    "    return math.exp(-l1)-math.exp(-l2)\n",
    "def dec_loc(l1,l2):\n",
    "    try:\n",
    "        return -math.log(math.exp(-l1)-random.random()*(math.exp(-l1)-math.exp(-l2)))\n",
    "    except:\n",
    "        return l1\n",
    "def solve_dec_loc(l1,l2,pos):\n",
    "    return (10**pos-math.exp(-l1))/(math.exp(-l2)-math.exp(-l1))\n",
    "def dec_loc_set(l1,l2,pos):\n",
    "    try:\n",
    "        return -math.log(math.exp(-l1)-pos*(math.exp(-l1)-math.exp(-l2)))\n",
    "    except:\n",
    "        return l1\n",
    "def Return_True(dat,dm,lep,alep,mx2,l):\n",
    "    return True\n",
    "def Rescale_Events(dat,dp,lep,alep,mv,lifetime,tot_weight,eps,epset,events,cut,state=None):\n",
    "    if state is not None:\n",
    "        random.setstate(state)\n",
    "    prob=0\n",
    "    life=lifetime*(epset/eps)**2\n",
    "    l=1.0/speed_of_light/life*mv\n",
    "    for i,u in enumerate(dat):\n",
    "        ptmp=dec_prob(u[1]*l/u[0],u[2]*l/u[0])\n",
    "        if cut(u,dp[i],lep[i],alep[i],mv,l):\n",
    "            prob+=ptmp\n",
    "        else:\n",
    "            continue\n",
    "    return prob/tot_weight*events*(eps/epset)**2"
   ]
  },
  {
   "cell_type": "code",
   "execution_count": 59,
   "metadata": {},
   "outputs": [],
   "source": [
    "def calc_params(file,evnt,cut,cut2=Return_True):\n",
    "    try:\n",
    "        mv,alpha_D,eps_eval,eff,lifetime,nevents,weight_tab,dp_dat,lep,alep=Event_Parser(file,cut)\n",
    "    except:\n",
    "        print(\"Exception\", file)\n",
    "        return [-1,-1,-1]\n",
    "    if nevents==0:\n",
    "        return [-1,-1,-1]\n",
    "    dat = [[mom(u),u[14],u[15]] for u in dp_dat]\n",
    "    tot_weight=0\n",
    "    for i in weight_tab:\n",
    "        tot_weight+=i\n",
    "    state=random.getstate()\n",
    "    evnt_rate = lambda eps : -1.0*Rescale_Events(dat,dp_dat,lep,alep,mv,lifetime,tot_weight,10**eps,eps_eval,nevents,cut2,state=state)\n",
    "    diff_from_evnt = lambda eps : abs(evnt_rate(eps)+evnt)\n",
    "    diff_from_evnt_2 = lambda eps : evnt-Rescale_Events(dat,dp_dat,lep,alep,mv,lifetime,tot_weight,eps,eps_eval,nevents,cut2,state=state)\n",
    "    opt=minimize_scalar(evnt_rate,bounds=(-10,0),method='bounded')\n",
    "    if opt.fun>-evnt:\n",
    "        return [mv,-1,-1]\n",
    "    \n",
    "    opt2=minimize_scalar(diff_from_evnt,bounds=(-10,opt.x),method='bounded')\n",
    "\n",
    "    x=opt.x\n",
    "    xstep=0.1\n",
    "    while diff_from_evnt_2(10**x)<0:\n",
    "        x+=xstep\n",
    "    \n",
    "    sol = root_scalar(diff_from_evnt_2, bracket=[10**(x-xstep), 10**x], method='brentq')    \n",
    "    \n",
    "    return [mv,10**opt2.x,sol.root]"
   ]
  },
  {
   "cell_type": "code",
   "execution_count": 50,
   "metadata": {},
   "outputs": [],
   "source": [
    "NA62_energy_cut=3\n",
    "NA62_efficiency=1\n",
    "NA62_evnt=2.3\n",
    "NA62_KLR=[0,0,217]\n",
    "NA62_n=[0,0,1]\n",
    "NA62_pot_suppression=1.3e16/1e18\n",
    "leph=[]\n",
    "aleph=[]\n",
    "wh=[]\n",
    "def NA62_Cut(nevents,weight_tab,dp_tab,lep_tab,antilep_tab):\n",
    "    pass_index=[]\n",
    "    #print(len(lep_tab),len(weight_tab))\n",
    "    for i in range(len(weight_tab)):\n",
    "        if lep_tab[i][-1]==\"Hadronic_Stuff\":\n",
    "            continue\n",
    "        energy = lep_tab[i][0]+antilep_tab[i][0]\n",
    "        if energy>NA62_energy_cut:\n",
    "            pointl,Rl=plane_cross(momvec(lep_tab[i]),startvec(lep_tab[i]),NA62_KLR,NA62_n)\n",
    "            #print(pointl,Rl)\n",
    "            pointa,Ra=plane_cross(momvec(antilep_tab[i]),startvec(antilep_tab[i]),NA62_KLR,NA62_n)\n",
    "            #print(pointa,Ra,veclen(sub(pointl,pointa)))\n",
    "            if Ra>0.15 and Rl>0.15 and Ra<1 and Rl<1 and veclen(sub(pointl,pointa))>0.1:\n",
    "                pass_index.append(i)\n",
    "    nevents*=len(pass_index)/len(weight_tab)*NA62_efficiency\n",
    "    weight_tab = [weight_tab[i] for i in pass_index]\n",
    "    dp_tab = [dp_tab[i] for i in pass_index]\n",
    "    lep_tab = [lep_tab[i] for i in pass_index]\n",
    "    antilep_tab = [antilep_tab[i] for i in pass_index]\n",
    "    return nevents,weight_tab,dp_tab,lep_tab,antilep_tab"
   ]
  },
  {
   "cell_type": "code",
   "execution_count": 17,
   "metadata": {},
   "outputs": [],
   "source": [
    "#Taking advantage of the fact that I can only have one dm2 decay per event.\n",
    "CHARM_energy_cut=3\n",
    "charm_evnt=2.3;\n",
    "CHARM_efficiency=0.6\n",
    "charm_n=[0,0,1]\n",
    "charm_det=[5,0,497.5]\n",
    "def CHARM_Cut(nevents,weight_tab,dm2_tab,lep_tab,antilep_tab):\n",
    "    pass_index=[]\n",
    "    for i in range(len(weight_tab)):\n",
    "        if lep_tab[i][-1]==\"Hadronic_Stuff\":\n",
    "            continue\n",
    "        energy=lep_tab[i][0]+antilep_tab[i][0]\n",
    "        if energy>CHARM_energy_cut:\n",
    "            pointl,Rl=plane_cross(momvec(lep_tab[i]),startvec(lep_tab[i]),charm_det,charm_n)\n",
    "            if abs(pointl[0]-5)>3 or abs(pointl[1])>3:\n",
    "                continue\n",
    "            pointa,Ra=plane_cross(momvec(antilep_tab[i]),startvec(antilep_tab[i]),charm_det,charm_n)\n",
    "            if abs(pointa[0]-5)>3 or abs(pointa[1])>3:\n",
    "                continue\n",
    "            pass_index.append(i)\n",
    "    nevents*=len(pass_index)/len(weight_tab)*CHARM_efficiency\n",
    "    weight_tab = [weight_tab[i] for i in pass_index]\n",
    "    dm2_tab = [dm2_tab[i] for i in pass_index]\n",
    "    lep_tab = [lep_tab[i] for i in pass_index]\n",
    "    antilep_tab = [antilep_tab[i] for i in pass_index]\n",
    "    return nevents,weight_tab,dm2_tab,lep_tab,antilep_tab"
   ]
  },
  {
   "cell_type": "code",
   "execution_count": 18,
   "metadata": {},
   "outputs": [],
   "source": [
    "Nucal_efficiency=0.7\n",
    "Nucal_energy_cut_1=3\n",
    "Nucal_evnt_1=6.06\n",
    "Nucal_angle=0.05\n",
    "def Nucal_Cut_1(nevents,weight_tab,dm2_tab,lep_tab,antilep_tab):\n",
    "    pass_index=[]\n",
    "    for i in range(len(weight_tab)):\n",
    "        energy=lep_tab[i][0]+antilep_tab[i][0]\n",
    "        if lep_tab[i][-1]==\"Electron\" and energy>Nucal_energy_cut_1 and theta(lep_tab[i]) < Nucal_angle and theta(antilep_tab[i]) < Nucal_angle:\n",
    "            pass_index.append(i)\n",
    "    nevents*=len(pass_index)/len(weight_tab)*Nucal_efficiency\n",
    "    weight_tab = [weight_tab[i] for i in pass_index]\n",
    "    dm2_tab = [dm2_tab[i] for i in pass_index]\n",
    "    lep_tab = [lep_tab[i] for i in pass_index]\n",
    "    antilep_tab = [antilep_tab[i] for i in pass_index]\n",
    "    return nevents,weight_tab,dm2_tab,lep_tab,antilep_tab\n",
    "\n",
    "Nucal_energy_cut_2=10\n",
    "Nucal_evnt_2=3.64\n",
    "def Nucal_Cut_2(nevents,weight_tab,dm2_tab,lep_tab,antilep_tab):\n",
    "    pass_index=[]\n",
    "    for i in range(len(weight_tab)):\n",
    "        energy=lep_tab[i][0]+antilep_tab[i][0]\n",
    "        if lep_tab[i][-1]==\"Electron\" and energy>Nucal_energy_cut_2 and theta(lep_tab[i]) < Nucal_angle and theta(antilep_tab[i]) < Nucal_angle:\n",
    "            pass_index.append(i)\n",
    "    nevents*=len(pass_index)/len(weight_tab)*Nucal_efficiency\n",
    "    weight_tab = [weight_tab[i] for i in pass_index]\n",
    "    dm2_tab = [dm2_tab[i] for i in pass_index]\n",
    "    lep_tab = [lep_tab[i] for i in pass_index]\n",
    "    antilep_tab = [antilep_tab[i] for i in pass_index]\n",
    "    return nevents,weight_tab,dm2_tab,lep_tab,antilep_tab"
   ]
  },
  {
   "cell_type": "code",
   "execution_count": 47,
   "metadata": {},
   "outputs": [],
   "source": [
    "DUNE_efficiency=1\n",
    "DUNE_evnt=10\n",
    "elec_kinetic_cut=0.14*mev\n",
    "muon_kinetic_cut=1.8*mev\n",
    "def DUNE_cut(nevents,weight_tab,dm2_tab,lep_tab,antilep_tab):\n",
    "    pass_index=[]\n",
    "    for i in range(len(weight_tab)):\n",
    "        if lep_tab[i][-1]==\"Electron\" and lep_tab[i][13]>elec_kinetic_cut and antilep_tab[i][13]>elec_kinetic_cut:\n",
    "            pass_index.append(i)\n",
    "        elif lep_tab[i][-1]==\"Muon\" and lep_tab[i][13]>muon_kinetic_cut and antilep_tab[i][13]>muon_kinetic_cut:\n",
    "            pass_index.append(i)\n",
    "    nevents*=len(pass_index)/len(weight_tab)*DUNE_efficiency\n",
    "    weight_tab = [weight_tab[i] for i in pass_index]\n",
    "    dm2_tab = [dm2_tab[i] for i in pass_index]\n",
    "    lep_tab = [lep_tab[i] for i in pass_index]\n",
    "    antilep_tab = [antilep_tab[i] for i in pass_index]\n",
    "    return nevents,weight_tab,dm2_tab,lep_tab,antilep_tab"
   ]
  },
  {
   "cell_type": "code",
   "execution_count": 28,
   "metadata": {},
   "outputs": [],
   "source": [
    "#Taking advantage of the fact that I can only have one dm2 decay per event.\n",
    "Seaquest_energy_cut=0#Uuuuh, maybe not?\n",
    "Seaquest_efficiency=1\n",
    "Seaquest_evnt=10\n",
    "Seaquest_evnt_high=52\n",
    "Seaquest_evnt_med=16\n",
    "seaquest_low_pot_factor=1e18/1e20\n",
    "def Seaquest_Cut(nevents,weight_tab,dm2_tab,lep_tab,antilep_tab):\n",
    "    pass_index=[]\n",
    "    for i in range(len(weight_tab)):\n",
    "        if lep_tab[i][3]<0 or antilep_tab[i][3]<0:\n",
    "            continue\n",
    "        #energy=lep_tab[i][0]+antilep_tab[i][0]\n",
    "        #if energy>Seaquest_energy_cut:\n",
    "        if lep_tab[i][0]>Seaquest_energy_cut and antilep_tab[i][0]>Seaquest_energy_cut:\n",
    "            pass_index.append(i)\n",
    "    nevents*=len(pass_index)/len(weight_tab)*Seaquest_efficiency\n",
    "    weight_tab = [weight_tab[i] for i in pass_index]\n",
    "    dm2_tab = [dm2_tab[i] for i in pass_index]\n",
    "    lep_tab = [lep_tab[i] for i in pass_index]\n",
    "    antilep_tab = [antilep_tab[i] for i in pass_index]\n",
    "    return nevents,weight_tab,dm2_tab,lep_tab,antilep_tab"
   ]
  },
  {
   "cell_type": "code",
   "execution_count": 22,
   "metadata": {},
   "outputs": [],
   "source": [
    "seaquest_plane_n=[0,0,1]\n",
    "seaquest_KMAG=[0,0,12]\n",
    "seaquest_det=[0,0,18.5]\n",
    "def Seaquest_Cut_2(dat,dm,lep,alep,mx2,l):\n",
    "    loc_scaling=dec_loc(dat[1]*l/dat[0],dat[2]*l/dat[0])*l/mom(dm)\n",
    "    decay_point = [dm[1+i]*loc_scaling+dm[5+i] for i in range(3)]\n",
    "    lmomvec=momvec(lep);amomvec=momvec(alep);\n",
    "    kick=0\n",
    "    if decay_point[2]<seaquest_KMAG[2]:\n",
    "        kick=0.4*min(3,12-decay_point[2])/3.0\n",
    "        point1l,R=plane_cross(lmomvec,decay_point,seaquest_KMAG,seaquest_plane_n)\n",
    "        lmomvec[0]+=kick\n",
    "        point2l,R=plane_cross(lmomvec,point1l,seaquest_det,seaquest_plane_n)\n",
    "    else:\n",
    "        point2l,R=plane_cross(lmomvec,decay_point,seaquest_det,seaquest_plane_n)\n",
    "    if abs(point2l[0])-1>0 or abs(point2l[1])-1>0:\n",
    "        return False\n",
    "    if decay_point[2]<seaquest_KMAG[2]:\n",
    "        point1a,R=plane_cross(amomvec,decay_point,seaquest_KMAG,seaquest_plane_n)\n",
    "        amomvec[0]+=kick\n",
    "        point2a,R=plane_cross(amomvec,point1a,seaquest_det,seaquest_plane_n)\n",
    "    else:\n",
    "        point2a,R=plane_cross(amomvec,decay_point,seaquest_det,seaquest_plane_n)\n",
    "    if abs(point2a[0])-1>0 or abs(point2a[1])-1>0:\n",
    "        return False\n",
    "    return True"
   ]
  },
  {
   "cell_type": "code",
   "execution_count": 27,
   "metadata": {},
   "outputs": [],
   "source": [
    "Seaquest_efficiency=1\n",
    "Seaquest_evnt=10\n",
    "seaquest_low_pot_factor=1e18/1e20\n",
    "Seaquest_no_kmag_energy_cut=3\n",
    "seaquest_plane_n=[0,0,1]\n",
    "seaquest_det=[0,0,18.5]\n",
    "def Seaquest_Cut_no_kmag(nevents,weight_tab,dp_tab,lep_tab,antilep_tab):\n",
    "    pass_index=[]\n",
    "    for i in range(len(weight_tab)):\n",
    "        if lep_tab[i][3]<0 or antilep_tab[i][3]<0:\n",
    "            continue\n",
    "        energy=lep_tab[i][0]+antilep_tab[i][0]\n",
    "        if energy>Seaquest_no_kmag_energy_cut:\n",
    "        #if lep_tab[i][0]>Seaquest_energy_cut and antilep_tab[i][0]>Seaquest_energy_cut:\n",
    "            pass_index.append(i)\n",
    "    nevents*=len(pass_index)/len(weight_tab)*Seaquest_efficiency\n",
    "    weight_tab = [weight_tab[i] for i in pass_index]\n",
    "    dp_tab = [dp_tab[i] for i in pass_index]\n",
    "    lep_tab = [lep_tab[i] for i in pass_index]\n",
    "    antilep_tab = [antilep_tab[i] for i in pass_index]\n",
    "    return nevents,weight_tab,dp_tab,lep_tab,antilep_tab\n",
    "def Seaquest_Cut_2_no_kmag(dat,dp,lep,alep,mv,l):\n",
    "    loc_scaling=dec_loc(dat[1]*l/dat[0],dat[2]*l/dat[0])*l/mom(dp)\n",
    "    decay_point = [dp[1+i]*loc_scaling+dp[5+i] for i in range(3)]\n",
    "    lmomvec=momvec(lep);amomvec=momvec(alep);\n",
    "    point1l,R=plane_cross(lmomvec,decay_point,seaquest_det,seaquest_plane_n)\n",
    "    if abs(point1l[0])-1>0 or abs(point1l[1])-1>0:\n",
    "        return False\n",
    "    point1a,R=plane_cross(amomvec,decay_point,seaquest_det,seaquest_plane_n)\n",
    "    if abs(point1a[0])-1>0 or abs(point1a[1])-1>0:\n",
    "        return False\n",
    "    return True"
   ]
  },
  {
   "cell_type": "code",
   "execution_count": 62,
   "metadata": {},
   "outputs": [
    {
     "name": "stdout",
     "output_type": "stream",
     "text": [
      "Exception Visible_Dark_Photon/dune/dune_1.dat\n"
     ]
    }
   ],
   "source": [
    "files=glob.glob('Visible_Dark_Photon/dune/dune_*')\n",
    "bounds=[calc_params(file,DUNE_evnt,DUNE_cut) for file in files]\n",
    "bounds = [x for x in bounds if x[0]!=-1 and (x[1]!=-1 and x[2]!=-1)]\n",
    "bounds.sort()\n",
    "record_list(\"Dune_dark_photon.dat\",bounds)"
   ]
  },
  {
   "cell_type": "code",
   "execution_count": 58,
   "metadata": {},
   "outputs": [
    {
     "data": {
      "text/plain": [
       "[0.62, 2.048541275081858e-08, 2.7266586634793726e-07]"
      ]
     },
     "execution_count": 58,
     "metadata": {},
     "output_type": "execute_result"
    }
   ],
   "source": [
    "calc_params('Visible_Dark_Photon/dune/dune_620.dat',DUNE_evnt,DUNE_cut)"
   ]
  },
  {
   "cell_type": "code",
   "execution_count": 43,
   "metadata": {},
   "outputs": [
    {
     "ename": "NameError",
     "evalue": "name 'Seaquest_evnt_high' is not defined",
     "output_type": "error",
     "traceback": [
      "\u001b[0;31m---------------------------------------------------------------------------\u001b[0m",
      "\u001b[0;31mNameError\u001b[0m                                 Traceback (most recent call last)",
      "\u001b[0;32m<ipython-input-43-654e99f81e66>\u001b[0m in \u001b[0;36m<module>\u001b[0;34m()\u001b[0m\n\u001b[1;32m      1\u001b[0m \u001b[0mfiles\u001b[0m\u001b[0;34m=\u001b[0m\u001b[0mglob\u001b[0m\u001b[0;34m.\u001b[0m\u001b[0mglob\u001b[0m\u001b[0;34m(\u001b[0m\u001b[0;34m'Visible_Dark_Photon/dune/dune_*'\u001b[0m\u001b[0;34m)\u001b[0m\u001b[0;34m\u001b[0m\u001b[0;34m\u001b[0m\u001b[0m\n\u001b[0;32m----> 2\u001b[0;31m \u001b[0mbounds\u001b[0m\u001b[0;34m=\u001b[0m\u001b[0;34m[\u001b[0m\u001b[0mcalc_params\u001b[0m\u001b[0;34m(\u001b[0m\u001b[0mfile\u001b[0m\u001b[0;34m,\u001b[0m\u001b[0mSeaquest_evnt_high\u001b[0m\u001b[0;34m,\u001b[0m\u001b[0mSeaquest_Cut\u001b[0m\u001b[0;34m,\u001b[0m\u001b[0mSeaquest_Cut_2\u001b[0m\u001b[0;34m)\u001b[0m \u001b[0;32mfor\u001b[0m \u001b[0mfile\u001b[0m \u001b[0;32min\u001b[0m \u001b[0mfiles\u001b[0m\u001b[0;34m]\u001b[0m\u001b[0;34m\u001b[0m\u001b[0;34m\u001b[0m\u001b[0m\n\u001b[0m\u001b[1;32m      3\u001b[0m \u001b[0mbounds\u001b[0m \u001b[0;34m=\u001b[0m \u001b[0;34m[\u001b[0m\u001b[0mx\u001b[0m \u001b[0;32mfor\u001b[0m \u001b[0mx\u001b[0m \u001b[0;32min\u001b[0m \u001b[0mbounds\u001b[0m \u001b[0;32mif\u001b[0m \u001b[0mx\u001b[0m\u001b[0;34m[\u001b[0m\u001b[0;36m0\u001b[0m\u001b[0;34m]\u001b[0m\u001b[0;34m!=\u001b[0m\u001b[0;34m-\u001b[0m\u001b[0;36m1\u001b[0m \u001b[0;32mand\u001b[0m \u001b[0;34m(\u001b[0m\u001b[0mx\u001b[0m\u001b[0;34m[\u001b[0m\u001b[0;36m1\u001b[0m\u001b[0;34m]\u001b[0m\u001b[0;34m!=\u001b[0m\u001b[0;34m-\u001b[0m\u001b[0;36m1\u001b[0m \u001b[0;32mand\u001b[0m \u001b[0mx\u001b[0m\u001b[0;34m[\u001b[0m\u001b[0;36m2\u001b[0m\u001b[0;34m]\u001b[0m\u001b[0;34m!=\u001b[0m\u001b[0;34m-\u001b[0m\u001b[0;36m1\u001b[0m\u001b[0;34m)\u001b[0m\u001b[0;34m]\u001b[0m\u001b[0;34m\u001b[0m\u001b[0;34m\u001b[0m\u001b[0m\n\u001b[1;32m      4\u001b[0m \u001b[0mbounds\u001b[0m\u001b[0;34m.\u001b[0m\u001b[0msort\u001b[0m\u001b[0;34m(\u001b[0m\u001b[0;34m)\u001b[0m\u001b[0;34m\u001b[0m\u001b[0;34m\u001b[0m\u001b[0m\n\u001b[1;32m      5\u001b[0m \u001b[0mrecord_list\u001b[0m\u001b[0;34m(\u001b[0m\u001b[0;34m\"Dark_Photon_Seaquest_with_kmag.dat\"\u001b[0m\u001b[0;34m,\u001b[0m\u001b[0mbounds\u001b[0m\u001b[0;34m)\u001b[0m\u001b[0;34m\u001b[0m\u001b[0;34m\u001b[0m\u001b[0m\n",
      "\u001b[0;32m<ipython-input-43-654e99f81e66>\u001b[0m in \u001b[0;36m<listcomp>\u001b[0;34m(.0)\u001b[0m\n\u001b[1;32m      1\u001b[0m \u001b[0mfiles\u001b[0m\u001b[0;34m=\u001b[0m\u001b[0mglob\u001b[0m\u001b[0;34m.\u001b[0m\u001b[0mglob\u001b[0m\u001b[0;34m(\u001b[0m\u001b[0;34m'Visible_Dark_Photon/dune/dune_*'\u001b[0m\u001b[0;34m)\u001b[0m\u001b[0;34m\u001b[0m\u001b[0;34m\u001b[0m\u001b[0m\n\u001b[0;32m----> 2\u001b[0;31m \u001b[0mbounds\u001b[0m\u001b[0;34m=\u001b[0m\u001b[0;34m[\u001b[0m\u001b[0mcalc_params\u001b[0m\u001b[0;34m(\u001b[0m\u001b[0mfile\u001b[0m\u001b[0;34m,\u001b[0m\u001b[0mSeaquest_evnt_high\u001b[0m\u001b[0;34m,\u001b[0m\u001b[0mSeaquest_Cut\u001b[0m\u001b[0;34m,\u001b[0m\u001b[0mSeaquest_Cut_2\u001b[0m\u001b[0;34m)\u001b[0m \u001b[0;32mfor\u001b[0m \u001b[0mfile\u001b[0m \u001b[0;32min\u001b[0m \u001b[0mfiles\u001b[0m\u001b[0;34m]\u001b[0m\u001b[0;34m\u001b[0m\u001b[0;34m\u001b[0m\u001b[0m\n\u001b[0m\u001b[1;32m      3\u001b[0m \u001b[0mbounds\u001b[0m \u001b[0;34m=\u001b[0m \u001b[0;34m[\u001b[0m\u001b[0mx\u001b[0m \u001b[0;32mfor\u001b[0m \u001b[0mx\u001b[0m \u001b[0;32min\u001b[0m \u001b[0mbounds\u001b[0m \u001b[0;32mif\u001b[0m \u001b[0mx\u001b[0m\u001b[0;34m[\u001b[0m\u001b[0;36m0\u001b[0m\u001b[0;34m]\u001b[0m\u001b[0;34m!=\u001b[0m\u001b[0;34m-\u001b[0m\u001b[0;36m1\u001b[0m \u001b[0;32mand\u001b[0m \u001b[0;34m(\u001b[0m\u001b[0mx\u001b[0m\u001b[0;34m[\u001b[0m\u001b[0;36m1\u001b[0m\u001b[0;34m]\u001b[0m\u001b[0;34m!=\u001b[0m\u001b[0;34m-\u001b[0m\u001b[0;36m1\u001b[0m \u001b[0;32mand\u001b[0m \u001b[0mx\u001b[0m\u001b[0;34m[\u001b[0m\u001b[0;36m2\u001b[0m\u001b[0;34m]\u001b[0m\u001b[0;34m!=\u001b[0m\u001b[0;34m-\u001b[0m\u001b[0;36m1\u001b[0m\u001b[0;34m)\u001b[0m\u001b[0;34m]\u001b[0m\u001b[0;34m\u001b[0m\u001b[0;34m\u001b[0m\u001b[0m\n\u001b[1;32m      4\u001b[0m \u001b[0mbounds\u001b[0m\u001b[0;34m.\u001b[0m\u001b[0msort\u001b[0m\u001b[0;34m(\u001b[0m\u001b[0;34m)\u001b[0m\u001b[0;34m\u001b[0m\u001b[0;34m\u001b[0m\u001b[0m\n\u001b[1;32m      5\u001b[0m \u001b[0mrecord_list\u001b[0m\u001b[0;34m(\u001b[0m\u001b[0;34m\"Dark_Photon_Seaquest_with_kmag.dat\"\u001b[0m\u001b[0;34m,\u001b[0m\u001b[0mbounds\u001b[0m\u001b[0;34m)\u001b[0m\u001b[0;34m\u001b[0m\u001b[0;34m\u001b[0m\u001b[0m\n",
      "\u001b[0;31mNameError\u001b[0m: name 'Seaquest_evnt_high' is not defined"
     ]
    }
   ],
   "source": [
    "files=glob.glob('Visible_Dark_Photon/dune/dune_*')\n",
    "bounds=[calc_params(file,Seaquest_evnt_high,Seaquest_Cut,Seaquest_Cut_2) for file in files]\n",
    "bounds = [x for x in bounds if x[0]!=-1 and (x[1]!=-1 and x[2]!=-1)]\n",
    "bounds.sort()\n",
    "record_list(\"Dark_Photon_Seaquest_with_kmag.dat\",bounds)"
   ]
  },
  {
   "cell_type": "code",
   "execution_count": 31,
   "metadata": {},
   "outputs": [],
   "source": [
    "files=glob.glob('Visible_Dark_Photon/seaquest/seaquest_*')\n",
    "bounds=[calc_params(file,Seaquest_evnt_med,Seaquest_Cut,Seaquest_Cut_2) for file in files]\n",
    "bounds = [x for x in bounds if x[0]!=-1 and (x[1]!=-1 and x[2]!=-1)]\n",
    "bounds.sort()\n",
    "record_list(\"Dark_Photon_Seaquest_no_kmag.dat\",bounds)"
   ]
  },
  {
   "cell_type": "code",
   "execution_count": 37,
   "metadata": {},
   "outputs": [],
   "source": [
    "files=glob.glob('Visible_Dark_Photon/seaquest/seaquest_*')\n",
    "bounds=[calc_params(file,Seaquest_evnt/seaquest_low_pot_factor,Seaquest_Cut,Seaquest_Cut_2) for file in files]\n",
    "bounds = [x for x in bounds if x[0]!=-1 and (x[1]!=-1 and x[2]!=-1)]\n",
    "bounds.sort()\n",
    "record_list(\"Dark_Photon_Seaquest_with_kmag_low_POT.dat\",bounds)"
   ]
  },
  {
   "cell_type": "code",
   "execution_count": 26,
   "metadata": {},
   "outputs": [],
   "source": [
    "mvlist=['1800','1850','1900','1950']\n",
    "files2=list()\n",
    "files=glob.glob('Visible_Dark_Photon/seaquest_extended/seaquest_*')\n",
    "for i in files:\n",
    "    if i.split('_')[4] in mvlist:\n",
    "        files2+=[i]\n",
    "bounds=[calc_params(file,Seaquest_evnt,Seaquest_Cut_no_kmag,Seaquest_Cut_2_no_kmag) for file in files2]\n",
    "bounds = [x for x in bounds if x[0]!=-1 and (x[1]!=-1 and x[2]!=-1)]\n",
    "bounds.sort()"
   ]
  },
  {
   "cell_type": "code",
   "execution_count": 30,
   "metadata": {},
   "outputs": [],
   "source": [
    "files=glob.glob('Visible_Dark_Photon/seaquest_extended/seaquest_*')\n",
    "bounds=[calc_params(file,Seaquest_evnt_med,Seaquest_Cut_no_kmag,Seaquest_Cut_2_no_kmag) for file in files]\n",
    "bounds = [x for x in bounds if x[0]!=-1 and (x[1]!=-1 and x[2]!=-1)]\n",
    "bounds.sort()\n",
    "record_list(\"Dark_Photon_Seaquest_Extended.dat\",bounds)"
   ]
  },
  {
   "cell_type": "code",
   "execution_count": 27,
   "metadata": {},
   "outputs": [
    {
     "data": {
      "text/plain": [
       "[[1.8, 1.3655887959518137e-07, 3.4057233128413045e-07],\n",
       " [1.85, 1.6876667321847775e-07, 3.277512949927897e-07],\n",
       " [1.9, 2.137143530528175e-07, 2.7098611941494897e-07]]"
      ]
     },
     "execution_count": 27,
     "metadata": {},
     "output_type": "execute_result"
    }
   ],
   "source": [
    "bounds"
   ]
  },
  {
   "cell_type": "code",
   "execution_count": 29,
   "metadata": {},
   "outputs": [],
   "source": [
    "append_list('Dark_Photon_Seaquest_Extended_0GeV.dat',bounds)"
   ]
  },
  {
   "cell_type": "code",
   "execution_count": 23,
   "metadata": {},
   "outputs": [],
   "source": [
    "files=glob.glob('Visible_Dark_Photon/seaquest_extended/seaquest_*')\n",
    "bounds=[calc_params(file,Seaquest_evnt/seaquest_low_pot_factor,Seaquest_Cut_no_kmag,Seaquest_Cut_2_no_kmag) for file in files]\n",
    "bounds = [x for x in bounds if x[0]!=-1 and (x[1]!=-1 and x[2]!=-1)]\n",
    "bounds.sort()\n",
    "record_list(\"Dark_Photon_Seaquest_low_POT.dat\",bounds)"
   ]
  },
  {
   "cell_type": "code",
   "execution_count": 22,
   "metadata": {},
   "outputs": [],
   "source": [
    "files1=glob.glob('Visible_Dark_Photon/seaquest/seaquest_*')"
   ]
  },
  {
   "cell_type": "code",
   "execution_count": 27,
   "metadata": {
    "scrolled": true
   },
   "outputs": [
    {
     "name": "stdout",
     "output_type": "stream",
     "text": [
      "-93.1956635090176\n"
     ]
    }
   ],
   "source": [
    "calc_params('Visible_Dark_Photon/seaquest/seaquest_10_1e-07.dat',Seaquest_evnt,Seaquest_Cut_no_kmag,Seaquest_Cut_2_no_kmag)"
   ]
  },
  {
   "cell_type": "code",
   "execution_count": 32,
   "metadata": {},
   "outputs": [
    {
     "name": "stdout",
     "output_type": "stream",
     "text": [
      "-23.406551488467052\n"
     ]
    }
   ],
   "source": [
    "calc_params('Visible_Dark_Photon/seaquest/seaquest_10_1e-07.dat',Seaquest_evnt,Seaquest_Cut,Seaquest_Cut_2)"
   ]
  },
  {
   "cell_type": "code",
   "execution_count": 28,
   "metadata": {},
   "outputs": [
    {
     "name": "stdout",
     "output_type": "stream",
     "text": [
      "-131.6800557431009\n"
     ]
    }
   ],
   "source": [
    "calc_params('Visible_Dark_Photon/seaquest_extended/seaquest_10_1e-07.dat',Seaquest_evnt,Seaquest_Cut_no_kmag,Seaquest_Cut_2_no_kmag)"
   ]
  },
  {
   "cell_type": "code",
   "execution_count": 31,
   "metadata": {},
   "outputs": [
    {
     "data": {
      "text/plain": [
       "1.08587786259542"
      ]
     },
     "execution_count": 31,
     "metadata": {},
     "output_type": "execute_result"
    }
   ],
   "source": [
    "5.69/5.24"
   ]
  },
  {
   "cell_type": "code",
   "execution_count": 26,
   "metadata": {},
   "outputs": [],
   "source": [
    "files=glob.glob('Visible_Dark_Photon/seaquest_extended/seaquest_*')\n",
    "bounds=[calc_params(file,Seaquest_evnt,Seaquest_Cut,Seaquest_Cut_2) for file in files]\n",
    "bounds = [x for x in bounds if x[0]!=-1 and (x[1]!=-1 and x[2]!=-1)]\n",
    "bounds.sort()\n",
    "record_list(\"Dark_Photon_Seaquest_Extended_with_KMAG.dat\",bounds)"
   ]
  },
  {
   "cell_type": "code",
   "execution_count": 27,
   "metadata": {
    "scrolled": true
   },
   "outputs": [
    {
     "data": {
      "text/plain": [
       "[0.11, 1.4940476726345034e-07, 1.4484081912125851e-05]"
      ]
     },
     "execution_count": 27,
     "metadata": {},
     "output_type": "execute_result"
    }
   ],
   "source": [
    "calc_params(files[0],NA62_evnt,NA62_Cut)"
   ]
  },
  {
   "cell_type": "code",
   "execution_count": 38,
   "metadata": {},
   "outputs": [],
   "source": [
    "dat2=Event_Parser(files[1], NA62_Cut)"
   ]
  },
  {
   "cell_type": "code",
   "execution_count": 57,
   "metadata": {},
   "outputs": [],
   "source": [
    "files=glob.glob(\"Visible_Dark_Photon/NA62/*\")"
   ]
  },
  {
   "cell_type": "code",
   "execution_count": 42,
   "metadata": {},
   "outputs": [],
   "source": [
    "files=glob.glob(\"Visible_Dark_Photon/NA62/*\")\n",
    "bounds=[calc_params(file,NA62_evnt,NA62_Cut) for file in files]\n",
    "bounds = [x for x in bounds if x[0]!=-1 and (x[1]!=-1 and x[2]!=-1)]\n",
    "bounds.sort()\n",
    "record_list(\"Dark_Photon_NA62.dat\",bounds)"
   ]
  },
  {
   "cell_type": "code",
   "execution_count": 21,
   "metadata": {},
   "outputs": [],
   "source": [
    "files=glob.glob(\"Visible_Dark_Photon/CHARM/charm_decays_*\")\n",
    "bounds=[calc_params(file,charm_evnt,CHARM_Cut) for file in files]\n",
    "bounds = [x for x in bounds if x[0]!=-1 and (x[1]!=-1 and x[2]!=-1)]\n",
    "bounds.sort()\n",
    "record_list(\"Dark_Photon_CHARM.dat\",bounds)"
   ]
  },
  {
   "cell_type": "code",
   "execution_count": 16,
   "metadata": {},
   "outputs": [],
   "source": [
    "files=glob.glob(\"Visible_Dark_Photon/nucal/*\")\n",
    "bounds=[calc_params(file,Nucal_evnt_1,Nucal_Cut_1) for file in files]\n",
    "bounds = [x for x in bounds if x[0]!=-1 and (x[1]!=-1 and x[2]!=-1)]\n",
    "bounds.sort()\n",
    "record_list(\"Dark_Photon_nucal_3gev.dat\",bounds)"
   ]
  },
  {
   "cell_type": "code",
   "execution_count": 17,
   "metadata": {},
   "outputs": [],
   "source": [
    "files=glob.glob(\"Visible_Dark_Photon/nucal/*\")\n",
    "bounds=[calc_params(file,Nucal_evnt_2,Nucal_Cut_2) for file in files]\n",
    "bounds = [x for x in bounds if x[0]!=-1 and (x[1]!=-1 and x[2]!=-1)]\n",
    "bounds.sort()\n",
    "record_list(\"Dark_Photon_nucal_10gev.dat\",bounds)"
   ]
  },
  {
   "cell_type": "code",
   "execution_count": null,
   "metadata": {},
   "outputs": [],
   "source": []
  }
 ],
 "metadata": {
  "kernelspec": {
   "display_name": "Python 3",
   "language": "python",
   "name": "python3"
  },
  "language_info": {
   "codemirror_mode": {
    "name": "ipython",
    "version": 3
   },
   "file_extension": ".py",
   "mimetype": "text/x-python",
   "name": "python",
   "nbconvert_exporter": "python",
   "pygments_lexer": "ipython3",
   "version": "3.7.5"
  }
 },
 "nbformat": 4,
 "nbformat_minor": 2
}
