{
 "cells": [
  {
   "cell_type": "code",
   "execution_count": 1,
   "metadata": {},
   "outputs": [],
   "source": [
    "import parser_funcs\n",
    "import numpy as np\n",
    "import os\n",
    "import math\n",
    "from scipy.special import kn\n",
    "from scipy.interpolate import interp1d\n",
    "from scipy.interpolate import SmoothBivariateSpline\n",
    "from scipy.optimize import brentq\n",
    "from scipy.integrate import quad\n",
    "from scipy.interpolate import griddata\n",
    "from scipy.optimize import minimize_scalar\n",
    "from scipy.optimize import root_scalar\n",
    "import sys\n",
    "import glob\n",
    "import random\n",
    "import subprocess as subp\n",
    "#import matplotlib.pyplot as plt"
   ]
  },
  {
   "cell_type": "code",
   "execution_count": 2,
   "metadata": {},
   "outputs": [],
   "source": [
    "#Units\n",
    "gev=1;mev=1e-3*gev;kev=1e-6*gev;\n",
    "\n",
    "#constants\n",
    "hbar=float(1.054*1e-34/(1.6e-19)/(1e9));\n",
    "speed_of_light=3e8;conversion=hbar**2*speed_of_light**2;\n",
    "alpha_em=1.0/137.035999074;\n",
    "\n",
    "#masses\n",
    "mp=0.938272046*gev;melec=511*kev;mmuon=105.658*mev;\n",
    "mpi=134.9767*mev;mpip=139.57018*mev;mkaon=0.493667*gev;\n",
    "mj_psi=3.097*gev;"
   ]
  },
  {
   "cell_type": "code",
   "execution_count": 3,
   "metadata": {},
   "outputs": [],
   "source": [
    "def mom(arr):\n",
    "    return math.sqrt(arr[3]**2+arr[1]**2+arr[2]**2)\n",
    "    \n",
    "def theta(arr):\n",
    "    return math.acos(arr[3]/mom(arr))\n",
    "\n",
    "def phi(arr):\n",
    "    return math.atan(arr[0]/arr[1])\n",
    "\n",
    "def cos_theta(arr):\n",
    "    return arr[3]/mom(arr)\n",
    "\n",
    "def theta_dif(arr1,arr2):\n",
    "    return math.acos(dp(arr1[1:4],arr2[1:4])/mom(arr1)/mom(arr2))\n",
    "\n",
    "#Expect each element of arr to be 4 elements. Expects px py pz E.\n",
    "def invariant_mass(arr):\n",
    "    tot = [0,0,0,0]\n",
    "    for line in arr:\n",
    "        for i in range(4):\n",
    "            tot[i]+=line[i]\n",
    "    return tot[0]**2-tot[3]**2-tot[1]**2-tot[2]**2\n",
    "\n",
    "def cos_angle_between(arr1,arr2):\n",
    "    return (arr1[3]*arr2[3]+arr1[1]*arr2[1]+arr1[2]*arr2[2])/mom(arr1)/mom(arr2)"
   ]
  },
  {
   "cell_type": "code",
   "execution_count": 4,
   "metadata": {},
   "outputs": [],
   "source": [
    "def momvec(arr):\n",
    "    return [arr[1],arr[2],arr[3]]\n",
    "def startvec(arr):\n",
    "    return [arr[5],arr[6],arr[7]]\n",
    "def decaypoint(arr):\n",
    "    return math.sqrt(arr[9]**2+arr[10]**2+arr[11]**2)\n",
    "def dp(a1,a2):\n",
    "    tot=0\n",
    "    for i in range(len(a1)):\n",
    "        tot+=a1[i]*a2[i]\n",
    "    return tot\n",
    "def veclen(a1):\n",
    "    return dp(a1,a1)**0.5\n",
    "def sub(a1,a2):\n",
    "    return [a1[i]-a2[i] for i in range(len(a1))]\n",
    "def add(a1,a2):\n",
    "    return [a1[i]+a2[i] for i in range(len(a1))]\n",
    "def mul(c,a1):\n",
    "    return [c*a1[i] for i in range(len(a1))]\n",
    "def plane_cross(p,o,r,n):\n",
    "    bot=dp(n,p)\n",
    "    if bot == 0:\n",
    "        return -1\n",
    "    a = dp(n,sub(r,o))/bot\n",
    "    point = add(o,mul(a,p))\n",
    "    R=sub(r,point)\n",
    "    return point,dp(R,R)**0.5"
   ]
  },
  {
   "cell_type": "code",
   "execution_count": 5,
   "metadata": {},
   "outputs": [],
   "source": [
    "def update_param(b,replacement_array):\n",
    "    for i in range(len(b)):\n",
    "        line = b[i].split()\n",
    "        if len(line)<2:\n",
    "            continue\n",
    "        for rep in replacement_array:\n",
    "            if line[0]==rep[0]:\n",
    "                b[i]=line[0]+' '+str(rep[1])+'\\n'\n",
    "    return b\n",
    "def record_list(outfile,data):\n",
    "    with open(outfile,'w') as w:\n",
    "        for line in data:\n",
    "            tmpstr=\"\"\n",
    "            for elem in line:\n",
    "                tmpstr+=str(elem)+' '\n",
    "            tmpstr=tmpstr[:-1]\n",
    "            tmpstr+='\\n'\n",
    "            w.write(tmpstr)\n",
    "def append_list(outfile,data):\n",
    "    with open(outfile,'a') as w:\n",
    "        for line in data:\n",
    "            tmpstr=\"\"\n",
    "            for elem in line:\n",
    "                tmpstr+=str(elem)+' '\n",
    "            tmpstr=tmpstr[:-1]\n",
    "            tmpstr+='\\n'\n",
    "            w.write(tmpstr)"
   ]
  },
  {
   "cell_type": "code",
   "execution_count": 6,
   "metadata": {},
   "outputs": [],
   "source": [
    "#l_i = dist_i/speed_of_light/lifetime*mass\n",
    "def dec_prob(l1,l2):\n",
    "    return math.exp(-l1)-math.exp(-l2)\n",
    "def dec_loc(l1,l2):\n",
    "    try:\n",
    "        return -math.log(math.exp(-l1)-random.random()*(math.exp(-l1)-math.exp(-l2)))\n",
    "    except:\n",
    "        return l1\n",
    "def solve_dec_loc(l1,l2,pos):\n",
    "    return (10**pos-math.exp(-l1))/(math.exp(-l2)-math.exp(-l1))\n",
    "def dec_loc_set(l1,l2,pos):\n",
    "    try:\n",
    "        return -math.log(math.exp(-l1)-pos*(math.exp(-l1)-math.exp(-l2)))\n",
    "    except:\n",
    "        return l1\n",
    "#def Rescale_Events(dat,mx2,lifetime,tot_weight,eps,epset,events):\n",
    "#    prob=0\n",
    "#    life=lifetime*(epset/eps)**2\n",
    "#    l=1.0/speed_of_light/life*mx2\n",
    "#    for u in dat:\n",
    "#        prob+=dec_prob(u[1]*l/u[0],u[2]*l/u[0])\n",
    "#    return prob/tot_weight*events*(eps/epset)**2"
   ]
  },
  {
   "cell_type": "code",
   "execution_count": 7,
   "metadata": {},
   "outputs": [],
   "source": [
    "def Event_Parser_a_gamma(event_file, cut, rescale):\n",
    "    with open(event_file) as ef:\n",
    "        dat=ef.read().splitlines()\n",
    "        run_num=''\n",
    "        for line in dat:\n",
    "            line=line.split()\n",
    "            if len(line)==2 and line[0]==\"Run\":\n",
    "                run_num=line[1]                \n",
    "                break\n",
    "    dat2 = [line.split() for line in dat]\n",
    "    sum_line= dat2[-1]\n",
    "    weight_tab=[float(line[2]) for line in dat2 if len(line)==3 and line[0]==\"event\"]\n",
    "    DP_tab=[[float(line[i]) for i in range(1,len(line))] for line in dat2 if len(line)>1\\\n",
    "                and line[0]=='Dark_Photon']\n",
    "    gam_tab = [[float(line[i]) for i in range(1,len(line))]+[line[0]] for line in dat2 if len(line)>1\\\n",
    "                and (line[0]=='Decay_Photon')]\n",
    "    ax_tab = [[float(line[i]) for i in range(1,len(line))]+[line[0]] for line in dat2 if len(line)>1\\\n",
    "                and (line[0]=='Decay_Axion')]\n",
    "    mdp = float(sum_line[3])\n",
    "    malp = float(sum_line[2])\n",
    "    nevents = float(sum_line[1])*rescale\n",
    "    POT = float(sum_line[10])\n",
    "    gagp=float(sum_line[6])\n",
    "    eps=float(sum_line[4])\n",
    "    dp_lifetime=hbar/float(sum_line[8])\n",
    "    eff=float(sum_line[11])\n",
    "    nevents,weight_tab,DP_tab,gam_tab,ax_tab=cut(nevents,weight_tab,DP_tab,gam_tab,ax_tab)\n",
    "    return [float(mdp),float(malp),gagp,eps,eff,dp_lifetime,nevents,weight_tab,DP_tab,gam_tab,ax_tab]"
   ]
  },
  {
   "cell_type": "code",
   "execution_count": 8,
   "metadata": {},
   "outputs": [],
   "source": [
    "#Dummy cut for when I don't need cut2. Cut2 is used to\n",
    "#check for geometry.\n",
    "def Return_True(dat,DPlist,gammalist,mA,l):\n",
    "    return True\n",
    "#This assumes production is through kinetic mixing\n",
    "def Rescale_Events_a_Gamma(dat,DPlist,gammalist,mA,ma,lifetime,tot_weight,gagpg,gagpgset,eps,epsset,events,cut,state):\n",
    "    random.setstate(state)\n",
    "    prob=0\n",
    "    life=lifetime*(gagpgset/gagpg)**2\n",
    "    l=1.0/speed_of_light/life*mA\n",
    "    for i,u in enumerate(dat):\n",
    "        ptmp=dec_prob(u[1]*l/u[0],u[2]*l/u[0])\n",
    "        if cut(u,DPlist[i],gammalist[i],mA,l):\n",
    "            prob+=ptmp\n",
    "        else:\n",
    "            continue\n",
    "    return prob/tot_weight*events*(eps/epsset)**2\n",
    "#This assumes production is through DAP\n",
    "def Rescale_Events_a_Gamma_DAP(dat,DPlist,gammalist,mA,ma,lifetime,tot_weight,gagpg,gagpgset,eps,epsset,events,cut,state):\n",
    "    random.setstate(state)\n",
    "    prob=0\n",
    "    life=lifetime*(gagpgset/gagpg)**2\n",
    "    l=1.0/speed_of_light/life*mA\n",
    "    for i,u in enumerate(dat):\n",
    "        ptmp=dec_prob(u[1]*l/u[0],u[2]*l/u[0])\n",
    "        if cut(u,DPlist[i],gammalist[i],mA,l):\n",
    "            prob+=ptmp\n",
    "        else:\n",
    "            continue\n",
    "    return prob/tot_weight*events*(gagpg/gagpgset)**2"
   ]
  },
  {
   "cell_type": "code",
   "execution_count": 108,
   "metadata": {},
   "outputs": [],
   "source": [
    "def calc_params(file,evnt,rescale,cut,cut2=Return_True):\n",
    "    #try:\n",
    "    mdp,malp,gagpg_eval,eps_eval,eff,dp_lifetime,nevents,weight_tab,DP_tab,gam_tab,ax_tab=Event_Parser_a_gamma(file,cut,rescale)\n",
    "    #except:\n",
    "    #    print(\"Exception\", file)\n",
    "    #    return [-1,-1,-1]\n",
    "    if nevents==0:\n",
    "        return [-1,-1,-1]\n",
    "    dat = [[mom(u),u[14],u[15]] for u in DP_tab]\n",
    "    tot_weight=0\n",
    "    for i in weight_tab:\n",
    "        tot_weight+=i\n",
    "    state=random.getstate()\n",
    "    evnt_rate = lambda gagpg : -1.0*Rescale_Events_a_Gamma(dat,DP_tab,gam_tab,mdp,malp,dp_lifetime,tot_weight,10**gagpg,gagpg_eval,eps_eval,eps_eval,nevents,cut2,state)\n",
    "    diff_from_evnt = lambda gagpg : abs(evnt_rate(gagpg)+evnt)\n",
    "    diff_from_evnt_2 = lambda gagpg : evnt-Rescale_Events_a_Gamma(dat,DP_tab,gam_tab,mdp,malp,dp_lifetime,tot_weight,gagpg,gagpg_eval,eps_eval,eps_eval,nevents,cut2,state)\n",
    "    opt=minimize_scalar(evnt_rate,bounds=(-6,2),method='bounded')\n",
    "    if opt.fun>-evnt:\n",
    "        return [mdp,-1,-1]\n",
    "    \n",
    "    \n",
    "    opt2=minimize_scalar(diff_from_evnt,bounds=(-8,opt.x),method='bounded')\n",
    "        \n",
    "    x=opt.x\n",
    "    xstep=0.1\n",
    "    while diff_from_evnt_2(10**x)<0:\n",
    "        #print(10**x,diff_from_evnt_2(10**x))\n",
    "        x+=xstep\n",
    "    \n",
    "    #print(diff_from_evnt_2(10**(x-xstep)))\n",
    "    #print(diff_from_evnt_2(10**(x)))    \n",
    "    sol = root_scalar(diff_from_evnt_2, bracket=[10**(x-xstep), 10**x], method='brentq')    \n",
    "    \n",
    "    return [mdp,10**opt2.x,sol.root,evnt+diff_from_evnt(opt2.x),evnt+diff_from_evnt_2(sol.root)]"
   ]
  },
  {
   "cell_type": "code",
   "execution_count": 29,
   "metadata": {},
   "outputs": [],
   "source": [
    "def calc_params_DAP(file,evnt,rescale,cut,cut2=Return_True):\n",
    "    #try:\n",
    "    mdp,malp,gagpg_eval,eps_eval,eff,dp_lifetime,nevents,weight_tab,DP_tab,gam_tab,ax_tab=Event_Parser_a_gamma(file,cut,rescale)\n",
    "    #except:\n",
    "    #    print(\"Exception\", file)\n",
    "    #    return [-1,-1,-1]\n",
    "    if nevents==0:\n",
    "        return [-1,-1,-1]\n",
    "    dat = [[mom(u),u[14],u[15]] for u in DP_tab]\n",
    "    tot_weight=0\n",
    "    for i in weight_tab:\n",
    "        tot_weight+=i\n",
    "    state=random.getstate()\n",
    "    evnt_rate = lambda gagpg : -1.0*Rescale_Events_a_Gamma_DAP(dat,DP_tab,gam_tab,mdp,malp,dp_lifetime,tot_weight,10**gagpg,gagpg_eval,eps_eval,eps_eval,nevents,cut2,state)\n",
    "    diff_from_evnt = lambda gagpg : abs(evnt_rate(gagpg)+evnt)\n",
    "    diff_from_evnt_2 = lambda gagpg : evnt-Rescale_Events_a_Gamma_DAP(dat,DP_tab,gam_tab,mdp,malp,dp_lifetime,tot_weight,gagpg,gagpg_eval,eps_eval,eps_eval,nevents,cut2,state)\n",
    "    opt=minimize_scalar(evnt_rate,bounds=(-7,2),method='bounded')\n",
    "    if opt.fun>-evnt:\n",
    "        return [mdp,-1,-1]\n",
    "    \n",
    "    \n",
    "    opt2=minimize_scalar(diff_from_evnt,bounds=(-8,opt.x),method='bounded')\n",
    "        \n",
    "    x=opt.x\n",
    "    xstep=0.1\n",
    "    while diff_from_evnt_2(10**x)<0:\n",
    "        #print(10**x,diff_from_evnt_2(10**x))\n",
    "        x+=xstep\n",
    "    \n",
    "    #print(diff_from_evnt_2(10**(x-xstep)))\n",
    "    #print(diff_from_evnt_2(10**(x)))    \n",
    "    sol = root_scalar(diff_from_evnt_2, bracket=[10**(x-xstep), 10**x], method='brentq')    \n",
    "    \n",
    "    return [mdp,10**opt2.x,sol.root,evnt+diff_from_evnt(opt2.x),evnt+diff_from_evnt_2(sol.root)]"
   ]
  },
  {
   "cell_type": "code",
   "execution_count": 28,
   "metadata": {},
   "outputs": [],
   "source": [
    "def calc_params_list(event_file_arr,mass_tots,cut,cut2=Return_True):\n",
    "    param_arr=[]\n",
    "    for file in event_file_arr:\n",
    "        mass=file.split('_')[-1].split('m')[0]\n",
    "        for x in mass_tots:\n",
    "            if x[0] == mass:\n",
    "                #print(x,file)\n",
    "                param_arr+=[calc_params(file,3,float(x[1]),cut,cut2)]\n",
    "                break\n",
    "    return param_arr"
   ]
  },
  {
   "cell_type": "code",
   "execution_count": 33,
   "metadata": {},
   "outputs": [],
   "source": [
    "def calc_params_list_DAP(event_file_arr,mass_tots,cut,cut2=Return_True):\n",
    "    param_arr=[]\n",
    "    for file in event_file_arr:\n",
    "        mass=file.split('_')[-1].split('m')[0]\n",
    "        for x in mass_tots:\n",
    "            if x[0] == mass:\n",
    "                #print(x,file)\n",
    "                param_arr+=[calc_params_DAP(file,3,float(x[1]),cut,cut2)]\n",
    "                break\n",
    "    return param_arr"
   ]
  },
  {
   "cell_type": "code",
   "execution_count": 19,
   "metadata": {},
   "outputs": [],
   "source": [
    "def Event_Parser(event_file, cut):\n",
    "    with open(event_file) as ef:\n",
    "        dat=ef.read().splitlines()\n",
    "        run_num=''\n",
    "        for line in dat:\n",
    "            line=line.split()\n",
    "            if len(line)==2 and line[0]==\"Run\":\n",
    "                run_num=line[1]                \n",
    "                break\n",
    "    dat2 = [line.split() for line in dat]\n",
    "    sum_line= dat2[-1]\n",
    "    weight_tab=[float(line[2]) for line in dat2 if len(line)==3 and line[0]==\"event\"]\n",
    "    dm2_tab=[[float(line[i]) for i in range(1,len(line))] for line in dat2 if len(line)>1\\\n",
    "                and line[0]=='Dark_Matter_2']\n",
    "    lep = [[float(line[i]) for i in range(1,len(line))]+[line[0]] for line in dat2 if len(line)>1\\\n",
    "                and (line[0]=='Decay_Electron' or line[0]=='Decay_Muon')]\n",
    "    antilep = [[float(line[i]) for i in range(1,len(line))]+[line[0]] for line in dat2 if len(line)>1 and (line[0]=='Decay_Positron' or line[0]=='Decay_Antimuon')]\n",
    "    mv = sum_line[2]\n",
    "    mx1 = sum_line[3]\n",
    "    mx2 = sum_line[4]\n",
    "    nevents = float(sum_line[1])\n",
    "    POT = float(sum_line[10])\n",
    "    alpha_D=float(sum_line[6])\n",
    "    eps=float(sum_line[5])\n",
    "    dm2_lifetime=hbar/float(sum_line[7])\n",
    "    eff=float(sum_line[11])\n",
    "    nevents,weight_tab,dm2_tab,lep_tab,antilep_tab=cut(nevents,weight_tab,dm2_tab,lep,antilep)\n",
    "    return [float(mv),float(mx1),float(mx2),alpha_D,eps,eff,dm2_lifetime,nevents,weight_tab,dm2_tab,lep,antilep]"
   ]
  },
  {
   "cell_type": "code",
   "execution_count": 37,
   "metadata": {},
   "outputs": [],
   "source": [
    "min_energy_RENO=3*mev\n",
    "#This checks that the decay product of the dark photon (a photon) has sufficient energy to be detected by RENO.\n",
    "def RENO_cut(nevents,weight_tab,DP_tab,gam_tab,ax_tab):\n",
    "    pass_index=[]\n",
    "    for i in range(len(weight_tab)):\n",
    "        energy = gam_tab[i][0]\n",
    "        if energy > min_energy_RENO:\n",
    "            pass_index.append(i)\n",
    "    weight_tab_2 = [weight_tab[i] for i in pass_index]\n",
    "    DP_tab = [DP_tab[i] for i in pass_index]\n",
    "    gam_tab = [gam_tab[i] for i in pass_index]\n",
    "    ax_tab = [ax_tab[i] for i in pass_index]\n",
    "    nevents = nevents*sum(weight_tab_2)/sum(weight_tab)\n",
    "    return nevents,weight_tab_2,DP_tab,gam_tab,ax_tab\n",
    "#This cut checks that the produced photon enters the detector itself\n",
    "RENO_plane_n=[0,0,1]\n",
    "RENO_det=[0,0,302.562]\n",
    "RENO_radius=1.438\n",
    "#l is handled by the Rescale_Events algorithm.\n",
    "def RENO_cut_2_debug(dat,dp,gamma,mdp,l):\n",
    "    print(\"Reno_cut_2 Debugging!\")\n",
    "    print(dat)\n",
    "    print(dp)\n",
    "    print(l)\n",
    "    print(\"Loc_Scaling\")\n",
    "    print(dat[1]/dat[0]*l,dat[2]/dat[0]*l)\n",
    "    loc_scaling=dec_loc(dat[1]*l/dat[0],dat[2]*l/dat[0])\n",
    "    print(loc_scaling)\n",
    "    loc_scaling=loc_scaling/l*dat[0]\n",
    "    print(loc_scaling)\n",
    "    #Point where the photon decays.\n",
    "    decay_point = [dp[1+i]*loc_scaling/dat[0]+dp[5+i] for i in range(3)]\n",
    "    #Decay happened inside the RENO detector, no need to check photon trajectory.\n",
    "    print(\"Decay_Point\")\n",
    "    print(decay_point)\n",
    "    print(\"Photon Momentum\")\n",
    "    print(gamma)\n",
    "    if decay_point[2] > RENO_det[2]:\n",
    "        print(\"Decay happened in Reno detector!\")\n",
    "        return True\n",
    "    #Momentum vector for the photon\n",
    "    gmomvec=momvec(gamma);\n",
    "    print(gmomvec)\n",
    "    #Check that the photon is moving in the positive z direction.\n",
    "    if gmomvec[2]<0:\n",
    "        print(\"Photon is moving in the wronf direction!\")\n",
    "        return False\n",
    "    #Calculate the point where the photon passes through the plane of the detector.\n",
    "    point1g,R=plane_cross(gmomvec,decay_point,RENO_det,RENO_plane_n)\n",
    "    print(point1g)\n",
    "    print(R)\n",
    "    #If R>RENO_radius, the gamma escaped the decay pipe before entering the RENO detector..\n",
    "    if R>RENO_radius:\n",
    "        print(\"Failed to Crossed into the RENO detector!\")\n",
    "        return False\n",
    "    return True\n",
    "def RENO_cut_2(dat,dp,gamma,mdp,l):\n",
    "    #Multiply this by the dark photon momentum (dat[0]) to get the distance traveled before decay.\n",
    "    loc_scaling=dec_loc(dat[1]*l/dat[0],dat[2]*l/dat[0])/l    \n",
    "    #Point where the photon decays. dp[5+i] corrects for starting position.\n",
    "    decay_point = [dp[1+i]*loc_scaling+dp[5+i] for i in range(3)]\n",
    "    #Decay happened inside the RENO detector, no need to check photon trajectory.\n",
    "    if decay_point[2] > RENO_det[2]:\n",
    "        return True\n",
    "    #Momentum vector for the photon\n",
    "    gmomvec=momvec(gamma);\n",
    "    #Check that the photon is moving in the positive z direction.\n",
    "    if gmomvec[2]<0:\n",
    "        return False\n",
    "    #Calculate the point where the photon passes through the plane of the detector.\n",
    "    point1g,R=plane_cross(gmomvec,decay_point,RENO_det,RENO_plane_n)\n",
    "    #If R>RENO_radius, the gamma escaped the decay pipe before entering the RENO detector..\n",
    "    if R>RENO_radius:\n",
    "        return False\n",
    "    return True\n",
    "RENO_plane_n=[0,0,1]\n",
    "alt_RENO_det=[0,0,301.1]\n",
    "alt_RENO_radius=2.108\n",
    "def alt_RENO_cut_2(dat,dp,gamma,mdp,l):\n",
    "    #Multiply this by the dark photon momentum (dat[0]) to get the distance traveled before decay.\n",
    "    loc_scaling=dec_loc(dat[1]*l/dat[0],dat[2]*l/dat[0])/l    \n",
    "    #Point where the photon decays. dp[5+i] corrects for starting position.\n",
    "    decay_point = [dp[1+i]*loc_scaling+dp[5+i] for i in range(3)]\n",
    "    #Decay happened inside the RENO detector, no need to check photon trajectory.\n",
    "    if decay_point[2] > alt_RENO_det[2]:\n",
    "        return True\n",
    "    #Momentum vector for the photon\n",
    "    gmomvec=momvec(gamma);\n",
    "    #Check that the photon is moving in the positive z direction.\n",
    "    if gmomvec[2]<0:\n",
    "        return False\n",
    "    #Calculate the point where the photon passes through the plane of the detector.\n",
    "    point1g,R=plane_cross(gmomvec,decay_point,alt_RENO_det,RENO_plane_n)\n",
    "    #If R>RENO_radius, the gamma escaped the decay pipe before entering the RENO detector..\n",
    "    if R>alt_RENO_radius:\n",
    "        return False\n",
    "    return True\n",
    "\n",
    "min_energy_NEOS=0.3*mev\n",
    "def NEOS_cut(nevents,weight_tab,DP_tab,gam_tab,ax_tab):\n",
    "    pass_index=[]\n",
    "    for i in range(len(weight_tab)):\n",
    "        energy = gam_tab[i][0]\n",
    "        if energy > min_energy_NEOS:\n",
    "            pass_index.append(i)\n",
    "    weight_tab_2 = [weight_tab[i] for i in pass_index]\n",
    "    DP_tab = [DP_tab[i] for i in pass_index]\n",
    "    gam_tab = [gam_tab[i] for i in pass_index]\n",
    "    ax_tab = [ax_tab[i] for i in pass_index]\n",
    "    nevents = nevents*sum(weight_tab_2)/sum(weight_tab)\n",
    "    return nevents,weight_tab_2,DP_tab,gam_tab,ax_tab\n",
    "\n",
    "NEOS_det=[0,0,23.2525]\n",
    "NEOS_plane_n=[0,0,1]\n",
    "NEOS_radius=0.5015\n",
    "def NEOS_cut_2(dat,dp,gamma,mdp,l):\n",
    "    #Multiply this by the dark photon momentum (dat[0]) to get the distance traveled before decay.\n",
    "    loc_scaling=dec_loc(dat[1]*l/dat[0],dat[2]*l/dat[0])/l    \n",
    "    #Point where the photon decays. dp[5+i] corrects for starting position.\n",
    "    decay_point = [dp[1+i]*loc_scaling+dp[5+i] for i in range(3)]\n",
    "    #Decay happened inside the RENO detector, no need to check photon trajectory.\n",
    "    if decay_point[2] > NEOS_det[2]:\n",
    "        return True\n",
    "    #Momentum vector for the photon\n",
    "    gmomvec=momvec(gamma);\n",
    "    #Check that the photon is moving in the positive z direction.\n",
    "    if gmomvec[2]<0:\n",
    "        return False\n",
    "    #Calculate the point where the photon passes through the plane of the detector.\n",
    "    point1g,R=plane_cross(gmomvec,decay_point,NEOS_det,NEOS_plane_n)\n",
    "    #If R>RENO_radius, the gamma escaped the decay pipe before entering the RENO detector..\n",
    "    if R>NEOS_radius:\n",
    "        return False\n",
    "    return True"
   ]
  },
  {
   "cell_type": "code",
   "execution_count": 1,
   "metadata": {},
   "outputs": [],
   "source": [
    "FASER1_pos=[0,0,480.75]\n",
    "FASER1_n=[0,0,1]\n",
    "FASER1_radius=0.1\n",
    "FASER2_pos=[0,0,482.5]\n",
    "FASER2_n=[0,0,1]\n",
    "FASER2_radius=1\n",
    "FASER_energy_cut=100\n",
    "FASER_evnt=3\n",
    "def FASER1_Cut(nevents,weight_tab,dp_tab,lep_tab,antilep_tab):\n",
    "    pass_index=[]\n",
    "    for i in range(len(weight_tab)):\n",
    "        energy = lep_tab[i][0]+antilep_tab[i][0]\n",
    "        if energy>FASER_energy_cut:\n",
    "            pointl,Rl=plane_cross(momvec(lep_tab[i]),startvec(lep_tab[i]),FASER1_pos,FASER1_n)\n",
    "            pointa,Ra=plane_cross(momvec(antilep_tab[i]),startvec(antilep_tab[i]),FASER1_pos,FASER1_n)\n",
    "            #print(Ra,Rl,pointa,pointl,veclen(sub(pointl,pointa)))\n",
    "            if Ra<FASER1_radius and Rl<FASER1_radius:\n",
    "                pass_index.append(i)\n",
    "    nevents*=len(pass_index)/len(weight_tab)\n",
    "    #print(len(pass_index),len(weight_tab))\n",
    "    weight_tab = [weight_tab[i] for i in pass_index]\n",
    "    dp_tab = [dp_tab[i] for i in pass_index]\n",
    "    lep_tab = [lep_tab[i] for i in pass_index]\n",
    "    antilep_tab = [antilep_tab[i] for i in pass_index]\n",
    "    return nevents,weight_tab,dp_tab,lep_tab,antilep_tab\n",
    "\n",
    "def FASER2_Cut(nevents,weight_tab,dp_tab,lep_tab,antilep_tab):\n",
    "    pass_index=[]\n",
    "    for i in range(len(weight_tab)):\n",
    "        energy = lep_tab[i][0]+antilep_tab[i][0]\n",
    "        if energy>FASER_energy_cut:\n",
    "            pointl,Rl=plane_cross(momvec(lep_tab[i]),startvec(lep_tab[i]),FASER2_pos,FASER2_n)\n",
    "            pointa,Ra=plane_cross(momvec(antilep_tab[i]),startvec(antilep_tab[i]),FASER2_pos,FASER2_n)\n",
    "            #print(Ra,Rl,pointa,pointl,veclen(sub(pointl,pointa)))\n",
    "            if Ra<FASER2_radius and Rl<FASER2_radius:\n",
    "                pass_index.append(i)\n",
    "    nevents*=len(pass_index)/len(weight_tab)\n",
    "    #print(len(pass_index),len(weight_tab))\n",
    "    weight_tab = [weight_tab[i] for i in pass_index]\n",
    "    dp_tab = [dp_tab[i] for i in pass_index]\n",
    "    lep_tab = [lep_tab[i] for i in pass_index]\n",
    "    antilep_tab = [antilep_tab[i] for i in pass_index]\n",
    "    return nevents,weight_tab,dp_tab,lep_tab,antilep_tab"
   ]
  },
  {
   "cell_type": "code",
   "execution_count": 2,
   "metadata": {},
   "outputs": [],
   "source": [
    "MATHUSLA_energy_cut=1\n",
    "MATHUSLA_efficiency=1\n",
    "MATHUSLA_evnt=4\n",
    "MATHUSLA_det=[0,120,200]\n",
    "MATHUSLA_n=[0,1,0]\n",
    "def Mathusla_Cut(nevents,weight_tab,dp_tab,lep_tab,antilep_tab):\n",
    "    pass_index=[]\n",
    "    for i in range(len(weight_tab)):\n",
    "        if lep_tab[i][0]>MATHUSLA_energy_cut and antilep_tab[i][0]>MATHUSLA_energy_cut:\n",
    "            pass_index.append(i)\n",
    "    nevents*=len(pass_index)/len(weight_tab)*MATHUSLA_efficiency\n",
    "    weight_tab = [weight_tab[i] for i in pass_index]\n",
    "    dp_tab = [dp_tab[i] for i in pass_index]\n",
    "    lep_tab = [lep_tab[i] for i in pass_index]\n",
    "    antilep_tab = [antilep_tab[i] for i in pass_index]\n",
    "    return nevents,weight_tab,dp_tab,lep_tab,antilep_tab"
   ]
  },
  {
   "cell_type": "code",
   "execution_count": 3,
   "metadata": {},
   "outputs": [],
   "source": [
    "def Mathusla_Cut_2(dat,dp,lep,alep,mdp,l):\n",
    "    loc_scaling=dec_loc(dat[1]*l/dat[0],dat[2]*l/dat[0])*l/mom(dp)\n",
    "    decay_point=[dp[1+i]*loc_scaling+dp[5+i] for i in range(3)]\n",
    "    lmomvec=momvec(lep);amomvec=momvec(alep);\n",
    "    pointl,Rl=plane_cross(lmomvec,decay_point,MATHUSLA_det,MATHUSLA_n)\n",
    "    if abs(pointl[2]-200)>100 or abs(pointl[0])>100:\n",
    "        return False\n",
    "    pointa,Ra=plane_cross(amomvec,decay_point,MATHUSLA_det,MATHUSLA_n)\n",
    "    if abs(pointa[2]-200)>100 or abs(pointa[0])>100:\n",
    "        return False\n",
    "    if veclen(sub(pointl,pointa))>0.01:\n",
    "        return True\n",
    "    return False"
   ]
  },
  {
   "cell_type": "code",
   "execution_count": 22,
   "metadata": {},
   "outputs": [],
   "source": [
    "def load_mass_tot_file(file):\n",
    "    with open(file) as ef:\n",
    "        dat=ef.read().splitlines()\n",
    "        dat=[line.split('\\t') for line in dat]\n",
    "    return dat"
   ]
  },
  {
   "cell_type": "code",
   "execution_count": 129,
   "metadata": {},
   "outputs": [],
   "source": [
    "tst=load_mass_tot_file(\"data/reactor_production/reno_epsilon_1e-8.dat\")"
   ]
  },
  {
   "cell_type": "code",
   "execution_count": 13,
   "metadata": {},
   "outputs": [],
   "source": [
    "#Generates output files to be run by BDNMC.\n",
    "def run_output_file(file,outfile,out_prepend,samplesize,data_file,eps=0):\n",
    "    with open(file) as f:\n",
    "        b=f.readlines()\n",
    "    mdpmev=data_file.split('_')[-1].split('mev')[0]\n",
    "    mdp=str(float(data_file.split('_')[-1].split('mev')[0])/1000)\n",
    "    gagpg=1e-4\n",
    "    if float(mdp) < 1e-4:\n",
    "        gagpg = 5e-3\n",
    "    rep_arr=[[\"epsilon\",str(eps)],[\"gagpg\",str(gagpg)],[\"dark_photon_mass\",mdp],[\"particle_list_file\",data_file],[\"samplesize\",samplesize],[\"output_file\",out_prepend+\"_{}mev.dat\".format(mdpmev)]]\n",
    "    b=update_param(b,rep_arr)\n",
    "    with open(outfile,'w') as f:\n",
    "            f.writelines(b)\n",
    "    subp.call([\"./build/main\", outfile])"
   ]
  },
  {
   "cell_type": "code",
   "execution_count": 19,
   "metadata": {},
   "outputs": [],
   "source": [
    "file_arr=glob.glob(\"data/reactor_dp_DAP/*\")"
   ]
  },
  {
   "cell_type": "code",
   "execution_count": 94,
   "metadata": {},
   "outputs": [],
   "source": [
    "for file in file_arr:\n",
    "    run_output_file('adp_cards/run_reno_adp.dat',\"adp_cards/run_reno_auto.dat\",\"Events_ADP_3/reno_adp\",20000,file)"
   ]
  },
  {
   "cell_type": "code",
   "execution_count": 47,
   "metadata": {},
   "outputs": [],
   "source": [
    "for file in file_arr:\n",
    "    run_output_file('adp_cards/run_reno_adp.dat',\"adp_cards/run_reno_auto.dat\",\"Events_ADP_DAP/reno_adp\",20000,file)"
   ]
  },
  {
   "cell_type": "code",
   "execution_count": 109,
   "metadata": {},
   "outputs": [],
   "source": [
    "event_file_arr=glob.glob(\"Events_ADP_3/reno_adp*\")\n",
    "mass_tots=load_mass_tot_file(\"data/reactor_production/reno_epsilon_1e-8.dat\")\n",
    "param_arr=calc_params_list(event_file_arr,mass_tots,RENO_cut)\n",
    "record_list(\"reno_1e-8.dat\",param_arr)"
   ]
  },
  {
   "cell_type": "code",
   "execution_count": 23,
   "metadata": {},
   "outputs": [],
   "source": [
    "mass_tots=load_mass_tot_file(\"data/reactor_production/reno_epsilon_0.dat\")"
   ]
  },
  {
   "cell_type": "code",
   "execution_count": 57,
   "metadata": {},
   "outputs": [],
   "source": [
    "mdp,malp,gagpg_eval,eps_eval,eff,dp_lifetime,nevents,weight_tab,DP_tab,gam_tab,ax_tab=Event_Parser_a_gamma(\"Events_ADP_DAP/reno_adp_2.mev.dat\",RENO_cut,5.729711675878356e9)"
   ]
  },
  {
   "cell_type": "code",
   "execution_count": 58,
   "metadata": {},
   "outputs": [
    {
     "data": {
      "text/plain": [
       "318224.0493888325"
      ]
     },
     "execution_count": 58,
     "metadata": {},
     "output_type": "execute_result"
    }
   ],
   "source": [
    "nevents"
   ]
  },
  {
   "cell_type": "code",
   "execution_count": 40,
   "metadata": {},
   "outputs": [
    {
     "data": {
      "text/plain": [
       "['Events_ADP_DAP/reno_adp_2.mev.dat']"
      ]
     },
     "execution_count": 40,
     "metadata": {},
     "output_type": "execute_result"
    }
   ],
   "source": [
    "event_file_arr"
   ]
  },
  {
   "cell_type": "code",
   "execution_count": 53,
   "metadata": {},
   "outputs": [],
   "source": [
    "mass_tots=load_mass_tot_file(\"data/reactor_production/reno_epsilon_0.dat\")"
   ]
  },
  {
   "cell_type": "code",
   "execution_count": 54,
   "metadata": {},
   "outputs": [
    {
     "data": {
      "text/plain": [
       "[['0.00001', '1.8071675314396395e13'],\n",
       " ['0.00002', '1.777185386953287e13'],\n",
       " ['0.00005', '1.7247551401638375e13'],\n",
       " ['0.00007000000000000001', '1.608644241132703e13'],\n",
       " ['0.0001', '1.4853897275248088e13'],\n",
       " ['0.0002', '1.026602912587326e13'],\n",
       " ['0.0005', '2.0260057595491511e12'],\n",
       " ['0.0007', '5.897686085967267e11'],\n",
       " ['0.001', '8.203558434571228e10'],\n",
       " ['0.0014', '5.392915908546829e9'],\n",
       " ['0.0018000000000000002', '2.866581967299119e8'],\n",
       " ['0.002', '5.7297116758783564e7'],\n",
       " ['0.0022', '1.1606670966760106e7'],\n",
       " ['0.0024', '2.0725468513724452e6'],\n",
       " ['0.0025499999999999997', '525718.8109132552'],\n",
       " ['0.0026000000000000003', '323384.65711578244'],\n",
       " ['0.00265', '197725.58026672775'],\n",
       " ['0.0027', '119865.02356920853'],\n",
       " ['0.00275', '72358.37235081565'],\n",
       " ['0.0028', '40773.50143811454'],\n",
       " ['0.003', '3125.8676969400863'],\n",
       " ['0.0032', '73.12538830530062'],\n",
       " ['0.0032500000000000003', '21.16761394757204'],\n",
       " ['0.0033', '3.624716732867972'],\n",
       " ['0.00335', '0.22363112148886785'],\n",
       " ['0.0034', '0.0009602993634339002']]"
      ]
     },
     "execution_count": 54,
     "metadata": {},
     "output_type": "execute_result"
    }
   ],
   "source": [
    "mass_tots"
   ]
  },
  {
   "cell_type": "code",
   "execution_count": 39,
   "metadata": {},
   "outputs": [],
   "source": [
    "event_file_arr=glob.glob(\"Events_ADP_DAP/reno_adp*\")\n",
    "mass_tots=load_mass_tot_file(\"data/reactor_production/reno_epsilon_0.dat\")\n",
    "param_arr=calc_params_list_DAP(event_file_arr,mass_tots,RENO_cut)\n",
    "record_list(\"reno_DAP.dat\",param_arr)"
   ]
  },
  {
   "cell_type": "code",
   "execution_count": 37,
   "metadata": {},
   "outputs": [],
   "source": [
    "event_file_arr=glob.glob(\"Events_ADP_3/reno_adp*\")\n",
    "mass_tots=load_mass_tot_file(\"data/reactor_production/reno_epsilon_1e-9.dat\")\n",
    "param_arr=calc_params_list(event_file_arr,mass_tots,RENO_cut)\n",
    "record_list(\"reno_1e-9.dat\",param_arr)"
   ]
  },
  {
   "cell_type": "code",
   "execution_count": 26,
   "metadata": {},
   "outputs": [],
   "source": [
    "file_arr=glob.glob(\"data/reactor_dp_NEOS/*\")\n",
    "for file in file_arr:\n",
    "    run_output_file('adp_cards/run_neos_adp.dat',\"adp_cards/run_neos_auto.dat\",\"Events_ADP_3/neos_adp\",20000,file)"
   ]
  },
  {
   "cell_type": "code",
   "execution_count": 27,
   "metadata": {},
   "outputs": [],
   "source": [
    "event_file_arr=glob.glob(\"Events_ADP_3/neos_adp*\")\n",
    "mass_tots=load_mass_tot_file(\"data/reactor_production/neos_epsilon_1e-8.dat\")\n",
    "param_arr=calc_params_list(event_file_arr,mass_tots,NEOS_cut)\n",
    "record_list(\"neos_1e-8.dat\",param_arr)"
   ]
  },
  {
   "cell_type": "code",
   "execution_count": 30,
   "metadata": {},
   "outputs": [],
   "source": [
    "event_file_arr=glob.glob(\"Events_ADP_3/neos_adp*\")\n",
    "mass_tots=load_mass_tot_file(\"data/reactor_production/neos_epsilon_1e-9.dat\")\n",
    "param_arr=calc_params_list(event_file_arr,mass_tots,NEOS_cut)\n",
    "record_list(\"neos_1e-9.dat\",param_arr)"
   ]
  },
  {
   "cell_type": "code",
   "execution_count": 101,
   "metadata": {},
   "outputs": [],
   "source": [
    "file_arr=[ 'data/reactor_dp_decaypipe/dp_0.001mev.dat']"
   ]
  },
  {
   "cell_type": "code",
   "execution_count": 103,
   "metadata": {},
   "outputs": [],
   "source": [
    "file_arr=glob.glob(\"data/reactor_dp_decaypipe/*\")\n",
    "for file in file_arr:\n",
    "    run_output_file('adp_cards/run_reno_decaypipe_adp.dat',\"adp_cards/run_reno_decaypipe_auto.dat\",\"Events_ADP_3/reno_decaypipe_adp\",50000,file)"
   ]
  },
  {
   "cell_type": "code",
   "execution_count": 110,
   "metadata": {},
   "outputs": [],
   "source": [
    "event_file_arr=glob.glob(\"Events_ADP_3/reno_decaypipe_adp*\")\n",
    "mass_tots=load_mass_tot_file(\"data/reactor_production/reno_decaypipe_epsilon_1e-8.dat\")\n",
    "param_arr=calc_params_list(event_file_arr,mass_tots,RENO_cut,cut2=RENO_cut_2)\n",
    "record_list(\"reno_decaypipe_1e-8.dat\",param_arr)"
   ]
  },
  {
   "cell_type": "code",
   "execution_count": null,
   "metadata": {},
   "outputs": [],
   "source": [
    "event_file_arr=glob.glob(\"Events_ADP_3/reno_decaypipe_adp*\")\n",
    "mass_tots=load_mass_tot_file(\"data/reactor_production/reno_decaypipe_epsilon_1e-9.dat\")\n",
    "param_arr=calc_params_list(event_file_arr,mass_tots,RENO_cut,cut2=RENO_cut_2)\n",
    "record_list(\"reno_decaypipe_1e-9.dat\",param_arr)"
   ]
  },
  {
   "cell_type": "code",
   "execution_count": 105,
   "metadata": {},
   "outputs": [],
   "source": [
    "file_arr=glob.glob(\"data/reactor_dp_decaypipe/*\")\n",
    "for file in file_arr:\n",
    "    run_output_file('adp_cards/run_reno_decaypipe2_adp.dat',\"adp_cards/run_reno_decaypipe2_auto.dat\",\"Events_ADP_3/reno_decaypipe2_adp\",50000,file)"
   ]
  },
  {
   "cell_type": "code",
   "execution_count": 111,
   "metadata": {},
   "outputs": [],
   "source": [
    "event_file_arr=glob.glob(\"Events_ADP_3/reno_decaypipe2_adp*\")\n",
    "mass_tots=load_mass_tot_file(\"data/reactor_production/reno_decaypipe_epsilon_1e-8.dat\")\n",
    "param_arr=calc_params_list(event_file_arr,mass_tots,RENO_cut,cut2=alt_RENO_cut_2)\n",
    "record_list(\"reno_decaypipe2_1e-8.dat\",param_arr)"
   ]
  },
  {
   "cell_type": "code",
   "execution_count": 137,
   "metadata": {},
   "outputs": [],
   "source": [
    "file_arr=glob.glob(\"data/reactor_dp_decaypipe_NEOS/*\")\n",
    "for file in file_arr:\n",
    "    run_output_file('adp_cards/run_neos_decaypipe_adp.dat',\"adp_cards/run_neos_decaypipe_auto.dat\",\"Events_ADP_3/neos_decaypipe_adp\",100000,file)"
   ]
  },
  {
   "cell_type": "code",
   "execution_count": 138,
   "metadata": {},
   "outputs": [],
   "source": [
    "event_file_arr=glob.glob(\"Events_ADP_3/neos_decaypipe_adp*\")\n",
    "mass_tots=load_mass_tot_file(\"data/reactor_production/neos_decaypipe_epsilon_1e-8.dat\")\n",
    "param_arr=calc_params_list(event_file_arr,mass_tots,NEOS_cut,cut2=NEOS_cut_2)\n",
    "record_list(\"neos_decaypipe_1e-8.dat\",param_arr)"
   ]
  },
  {
   "cell_type": "code",
   "execution_count": null,
   "metadata": {},
   "outputs": [],
   "source": []
  }
 ],
 "metadata": {
  "kernelspec": {
   "display_name": "Python 3",
   "language": "python",
   "name": "python3"
  },
  "language_info": {
   "codemirror_mode": {
    "name": "ipython",
    "version": 3
   },
   "file_extension": ".py",
   "mimetype": "text/x-python",
   "name": "python",
   "nbconvert_exporter": "python",
   "pygments_lexer": "ipython3",
   "version": "3.8.2"
  }
 },
 "nbformat": 4,
 "nbformat_minor": 4
}
