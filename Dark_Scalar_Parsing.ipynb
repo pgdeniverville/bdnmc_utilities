{
 "cells": [
  {
   "cell_type": "code",
   "execution_count": 81,
   "metadata": {},
   "outputs": [],
   "source": [
    "from parser_funcs import *\n",
    "import numpy as np\n",
    "import os\n",
    "import math\n",
    "from scipy.special import kn\n",
    "from scipy.interpolate import interp1d\n",
    "from scipy.interpolate import SmoothBivariateSpline\n",
    "from scipy.optimize import brentq\n",
    "from scipy.integrate import quad\n",
    "from scipy.interpolate import griddata\n",
    "from scipy.optimize import minimize_scalar\n",
    "from scipy.optimize import root_scalar\n",
    "import sys\n",
    "import glob\n",
    "import random\n",
    "import numpy as np\n",
    "import matplotlib.pyplot as plt"
   ]
  },
  {
   "cell_type": "code",
   "execution_count": 67,
   "metadata": {},
   "outputs": [],
   "source": [
    "def Event_Parser(event_file, cut):\n",
    "    with open(event_file) as ef:\n",
    "        dat=ef.read().splitlines()\n",
    "        run_num=''\n",
    "        for line in dat:\n",
    "            line=line.split()\n",
    "            if len(line)==2 and line[0]==\"Run\":\n",
    "                run_num=line[1]                \n",
    "                break\n",
    "    dat2 = [line.split() for line in dat]\n",
    "    sum_line= dat2[-1]\n",
    "    weight_tab=[float(line[2]) for line in dat2 if len(line)==3 and line[0]==\"event\"]\n",
    "    s_tab=[[float(line[i]) for i in range(1,len(line))] for line in dat2 if len(line)>1\\\n",
    "                and line[0]=='Dark_Scalar']\n",
    "    lep = [[float(line[i]) for i in range(1,len(line))]+[line[0]] for line in dat2 if len(line)>1\\\n",
    "                and (line[0]=='Decay_Electron' or line[0]=='Decay_Muon')]\n",
    "    antilep = [[float(line[i]) for i in range(1,len(line))]+[line[0]] for line in dat2 if len(line)>1 and (line[0]=='Decay_Positron' or line[0]=='Decay_Antimuon')]\n",
    "    ms = sum_line[2]\n",
    "    eps_q = sum_line[3]\n",
    "    eps_l = sum_line[4]\n",
    "    eps_w = sum_line[5]\n",
    "    nevents = float(sum_line[1])\n",
    "    POT = float(sum_line[10])\n",
    "    S_lifetime=hbar/float(sum_line[6])\n",
    "    eff=float(sum_line[9])\n",
    "    nevents,weight_tab,s_tab,lep,antilep_tab=cut(nevents,weight_tab,s_tab,lep,antilep)\n",
    "    return [float(ms),float(eps_q),float(eps_l),float(eps_w),eff,S_lifetime,nevents,weight_tab,s_tab,lep,antilep]"
   ]
  },
  {
   "cell_type": "code",
   "execution_count": 3,
   "metadata": {},
   "outputs": [],
   "source": [
    "def f(x): ## A function use in the form factor\n",
    "    if (x<=1):\n",
    "        return np.arcsin(np.sqrt(x))**2\n",
    "    else:\n",
    "        return -1/4*(np.log((1+np.sqrt(1-1/x))/(1-np.sqrt(1-1/x))) - 1j*np.pi)**2\n",
    "\n",
    "### W boson, quarks and leptons masses in GeV\n",
    "m_quark_uplike = [2.15e-3, 1.280, 173.21] # u, c, t\n",
    "m_quark_downlike = [4.7e-3, 0.094, 4.18] # d, s, b\n",
    "m_lepton = [0.511e-3, 0.1057, 1.777]\n",
    "m_W, v = 80.38, 246.22\n",
    "alpha_em = 1/137\n",
    "\n",
    "def Decay_Width_Photon(m_S,eps_q,eps_l):   # decay width to di-photon through effective di-photon coupling\n",
    "    eps_W = eps_q   ## an assumption in the model \n",
    "    x_w = (m_S/(2*m_W))**2    # mass ratio\n",
    "    A_W = -(2*x_w**2 + 3*x_w + 3*(2*x_w-1)*f(x_w))/x_w**2     ## A_q, A_l and A_W are loop functions. \n",
    "    A_l, A_q = 0, 0\n",
    "    for m_l in m_lepton:\n",
    "        x_l = (m_S/(2*m_l))**2\n",
    "        A_l += 2*(x_l + (x_l-1)*f(x_l))/x_l**2\n",
    "    for m_q in m_quark_uplike:\n",
    "        x_q = (m_S/(2*m_q))**2\n",
    "        A_q += 3*(2/3)**2*(2*(x_q + (x_q-1)*f(x_q))/x_q**2)\n",
    "    for m_q in m_quark_downlike:\n",
    "        x_q = (m_S/(2*m_q))**2\n",
    "        A_q += 3*(1/3)**2*(2*(x_q + (x_q-1)*f(x_q))/x_q**2)   \n",
    "    Form_Factor_Photon = eps_q*A_q + eps_l*A_l +  eps_W*A_W \n",
    "    Gamma_Photon = m_S**3*(alpha_em/(4*np.pi))**2/(16*np.pi*v**2)*np.absolute(Form_Factor_Photon)**2\n",
    "    return Gamma_Photon\n",
    "\n",
    "def betha(m_S,m):\n",
    "    return np.power(1-np.power(2*m/m_S,2),0.5)\n",
    "\n",
    "def Decay_Width_lepton(m_lepton,m_S,eps_l):  # decay width to pairs of l+l-\n",
    "    Gamma_lepton = (m_S*eps_l**2*betha(m_S,m_lepton)**3/(8*np.pi))*(m_lepton/v)**2 if (m_S>=2*m_lepton) else  0\n",
    "    return Gamma_lepton"
   ]
  },
  {
   "cell_type": "code",
   "execution_count": 4,
   "metadata": {},
   "outputs": [],
   "source": [
    "def Decay_Width_Total(m_S,eps_l,eps_q):\n",
    "    return Decay_Width_lepton(m_lepton[0],m_S,eps_l)+Decay_Width_lepton(m_lepton[1],m_S,eps_l)+Decay_Width_Photon(m_lepton[0],m_S,eps_l)"
   ]
  },
  {
   "cell_type": "code",
   "execution_count": 92,
   "metadata": {},
   "outputs": [],
   "source": [
    "test=[[m_S,Decay_Width_Total(m_S,1e-4,1e-2)] for m_S in np.array([190,200,205,210,215,220])*1e-3]"
   ]
  },
  {
   "cell_type": "code",
   "execution_count": 98,
   "metadata": {},
   "outputs": [
    {
     "data": {
      "text/plain": [
       "57.6598635418461"
      ]
     },
     "execution_count": 98,
     "metadata": {},
     "output_type": "execute_result"
    }
   ],
   "source": [
    "hbar*speed_of_light/Decay_Width_Total(0.2,1e-2,1e-2)"
   ]
  },
  {
   "cell_type": "code",
   "execution_count": 99,
   "metadata": {},
   "outputs": [
    {
     "data": {
      "text/plain": [
       "0.05766043317926463"
      ]
     },
     "execution_count": 99,
     "metadata": {},
     "output_type": "execute_result"
    }
   ],
   "source": [
    "hbar*speed_of_light/Decay_Width_Total(0.22,1e-2,1e-2)"
   ]
  },
  {
   "cell_type": "code",
   "execution_count": 93,
   "metadata": {},
   "outputs": [
    {
     "data": {
      "text/plain": [
       "[[0.19, 3.2566046381982446e-22],\n",
       " [0.2, 3.4280509525505073e-22],\n",
       " [0.20500000000000002, 3.513775035035174e-22],\n",
       " [0.21, 3.5994997508042713e-22],\n",
       " [0.215, 9.577241324294905e-20],\n",
       " [0.22, 3.427394361316076e-19]]"
      ]
     },
     "execution_count": 93,
     "metadata": {},
     "output_type": "execute_result"
    }
   ],
   "source": [
    "test"
   ]
  },
  {
   "cell_type": "code",
   "execution_count": 68,
   "metadata": {},
   "outputs": [],
   "source": [
    "def Return_True(dat,ds,lep,alep,ms,l):\n",
    "    return True\n",
    "#eps=eps_l\n",
    "def Rescale_Events(dat,ds,lep,alep,ms,lifetime,tot_weight,eps,epset,eps_q,events,cut,state=None):\n",
    "    if state is not None:\n",
    "        random.setstate(state)\n",
    "    prob=0\n",
    "    #life=lifetime*(epset/eps)**2\n",
    "    dwtot=Decay_Width_Total(ms,eps,eps_q)\n",
    "    life=hbar/dwtot\n",
    "    l=1.0/speed_of_light/life*ms\n",
    "    for i,u in enumerate(dat):\n",
    "        ptmp=dec_prob(u[1]*l/u[0],u[2]*l/u[0])\n",
    "        if cut(u,ds[i],lep[i],alep[i],ms,l):\n",
    "            prob+=ptmp\n",
    "        else:\n",
    "            continue\n",
    "    return prob/tot_weight*events*(Decay_Width_lepton(m_lepton[0],ms,eps)/dwtot)"
   ]
  },
  {
   "cell_type": "code",
   "execution_count": 69,
   "metadata": {},
   "outputs": [],
   "source": [
    "def calc_params(file,evnt,cut,cut2=Return_True):\n",
    "    try:#eps_l is called eps in this\n",
    "        ms,eps_q,eps_eval,eps_w,eff,S_lifetime,nevents,weight_tab,ds_dat,lep,alep=Event_Parser(file,cut)\n",
    "    except:\n",
    "        print(\"Exception\", file)\n",
    "        return [-1,-1,-1]\n",
    "    if nevents==0:\n",
    "        return [-1,-1,-1]\n",
    "    dat = [[mom(u),u[14],u[15]] for u in ds_dat]\n",
    "    tot_weight=0\n",
    "    for i in weight_tab:\n",
    "        tot_weight+=i\n",
    "    state=random.getstate()\n",
    "    evnt_rate = lambda eps : -1.0*Rescale_Events(dat,ds_dat,lep,alep,ms,S_lifetime,tot_weight,10**eps,eps_eval,eps_q,nevents,cut2,state=state)\n",
    "    diff_from_evnt = lambda eps : abs(evnt_rate(eps)+evnt)\n",
    "    diff_from_evnt_2 = lambda eps : evnt-Rescale_Events(dat,ds_dat,lep,alep,ms,S_lifetime,tot_weight,eps,eps_eval,eps_q,nevents,cut2,state=state)\n",
    "    opt=minimize_scalar(evnt_rate,bounds=(-8,0),method='bounded')\n",
    "    if opt.fun>-evnt:\n",
    "        return [ms,-1,-1]\n",
    "    \n",
    "    opt2=minimize_scalar(diff_from_evnt,bounds=(-8,opt.x),method='bounded')\n",
    "\n",
    "    x=opt.x\n",
    "    xstep=0.1\n",
    "    while diff_from_evnt_2(10**x)<0:\n",
    "        x+=xstep\n",
    "    \n",
    "    sol = root_scalar(diff_from_evnt_2, bracket=[10**(x-xstep), 10**x], method='brentq')    \n",
    "    \n",
    "    return [ms,10**opt2.x,sol.root]"
   ]
  },
  {
   "cell_type": "code",
   "execution_count": 28,
   "metadata": {},
   "outputs": [],
   "source": [
    "Nucal_efficiency=0.7\n",
    "Nucal_energy_cut_1=3\n",
    "Nucal_evnt_1=6.06\n",
    "Nucal_angle=0.05\n",
    "def Nucal_Cut_1(nevents,weight_tab,S_tab,lep_tab,antilep_tab):\n",
    "    pass_index=[]\n",
    "    for i in range(len(weight_tab)):\n",
    "        energy=lep_tab[i][0]+antilep_tab[i][0]\n",
    "        if lep_tab[i][-1]==\"Decay_Electron\" and energy>Nucal_energy_cut_1 and theta(lep_tab[i]) < Nucal_angle and theta(antilep_tab[i]) < Nucal_angle:\n",
    "            pass_index.append(i)\n",
    "    nevents*=len(pass_index)/len(weight_tab)*Nucal_efficiency\n",
    "    weight_tab = [weight_tab[i] for i in pass_index]\n",
    "    S_tab = [S_tab[i] for i in pass_index]\n",
    "    lep_tab = [lep_tab[i] for i in pass_index]\n",
    "    antilep_tab = [antilep_tab[i] for i in pass_index]\n",
    "    return nevents,weight_tab,S_tab,lep_tab,antilep_tab\n",
    "\n",
    "Nucal_energy_cut_2=10\n",
    "Nucal_evnt_2=3.64\n",
    "def Nucal_Cut_2(nevents,weight_tab,S_tab,lep_tab,antilep_tab):\n",
    "    pass_index=[]\n",
    "    for i in range(len(weight_tab)):\n",
    "        energy=lep_tab[i][0]+antilep_tab[i][0]\n",
    "        if lep_tab[i][-1]==\"Decay_Electron\" and energy>Nucal_energy_cut_2 and theta(lep_tab[i]) < Nucal_angle and theta(antilep_tab[i]) < Nucal_angle:\n",
    "            pass_index.append(i)\n",
    "    nevents*=len(pass_index)/len(weight_tab)*Nucal_efficiency\n",
    "    weight_tab = [weight_tab[i] for i in pass_index]\n",
    "    S_tab = [S_tab[i] for i in pass_index]\n",
    "    lep_tab = [lep_tab[i] for i in pass_index]\n",
    "    antilep_tab = [antilep_tab[i] for i in pass_index]\n",
    "    return nevents,weight_tab,S_tab,lep_tab,antilep_tab"
   ]
  },
  {
   "cell_type": "code",
   "execution_count": 95,
   "metadata": {},
   "outputs": [],
   "source": [
    "nucal_files=glob.glob('Dark_Scalar/nucal/*')\n",
    "bounds=[calc_params(file,Nucal_evnt_1,Nucal_Cut_1) for file in nucal_files]\n",
    "bounds = [x for x in bounds if x[0]!=-1 and (x[1]!=-1 and x[2]!=-1)]\n",
    "bounds.sort()\n",
    "record_list(\"Scalar_Nucal.dat\",bounds)"
   ]
  },
  {
   "cell_type": "code",
   "execution_count": null,
   "metadata": {},
   "outputs": [],
   "source": [
    "calc_params('Dark_Scalar/nucal/nucal_0.1.dat',Nucal_evnt_1,Nucal_Cut_1)"
   ]
  },
  {
   "cell_type": "code",
   "execution_count": 80,
   "metadata": {},
   "outputs": [
    {
     "data": {
      "text/plain": [
       "[[0.0011, 0.1241540559862014, 458.0858830569868],\n",
       " [0.0012, 0.06628960209154672, 252.7243181801338],\n",
       " [0.0013, 0.048376508175751655, 181.71318186414408],\n",
       " [0.0014, 0.03796511141793081, 144.93799061075978],\n",
       " [0.0015, 0.032771544521343336, 120.60571226028864],\n",
       " [0.0017, 0.025000885596184273, 93.39954480174201],\n",
       " [0.0019, 0.020445345446396743, 77.46012066460115],\n",
       " [0.002, 0.018634328880530363, 71.48995696066628],\n",
       " [0.003, 0.010923499113932691, 41.75562243255692],\n",
       " [0.004, 0.007875674254798744, 30.008612364254436],\n",
       " [0.005, 0.006131046881623625, 23.530579235520754],\n",
       " [0.01, 0.0030060150449903026, 11.504173096662232],\n",
       " [0.015, 0.002000456381338038, 7.637857425409387],\n",
       " [0.02, 0.0015067478079864973, 5.7088239786268],\n",
       " [0.03, 0.0010111080063151339, 3.8057457942214863],\n",
       " [0.04, 0.0007620108027406087, 2.857939603143908],\n",
       " [0.06, 0.0005212718029298849, 1.9021306637242335],\n",
       " [0.08, 0.00040521343313971677, 1.4268403285456297],\n",
       " [0.1, 0.00033659530337275804, 1.1419281703405746],\n",
       " [0.13, 0.0002768596227617244, 0.8779772531625287],\n",
       " [0.14, 0.00026283414986033376, 0.8160390156489877],\n",
       " [0.15, 0.00025065702772582874, 0.7605185595391778],\n",
       " [0.175, 0.00022765892497229493, 0.6529778657371588],\n",
       " [0.2, 0.00021227642577443913, 0.5707512423892448],\n",
       " [0.225, 0.00028734126422627816, 0.00670546737244466],\n",
       " [0.25, 0.0002825212952610525, 0.0024711069705616795],\n",
       " [0.275, 0.0002844116165434771, 0.001481693441180764],\n",
       " [0.28, 0.00034685534166696504, 0.001238189619238029],\n",
       " [0.285, 0.0002985165816077414, 0.0012408469577202268],\n",
       " [0.29, 0.00032068472934694163, 0.0010968709777752523],\n",
       " [0.295, 0.00032629106984571123, 0.0010300987485444726],\n",
       " [0.3, 0.00028942154043098555, 0.0010367811808207718],\n",
       " [0.325, 0.00030732875406875156, 0.0007657507848231482],\n",
       " [0.35, 0.000324864811693499, 0.0005866578579629306],\n",
       " [0.355, 0.00033693810654550886, 0.0005482353996699934],\n",
       " [0.36, 0.0003428759403930486, 0.0005185422099068263],\n",
       " [0.365, 0.0003576625410737234, 0.00047959535007706795],\n",
       " [0.37, 0.0004073300975366051, 0.0004099502239500561]]"
      ]
     },
     "execution_count": 80,
     "metadata": {},
     "output_type": "execute_result"
    }
   ],
   "source": [
    "bounds"
   ]
  },
  {
   "cell_type": "code",
   "execution_count": null,
   "metadata": {
    "collapsed": true
   },
   "outputs": [],
   "source": []
  }
 ],
 "metadata": {
  "kernelspec": {
   "display_name": "Python 3",
   "language": "python",
   "name": "python3"
  },
  "language_info": {
   "codemirror_mode": {
    "name": "ipython",
    "version": 3
   },
   "file_extension": ".py",
   "mimetype": "text/x-python",
   "name": "python",
   "nbconvert_exporter": "python",
   "pygments_lexer": "ipython3",
   "version": "3.8.2"
  }
 },
 "nbformat": 4,
 "nbformat_minor": 4
}
