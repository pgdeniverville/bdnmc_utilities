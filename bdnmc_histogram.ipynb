{
 "cells": [
  {
   "cell_type": "code",
   "execution_count": 1,
   "metadata": {},
   "outputs": [],
   "source": [
    "import numpy as np\n",
    "import matplotlib as mpl\n",
    "import matplotlib.pyplot as plt\n",
    "import math\n",
    "import sys\n",
    "import glob"
   ]
  },
  {
   "cell_type": "code",
   "execution_count": 2,
   "metadata": {},
   "outputs": [],
   "source": [
    "speed_of_light=299792458;"
   ]
  },
  {
   "cell_type": "code",
   "execution_count": 3,
   "metadata": {},
   "outputs": [],
   "source": [
    "summary_file=\"Events_Test/nova_electron.dat\"\n",
    "event_file=\"Events_Test/nova_electron_100_33.dat\"\n",
    "prepend_name=\"nova_hist_\""
   ]
  },
  {
   "cell_type": "code",
   "execution_count": 4,
   "metadata": {},
   "outputs": [],
   "source": [
    "def find_total(summary_file,run_num):\n",
    "    with open(summary_file) as sf:\n",
    "        dats=sf.read().splitlines()\n",
    "        for i in range(len(dats)):\n",
    "            line=dats[i].split()\n",
    "            if len(line)==2 and line[1]==run_num:\n",
    "                for j in range(len(dats)-i-1):\n",
    "                    line2 = dats[i+j+1].split()\n",
    "                    if len(line2) > 4 and line2[0]==\"Total\":\n",
    "                        return float(line2[3])\n",
    "        print(\"Could not find run \" + run_num)\n",
    "        return -1\n",
    "\n",
    "def mom(arr):\n",
    "    return math.sqrt(arr[3]**2+arr[1]**2+arr[2]**2)\n",
    "    \n",
    "def cos_theta(arr):\n",
    "    return math.acos(arr[3]/mom(arr))\n",
    "\n",
    "#Expect each element of arr to be 4 elements. Expects px py pz E.\n",
    "def invariant_mass(arr):\n",
    "    tot = [0,0,0,0]\n",
    "    for line in arr:\n",
    "        for i in range(4):\n",
    "            tot[i]+=line[i]\n",
    "    return tot[3]**2-tot[0]**2-tot[1]**2-tot[2]**2"
   ]
  },
  {
   "cell_type": "code",
   "execution_count": 5,
   "metadata": {},
   "outputs": [],
   "source": [
    "def ADP_binning(event_file,summary_file):\n",
    "    with open(event_file) as ef:\n",
    "        dat=ef.read().splitlines()\n",
    "        run_num=''\n",
    "    \n",
    "        for line in dat:\n",
    "            line=line.split()\n",
    "            if len(line)==2 and line[0]==\"Run\":\n",
    "                run_num=line[1]\n",
    "                break\n",
    "    \n",
    "    print(\"Searching for Run \" + run_num)\n",
    "    nevents = find_total(summary_file,run_num)\n",
    "    if nevents == -1:\n",
    "        print(\"No Histograms to generate.\")\n",
    "        return\n",
    "    \n",
    "    print(\"Run located, \" + str(nevents) + \" events.\")\n",
    "    "
   ]
  },
  {
   "cell_type": "code",
   "execution_count": 6,
   "metadata": {},
   "outputs": [],
   "source": [
    "def select_particle(event_file,part_name):\n",
    "    with open(event_file) as ef:\n",
    "        dat=ef.read().splitlines()\n",
    "        \n",
    "    dat = [line.split() for line in dat]\n",
    "    sum_line = dat[-1]\n",
    "    mv=sum_line[1]\n",
    "    mx=sum_line[2]\n",
    "    nevents=sum_line[3]\n",
    "    \n",
    "    parts = [[float(line[i]) for i in range(1,len(line))] for line in dat if len(line)>2 and line[0]==part_name]\n",
    "    \n",
    "    return float(mv),float(mx),float(nevents),parts,event_file"
   ]
  },
  {
   "cell_type": "code",
   "execution_count": 7,
   "metadata": {},
   "outputs": [],
   "source": [
    "def claudia_binning(nevents,parts):\n",
    "    energies=[p[0] for p in parts if p[0]<=2]\n",
    "    eff=len(energies)/len(parts)\n",
    "    plt.figure(0)\n",
    "    hist, bin_edges = np.histogram(energies,bins=20,normed=1)\n",
    "    bin_centers = (bin_edges[:-1] + bin_edges[1:]) / 2\n",
    "    return bin_centers,eff*hist*nevents/(bin_edges[1]-bin_edges[0])\n",
    "    #plt.bar(bin_centers,hist*nevents,width=bin_edges[1]-bin_edges[0],linewidth=1,edgecolor='black',log=False)\n",
    "    #plt.show()"
   ]
  },
  {
   "cell_type": "code",
   "execution_count": 9,
   "metadata": {},
   "outputs": [],
   "source": [
    "def iterateoverfiles(files):\n",
    "    xy=list()\n",
    "    for file in files:\n",
    "        mv,mx,nevents,parts,eventfile=select_particle(file,'electron')\n",
    "        x,y=claudia_binning(nevents,parts)\n",
    "        angle=file.split('.dat')[0].split('_')[-1]\n",
    "        xy+=[[mv,angle,x,y]]\n",
    "    return xy"
   ]
  },
  {
   "cell_type": "code",
   "execution_count": 10,
   "metadata": {},
   "outputs": [],
   "source": [
    "def pi0_binning(event_file,summary_file):\n",
    "    with open(event_file) as ef:\n",
    "        dat=ef.read().splitlines()\n",
    "        run_num=''\n",
    "    \n",
    "        for line in dat:\n",
    "            line=line.split()\n",
    "            if len(line)==2 and line[0]==\"Run\":\n",
    "                run_num=line[1]\n",
    "                break\n",
    "    \n",
    "    print(\"Searching for Run \" + run_num)\n",
    "    nevents = find_total(summary_file,run_num)\n",
    "    if nevents == -1:\n",
    "        print(\"No Histograms to generate.\")\n",
    "        return\n",
    "    \n",
    "    print(\"Run located, \" + str(nevents) + \" events.\")    \n",
    "    dat2 = [line.split() for line in dat]\n",
    "    photons=list()\n",
    "    electrons=list()\n",
    "    for i in range(len(dat2)):\n",
    "        if(len(dat2[i])==2 and dat2[i][0]==\"event\"):\n",
    "            tmp_phot=[]\n",
    "            tmp_ele=[]\n",
    "            for j in range(1,10):\n",
    "                if len(dat2[i+j])==0:\n",
    "                    continue\n",
    "                if dat2[i+j]=='endevent':\n",
    "                    i+=j+1\n",
    "                    break\n",
    "                elif dat2[i+j][0]=='Decay_Photon':\n",
    "                    tmp_phot = dat2[i+j]\n",
    "                elif dat2[i+j][0]=='Electron':\n",
    "                    tmp_ele = dat2[i+j]\n",
    "                if len(tmp_phot)>1 and len(tmp_ele)>1:\n",
    "                    photons.append(tmp_phot)\n",
    "                    electrons.append(tmp_ele)\n",
    "                    tmp_phot=[]\n",
    "                    tmp_ele=[]\n",
    "        else:\n",
    "            continue\n",
    "    \n",
    "    photon = [[float(line[i]) for i in range(1,len(line))] for line in photons]\n",
    "    electron = [[float(line[i]) for i in range(1,len(line))] for line in electrons]\n",
    "    pi0 = [invariant_mass([photon[i],electron[i]]) for i in range(len(photon))]\n",
    "    \n",
    "    pi02 = [x for x in pi0 if x>0.08**2 and x<0.2**2]\n",
    "    \n",
    "    plt.figure(0)\n",
    "    hist, bin_edges = np.histogram(pi0,bins=20,normed=1)\n",
    "    bin_centers = (bin_edges[:-1] + bin_edges[1:]) / 2\n",
    "    plt.bar(bin_centers,hist*nevents,width=bin_edges[1]-bin_edges[0],linewidth=1,edgecolor='black',log=False)\n",
    "    plt.show()"
   ]
  },
  {
   "cell_type": "code",
   "execution_count": 88,
   "metadata": {},
   "outputs": [
    {
     "name": "stdout",
     "output_type": "stream",
     "text": [
      "Searching for Run 1538955417\n",
      "Run located, 25.4512 events.\n"
     ]
    },
    {
     "data": {
      "image/png": "[encoded data removed]",
      "text/plain": [
       "<matplotlib.figure.Figure at 0x7fbbf3c014a8>"
      ]
     },
     "metadata": {},
     "output_type": "display_data"
    }
   ],
   "source": [
    "pi0_binning(\"Events_ADP/mini_0.01.dat\",\"Events_ADP/miniboone_e_3.dat\")  "
   ]
  },
  {
   "cell_type": "code",
   "execution_count": 8,
   "metadata": {},
   "outputs": [],
   "source": [
    "def main(event_file,summary_file):    \n",
    "    with open(event_file) as ef:\n",
    "        dat=ef.read().splitlines()\n",
    "        run_num=''\n",
    "    \n",
    "        for line in dat:\n",
    "            line=line.split()\n",
    "            if len(line)==2 and line[0]==\"Run\":\n",
    "                run_num=line[1]\n",
    "                break\n",
    "        print(\"Searching for Run \" + run_num)\n",
    "        nevents = find_total(summary_file,run_num)\n",
    "        if nevents == -1:\n",
    "            print(\"No Histograms to generate.\")\n",
    "            return\n",
    "        print(\"Run located, \" + str(nevents) + \" events.\")\n",
    "        dat2 = [line.split() for line in dat]\n",
    "        \n",
    "        electron = [[float(line[i]) for i in range(1,len(line))] for line in dat2 if len(line)>1 and line[0]=='electron']\n",
    "        dm = [[float(line[i]) for i in range(1,len(line))] for line in dat2 if len(line)>1 and line[0]=='DM']\n",
    "        \n",
    "        eE=[par[3] for par in electron]\n",
    "        \n",
    "        cos_t_e=[cos_theta(par[0:3]) for par in electron]\n",
    "        \n",
    "        cos_t_dm=[cos_theta(par[0:3]) for par in dm]\n",
    "        \n",
    "        plt.figure(0)\n",
    "        hist, bin_edges = np.histogram(eE,bins=20,normed=1)\n",
    "        bin_centers = (bin_edges[:-1] + bin_edges[1:]) / 2\n",
    "        plt.bar(bin_centers,hist*nevents,width=bin_edges[1]-bin_edges[0],linewidth=1,edgecolor='black',log=False)\n",
    "        plt.xlabel(\"Energy (GeV)\")\n",
    "        plt.ylabel(\"Events\")\n",
    "        plt.savefig(prepend_name+'electron_energy.pdf')\n",
    "        plt.close()\n",
    "        \n",
    "        plt.figure(1)\n",
    "        hist, bin_edges = np.histogram(cos_t_e,bins=10,normed=1)\n",
    "        bin_centers = (bin_edges[:-1] + bin_edges[1:]) / 2\n",
    "        plt.bar(bin_centers,hist*nevents,width=bin_edges[1]-bin_edges[0],linewidth=1,edgecolor='black',log=False)\n",
    "        plt.xlabel(\"Angle (rad)\")\n",
    "        plt.ylabel(\"Events\")\n",
    "        plt.savefig(prepend_name+'electron_angle.pdf')\n",
    "        plt.close()\n",
    "        \n",
    "        plt.figure(2)\n",
    "        hist, bin_edges = np.histogram(cos_t_dm,bins=10,normed=1)\n",
    "        bin_centers = (bin_edges[:-1] + bin_edges[1:]) / 2\n",
    "        plt.bar(bin_centers,hist*nevents,width=bin_edges[1]-bin_edges[0],linewidth=1,edgecolor='black',log=False)\n",
    "        plt.xlabel(\"Angle (rad)\")\n",
    "        plt.ylabel(\"Events\")\n",
    "        #plt.savefig(prepend_name+'dm_angle.pdf')\n",
    "        plt.close()"
   ]
  },
  {
   "cell_type": "code",
   "execution_count": 12,
   "metadata": {},
   "outputs": [
    {
     "name": "stdout",
     "output_type": "stream",
     "text": [
      "Searching for Run 1535590500\n",
      "Run located, 26524300.0 events.\n"
     ]
    }
   ],
   "source": [
    "main(event_file,summary_file)"
   ]
  },
  {
   "cell_type": "code",
   "execution_count": 9,
   "metadata": {},
   "outputs": [],
   "source": [
    "def dm_bin(event_file):    \n",
    "    with open(event_file) as ef:\n",
    "        dat=ef.read().splitlines()\n",
    "        run_num=''\n",
    "        dat2 = [line.split() for line in dat]\n",
    "        sum_line=dat2[-1]\n",
    "        nevents=float(sum_line[8])*float(sum_line[10])\n",
    "        mv = dat2[-1][1]\n",
    "        mdm = dat2[-1][2]\n",
    "        eps = dat2[-1][4]\n",
    "        #electron = [[float(line[i]) for i in range(1,len(line))] for line in dat2 if len(line)>1 and line[0]=='electron']\n",
    "        dm = [[float(line[i]) for i in range(3,len(line))] for line in dat2 if len(line)>1 and line[2]=='DM']\n",
    "        #eE=[par[3] for par in electron]\n",
    "        #cos_t_e=[cos_theta(par[0:3]) for par in electron]\n",
    "        #cos_t_dm=[cos_theta(par[0:3]) for par in dm]\n",
    "\n",
    "        #dmE=[par[0] for par in dm]\n",
    "        dmE=[1e3*math.sqrt(par[0]**2-float(mdm)**2) for par in dm]        \n",
    "        \n",
    "        plt.figure(0)\n",
    "        hist, bin_edges = np.histogram(dmE,bins=100)\n",
    "        #return(hist*nevents/1000,bin_edges,nevents)\n",
    "        bin_centers = (bin_edges[:-1] + bin_edges[1:]) / 2\n",
    "        plt.bar(bin_centers,hist*nevents/len(dm),width=bin_edges[1]-bin_edges[0],linewidth=1,edgecolor='black',log=False)\n",
    "        n_low=0\n",
    "        n_high=0\n",
    "        #plt.xlim(0,25)\n",
    "        plt.xlabel(\"DM Momentum (MeV)\")\n",
    "        plt.ylabel(\"Intersections\")\n",
    "        plt.text(200,max(hist)*nevents/len(dmE)*0.7,\"mv={} GeV\\nmdm={} GeV\\nalpha_D=0.5\\nepsilon=0.001\\nTotal Intersections={:.2e}\".format(mv,mdm,nevents))\n",
    "        plt.savefig(prepend_name+'_{}_{}_energy.pdf'.format(mv,mdm))\n",
    "        #plt.savefig(\"Fig3.pdf\")\n",
    "        plt.show()\n",
    "        plt.close()"
   ]
  },
  {
   "cell_type": "code",
   "execution_count": 35,
   "metadata": {},
   "outputs": [],
   "source": [
    "def recoil_bin_simple(event_file,prepend_name,recoil_target_list,window_min=0,window_max=300,reweight=1):    \n",
    "    with open(event_file) as ef:\n",
    "        dat2=ef.read().splitlines()\n",
    "        run_num=''\n",
    "        dat2 = [line.split() for line in dat2]\n",
    "        sum_line=dat2[-1]\n",
    "        nevents=float(sum_line[1])*reweight\n",
    "        mv = 1000*float(dat2[-1][2])\n",
    "        mdm = 1000*float(dat2[-1][3])\n",
    "        eps = dat2[-1][4]\n",
    "        alpha_D=dat2[-1][5]\n",
    "        recoil = []\n",
    "        for recoil_target in recoil_target_list: \n",
    "            recoil+=[[float(line[i]) for i in range(1,len(line))] for line in dat2 if len(line)>1 \n",
    "                     and line[0]==recoil_target]\n",
    "        del dat2\n",
    "        #kE = [1e6*line[13] for line in recoil if 1e6*line[13]<window_max]\n",
    "        kE = [1e6*line[13] for line in recoil if 1e6*line[13]<window_max]\n",
    "        del recoil\n",
    "        #kE = [1e3*math.sqrt(line[1]**2+line[2]**2+line[3]**2) for line in recoil if 1e3*line[13]<window_max]\n",
    "        plt.figure(0)\n",
    "        hist, bin_edges = np.histogram(kE,bins=50)\n",
    "        bin_centers = (bin_edges[:-1] + bin_edges[1:]) / 2\n",
    "        plt.bar(bin_centers,hist*nevents/len(kE),width=bin_edges[1]-bin_edges[0],linewidth=1,edgecolor='black',log=True)\n",
    "        n_low=0\n",
    "        n_high=0\n",
    "        plt.xlim(window_min,window_max)\n",
    "        plt.xlabel(\"Recoil Kinetic Energy (keV)\",fontsize=15)\n",
    "        plt.ylabel(\"Recoils\",fontsize=15)\n",
    "        #plt.yticks([])\n",
    "        bottom, top = plt.ylim()\n",
    "        print(bottom,top,math.log10(top/bottom))\n",
    "        #plt.plot([50, 50], [0, top],lw=2, color=\"k\")\n",
    "        #plt.text(window_max/3.3,top*0.8,\"Dark Photon Mass={} MeV\\nDark Matter Mass={} MeV\".format(mv,mdm,alpha_D,eps,nevents),fontsize=15)\n",
    "        plt.text(window_max/1.5,math.exp(math.log(top/bottom)*0.8+math.log(bottom)),\"M$_\\mathrm{DM}$\"+\"={} MeV\".format(round(mdm))+\"\\nM$_\\mathrm{V}$\"+\"={} MeV\".format(round(mv)),fontsize=15)\n",
    "        #plt.text(51,top*0.60,r\"$\\leftarrow$50 keV\",fontsize=15)\n",
    "        #plt.vlines(20,0,25000,lw=2,color='b')\n",
    "        plt.tight_layout()\n",
    "        plt.ylim(top=top)\n",
    "        plt.savefig(prepend_name+'_{}_{}_recoil.pdf'.format(mv,mdm))\n",
    "        plt.show()\n",
    "        plt.close()"
   ]
  },
  {
   "cell_type": "code",
   "execution_count": 36,
   "metadata": {},
   "outputs": [
    {
     "name": "stdout",
     "output_type": "stream",
     "text": [
      "28.495046553828097 89801618.05975501 6.498514791084719\n"
     ]
    },
    {
     "data": {
      "image/png": "[encoded data removed]",
      "text/plain": [
       "<Figure size 432x288 with 1 Axes>"
      ]
     },
     "metadata": {
      "needs_background": "light"
     },
     "output_type": "display_data"
    }
   ],
   "source": [
    "recoil_bin_simple(\"CCM_Events/CCM_NEW_Ar_15\",\"CCM_Events/CCM_Recoil\",[\"Argon\"], window_min=0,window_max=400)"
   ]
  },
  {
   "cell_type": "code",
   "execution_count": 13,
   "metadata": {
    "scrolled": false
   },
   "outputs": [
    {
     "data": {
      "image/png": "[encoded data removed]",
      "text/plain": [
       "<Figure size 432x288 with 1 Axes>"
      ]
     },
     "metadata": {
      "needs_background": "light"
     },
     "output_type": "display_data"
    }
   ],
   "source": [
    "recoil_bin_simple(\"CCM_Events/CCM_NEW_Ar_60\",\"CCM_Events/CCM_Recoil_\",[\"Argon\"], window_min=0,window_max=400)"
   ]
  },
  {
   "cell_type": "code",
   "execution_count": 26,
   "metadata": {},
   "outputs": [
    {
     "data": {
      "text/plain": [
       "5.197632272037717"
      ]
     },
     "execution_count": 26,
     "metadata": {},
     "output_type": "execute_result"
    }
   ],
   "source": [
    "math.exp(math.log(top/bottom)*0.8+math.log(bottom))"
   ]
  },
  {
   "cell_type": "code",
   "execution_count": 37,
   "metadata": {},
   "outputs": [
    {
     "name": "stdout",
     "output_type": "stream",
     "text": [
      "0.2709210960212552 920.0759466171625 3.5309808532745084\n"
     ]
    },
    {
     "data": {
      "image/png": "[encoded data removed]",
      "text/plain": [
       "<Figure size 432x288 with 1 Axes>"
      ]
     },
     "metadata": {
      "needs_background": "light"
     },
     "output_type": "display_data"
    }
   ],
   "source": [
    "recoil_bin_simple(\"CCM_Events/CCM_NEW_Ar_120\",\"CCM_Events/CCM_Recoil_\",[\"Argon\"], window_min=0,window_max=400)"
   ]
  },
  {
   "cell_type": "code",
   "execution_count": 5,
   "metadata": {},
   "outputs": [],
   "source": [
    "def recoil_mom(event_file,recoil_target_list,window_min=0,window_max=3,reweight=1):    \n",
    "    with open(event_file) as ef:\n",
    "        dat=ef.read().splitlines()\n",
    "        run_num=''\n",
    "        dat2 = [line.split() for line in dat]\n",
    "        sum_line=dat2[-1]\n",
    "        nevents=float(sum_line[1])*reweight\n",
    "        mv = 1000*float(dat2[-1][2])\n",
    "        mdm = 1000*float(dat2[-1][3])\n",
    "        eps = dat2[-1][4]\n",
    "        alpha_D=dat2[-1][5]\n",
    "        recoil = []\n",
    "        for recoil_target in recoil_target_list: \n",
    "            recoil+=[[float(line[i]) for i in range(1,len(line))] for line in dat2 if len(line)>1 \n",
    "                     and line[0]==recoil_target]\n",
    "        #kE = [1e6*line[13] for line in recoil if 1e6*line[13]<window_max]\n",
    "        #return recoil\n",
    "        #kE = [1e3*line[13] for line in recoil if 1e3*line[13]<window_max]\n",
    "        kE = [math.sqrt(line[1]**2+line[2]**2+line[3]**2) for line in recoil if line[13]<window_max]\n",
    "        plt.figure(0)\n",
    "        hist, bin_edges = np.histogram(kE,bins=50)\n",
    "        bin_centers = (bin_edges[:-1] + bin_edges[1:]) / 2\n",
    "        plt.bar(bin_centers,hist*nevents/len(kE),width=bin_edges[1]-bin_edges[0],linewidth=1,edgecolor='black',log=False)\n",
    "        n_low=0\n",
    "        n_high=0\n",
    "        plt.xlim(window_min,window_max)\n",
    "        plt.xlabel(\"Recoil Momentum (GeV)\",fontsize=15)\n",
    "        plt.ylabel(\"Recoils\",fontsize=15)\n",
    "        #plt.yticks([])\n",
    "        bottom, top = plt.ylim()\n",
    "        #plt.plot([50, 50], [0, top],lw=2, color=\"k\")\n",
    "        #plt.text(window_max/3.3,top*0.8,\"Dark Photon Mass={} MeV\\nDark Matter Mass={} MeV\".format(mv,mdm,alpha_D,eps,nevents),fontsize=15)\n",
    "        #plt.text(51,top*0.60,r\"$\\leftarrow$50 keV\",fontsize=15)\n",
    "        #plt.vlines(20,0,25000,lw=2,color='b')\n",
    "        plt.tight_layout()\n",
    "        plt.ylim(top=top)\n",
    "        plt.savefig(prepend_name+'_{}_{}_recoil.pdf'.format(mv,mdm))\n",
    "        plt.show()\n",
    "        plt.close()"
   ]
  },
  {
   "cell_type": "code",
   "execution_count": 6,
   "metadata": {},
   "outputs": [],
   "source": [
    "prepend_name = \"CCM_Events/CCM_Recoil_\""
   ]
  },
  {
   "cell_type": "code",
   "execution_count": 15,
   "metadata": {},
   "outputs": [
    {
     "data": {
      "image/png": "[encoded data removed]",
      "text/plain": [
       "<Figure size 432x288 with 1 Axes>"
      ]
     },
     "metadata": {
      "needs_background": "light"
     },
     "output_type": "display_data"
    }
   ],
   "source": [
    "recoil_mom(\"CCM_Events/CCM_NEW_Ar_15\",[\"Argon\"], window_min=0,window_max=0.2)"
   ]
  },
  {
   "cell_type": "code",
   "execution_count": 115,
   "metadata": {},
   "outputs": [],
   "source": [
    "prepend_name = \"T2K_hist/p0d_momentum\""
   ]
  },
  {
   "cell_type": "code",
   "execution_count": 116,
   "metadata": {
    "scrolled": true
   },
   "outputs": [
    {
     "data": {
      "image/png": "[encoded data removed]",
      "text/plain": [
       "<Figure size 432x288 with 1 Axes>"
      ]
     },
     "metadata": {
      "needs_background": "light"
     },
     "output_type": "display_data"
    }
   ],
   "source": [
    "recoil_bin_simple(\"T2K_Events/t2k_p0d_180_60.0.dat\",[\"pi0\"],\n",
    "                  window_min=0,window_max=400,reweight=8/5)"
   ]
  },
  {
   "cell_type": "code",
   "execution_count": 155,
   "metadata": {},
   "outputs": [],
   "source": [
    "prepend_name = \"T2K_hist/fgd_nucleon_mom\""
   ]
  },
  {
   "cell_type": "code",
   "execution_count": 158,
   "metadata": {
    "scrolled": true
   },
   "outputs": [
    {
     "data": {
      "image/png": "[encoded data removed]",
      "text/plain": [
       "<Figure size 432x288 with 1 Axes>"
      ]
     },
     "metadata": {
      "needs_background": "light"
     },
     "output_type": "display_data"
    }
   ],
   "source": [
    "recoil_mom(\"T2K_Events/t2k_fgd_nucleon_180_60.0.dat\",[\"neutron\",\"proton\"],\n",
    "                  window_min=0,window_max=0.7,reweight=8/5)"
   ]
  },
  {
   "cell_type": "code",
   "execution_count": 172,
   "metadata": {},
   "outputs": [],
   "source": [
    "prepend_name = \"T2K_hist/fgd_electron_mom\""
   ]
  },
  {
   "cell_type": "code",
   "execution_count": 173,
   "metadata": {},
   "outputs": [
    {
     "data": {
      "image/png": "[encoded data removed]",
      "text/plain": [
       "<Figure size 432x288 with 1 Axes>"
      ]
     },
     "metadata": {
      "needs_background": "light"
     },
     "output_type": "display_data"
    }
   ],
   "source": [
    "recoil_mom(\"T2K_Events/t2k_fgd_electron_30_10.0.dat\",[\"electron\"],\n",
    "                  window_min=0,window_max=1.500,reweight=8/5/10**4)"
   ]
  },
  {
   "cell_type": "code",
   "execution_count": 174,
   "metadata": {},
   "outputs": [],
   "source": [
    "def recoil_angle(event_file,recoil_target_list,window_min=0.95,window_max=1,reweight=1):    \n",
    "    with open(event_file) as ef:\n",
    "        dat=ef.read().splitlines()\n",
    "        run_num=''\n",
    "        dat2 = [line.split() for line in dat]\n",
    "        sum_line=dat2[-1]\n",
    "        nevents=float(sum_line[1])*reweight\n",
    "        print(nevents)\n",
    "        mv = dat2[-1][2]\n",
    "        mdm = dat2[-1][3]\n",
    "        eps = dat2[-1][4]\n",
    "        recoil = [];\n",
    "        for recoil_target in recoil_target_list:\n",
    "            recoil += [[float(line[i]) for i in range(1,len(line))] for line in dat2 if len(line)>1\n",
    "                  and line[0]==recoil_target]\n",
    "        cos_t_e = [line[3]/mom(line[0:4]) for line in recoil]\n",
    "        cos_t_e = [x for x in cos_t_e if x > window_min and x < window_max]\n",
    "        #angle = [numpy.arccos(cos) for cos in cos_t_e]\n",
    "        plt.figure(0)\n",
    "        hist, bin_edges = np.histogram(cos_t_e,bins=50)\n",
    "        #return(hist*nevents/1000,bin_edges,nevents)\n",
    "        bin_centers = (bin_edges[:-1] + bin_edges[1:]) / 2\n",
    "        #return mv,mdm,hist,bin_centers\n",
    "        print(nevents)\n",
    "        plt.bar(bin_centers,hist*nevents/len(cos_t_e),width=bin_edges[1]-bin_edges[0],linewidth=1,edgecolor='black',log=False)\n",
    "        n_low=0\n",
    "        n_high=0\n",
    "        plt.xlim(window_min,window_max)\n",
    "        plt.xlabel(\"Cos(Recoil Angle)\",fontsize=15)\n",
    "        plt.ylabel(\"Recoils\",fontsize=15)\n",
    "        #plt.text((window_min+window_max)/2,max(hist)*nevents/len(cos_t_e)*0.7,\"mv={} GeV\\nmdm={} GeV\\nalpha_D=0.5\\nepsilon=0.001\\nTotal Recoils={:.2e}\".format(mv,mdm,nevents))\n",
    "        plt.savefig(prepend_name+'_{}_{}_recoil.pdf'.format(mv,mdm))\n",
    "        plt.show()\n",
    "        #plt.close()"
   ]
  },
  {
   "cell_type": "code",
   "execution_count": 101,
   "metadata": {},
   "outputs": [],
   "source": [
    "prepend_name = \"T2K_hist/p0d_angle\""
   ]
  },
  {
   "cell_type": "code",
   "execution_count": 102,
   "metadata": {
    "scrolled": true
   },
   "outputs": [
    {
     "name": "stdout",
     "output_type": "stream",
     "text": [
      "88.005884128\n"
     ]
    },
    {
     "data": {
      "image/png": "[encoded data removed]",
      "text/plain": [
       "<Figure size 432x288 with 1 Axes>"
      ]
     },
     "metadata": {
      "needs_background": "light"
     },
     "output_type": "display_data"
    }
   ],
   "source": [
    "recoil_angle(\"T2K_Events/t2k_p0d_180_60.0.dat\",[\"pi0\"],reweight=8/5)"
   ]
  },
  {
   "cell_type": "code",
   "execution_count": 175,
   "metadata": {},
   "outputs": [
    {
     "name": "stdout",
     "output_type": "stream",
     "text": [
      "33.70444628800001\n",
      "33.70444628800001\n"
     ]
    },
    {
     "data": {
      "image/png": "[encoded data removed]",
      "text/plain": [
       "<Figure size 432x288 with 1 Axes>"
      ]
     },
     "metadata": {
      "needs_background": "light"
     },
     "output_type": "display_data"
    }
   ],
   "source": [
    "prepend_name = \"T2K_hist/fgd_electron_angle\"\n",
    "recoil_angle(\"T2K_Events/t2k_fgd_electron_30_10.0.dat\",[\"electron\"],\n",
    "                  window_min=0.95,reweight=8/5/10**4)"
   ]
  },
  {
   "cell_type": "code",
   "execution_count": 163,
   "metadata": {},
   "outputs": [
    {
     "name": "stdout",
     "output_type": "stream",
     "text": [
      "317.98797408\n"
     ]
    },
    {
     "data": {
      "image/png": "[encoded data removed]",
      "text/plain": [
       "<Figure size 432x288 with 1 Axes>"
      ]
     },
     "metadata": {
      "needs_background": "light"
     },
     "output_type": "display_data"
    }
   ],
   "source": [
    "prepend_name = \"T2K_hist/fgd_nucleon_angle\"\n",
    "recoil_angle(\"T2K_Events/t2k_fgd_nucleon_180_60.0.dat\",[\"proton\",\"electron\"],\n",
    "                  window_min=0,reweight=8/5)"
   ]
  },
  {
   "cell_type": "code",
   "execution_count": 197,
   "metadata": {},
   "outputs": [],
   "source": [
    "prepend_name = \"T2K_hist/t2k_hyperk_nucleon_angle\""
   ]
  },
  {
   "cell_type": "code",
   "execution_count": 198,
   "metadata": {},
   "outputs": [
    {
     "name": "stdout",
     "output_type": "stream",
     "text": [
      "417.43329652799997\n",
      "417.43329652799997\n"
     ]
    },
    {
     "data": {
      "image/png": "[encoded data removed]",
      "text/plain": [
       "<Figure size 432x288 with 1 Axes>"
      ]
     },
     "metadata": {
      "needs_background": "light"
     },
     "output_type": "display_data"
    }
   ],
   "source": [
    "recoil_angle(\"T2K_Events/t2k_superk_nucleon_notime_180_60.0.dat\",[\"proton\",\"neutron\"],window_min=0,reweight=27/5*20)"
   ]
  },
  {
   "cell_type": "code",
   "execution_count": 62,
   "metadata": {},
   "outputs": [],
   "source": [
    "def timing_delay(event_file,recoil_target_list,window_min=0,window_max=300,reweight=1):    \n",
    "    with open(event_file) as ef:\n",
    "        dat=ef.read().splitlines()\n",
    "        run_num=''\n",
    "        dat2 = [line.split() for line in dat]\n",
    "        sum_line=dat2[-1]\n",
    "        nevents=float(sum_line[1])*reweight\n",
    "        mv = 1000*float(dat2[-1][2])\n",
    "        mdm = 1000*float(dat2[-1][3])\n",
    "        eps = dat2[-1][4]\n",
    "        alpha_D=dat2[-1][5]\n",
    "        recoil = []\n",
    "        for recoil_target in recoil_target_list: \n",
    "            recoil+=[[float(line[i]) for i in range(1,len(line))] for line in dat2 if len(line)>1 \n",
    "                     and line[0]==recoil_target]\n",
    "        #kE = [1e6*line[13] for line in recoil if 1e6*line[13]<window_max]\n",
    "        #return recoil\n",
    "        time_delay = [1e9*(line[8]-math.sqrt(line[5]**2+line[6]**2+line[7]**2)/speed_of_light) for line in recoil]\n",
    "        time_delay = [x for x in time_delay if x<window_max]\n",
    "        plt.figure(0)\n",
    "        hist, bin_edges = np.histogram(time_delay,bins=50)\n",
    "        bin_centers = (bin_edges[:-1] + bin_edges[1:]) / 2\n",
    "        plt.bar(bin_centers,hist*nevents/len(time_delay),width=bin_edges[1]-bin_edges[0],linewidth=1,edgecolor='black',log=False)\n",
    "        n_low=0\n",
    "        n_high=0\n",
    "        plt.xlim(window_min,window_max)\n",
    "        plt.xlabel(\"Time Delay (ns)\",fontsize=15)\n",
    "        plt.ylabel(\"Recoils\",fontsize=15)\n",
    "        #plt.yticks([])\n",
    "        bottom, top = plt.ylim()\n",
    "        #plt.plot([50, 50], [0, top],lw=2, color=\"k\")\n",
    "        #plt.text(window_max/3.3,top*0.8,\"Dark Photon Mass={} MeV\\nDark Matter Mass={} MeV\".format(mv,mdm,alpha_D,eps,nevents),fontsize=15)\n",
    "        #plt.text(51,top*0.60,r\"$\\leftarrow$50 keV\",fontsize=15)\n",
    "        #plt.vlines(20,0,25000,lw=2,color='b')\n",
    "        plt.tight_layout()\n",
    "        plt.ylim(top=top)\n",
    "        plt.savefig(prepend_name+'_{}_{}_recoil.pdf'.format(mv,mdm))\n",
    "        plt.show()\n",
    "        plt.close()"
   ]
  },
  {
   "cell_type": "code",
   "execution_count": 61,
   "metadata": {},
   "outputs": [],
   "source": [
    "prepend_name = \"T2K_hist/hyperk_nucleon_timing_delay\""
   ]
  },
  {
   "cell_type": "code",
   "execution_count": 63,
   "metadata": {},
   "outputs": [
    {
     "data": {
      "image/png": "[encoded data removed]",
      "text/plain": [
       "<Figure size 432x288 with 1 Axes>"
      ]
     },
     "metadata": {
      "needs_background": "light"
     },
     "output_type": "display_data"
    }
   ],
   "source": [
    "timing_delay(\"T2K_Events/t2k_superk_nucleon_notime_180_60.0.dat\",[\"proton\",\"neutron\"],window_max=500,reweight=8/5*20)"
   ]
  },
  {
   "cell_type": "code",
   "execution_count": null,
   "metadata": {},
   "outputs": [],
   "source": [
    "def recoil_bin_simple(event_file,recoil_target_list,window_min=0,window_max=300,reweight=1):    \n",
    "    with open(event_file) as ef:\n",
    "        dat=ef.read().splitlines()\n",
    "        run_num=''\n",
    "        dat2 = [line.split() for line in dat]\n",
    "        sum_line=dat2[-1]\n",
    "        nevents=float(sum_line[1])*reweight\n",
    "        mv = 1000*float(dat2[-1][2])\n",
    "        mdm = 1000*float(dat2[-1][3])\n",
    "        eps = dat2[-1][4]\n",
    "        alpha_D=dat2[-1][5]\n",
    "        recoil = []\n",
    "        for recoil_target in recoil_target_list: \n",
    "            recoil+=[[float(line[i]) for i in range(1,len(line))] for line in dat2 if len(line)>1 \n",
    "                     and line[0]==recoil_target]\n",
    "        #kE = [1e6*line[13] for line in recoil if 1e6*line[13]<window_max]\n",
    "        #return recoil\n",
    "        kE = [1e3*line[13] for line in recoil if 1e3*line[13]<window_max]\n",
    "        plt.figure(0)\n",
    "        hist, bin_edges = np.histogram(kE,bins=50)\n",
    "        bin_centers = (bin_edges[:-1] + bin_edges[1:]) / 2\n",
    "        plt.bar(bin_centers,hist*nevents/len(kE),width=bin_edges[1]-bin_edges[0],linewidth=1,edgecolor='black',log=False)\n",
    "        n_low=0\n",
    "        n_high=0\n",
    "        plt.xlim(window_min,window_max)\n",
    "        plt.xlabel(\"Recoil Kinetic Energy (MeV)\",fontsize=15)\n",
    "        plt.ylabel(\"Recoils\",fontsize=15)\n",
    "        #plt.yticks([])\n",
    "        bottom, top = plt.ylim()\n",
    "        #plt.plot([50, 50], [0, top],lw=2, color=\"k\")\n",
    "        #plt.text(window_max/3.3,top*0.8,\"Dark Photon Mass={} MeV\\nDark Matter Mass={} MeV\".format(mv,mdm,alpha_D,eps,nevents),fontsize=15)\n",
    "        #plt.text(51,top*0.60,r\"$\\leftarrow$50 keV\",fontsize=15)\n",
    "        #plt.vlines(20,0,25000,lw=2,color='b')\n",
    "        plt.tight_layout()\n",
    "        plt.ylim(top=top)\n",
    "        plt.savefig(prepend_name+'_{}_{}_recoil.pdf'.format(mv,mdm))\n",
    "        plt.show()\n",
    "        plt.close()"
   ]
  },
  {
   "cell_type": "code",
   "execution_count": 61,
   "metadata": {},
   "outputs": [],
   "source": [
    "def custom(event_file,summary_file):    \n",
    "    with open(event_file) as ef:\n",
    "        dat=ef.read().splitlines()\n",
    "        run_num=''\n",
    "        for line in dat:\n",
    "            line=line.split()\n",
    "            if len(line)==2 and line[0]==\"Run\":\n",
    "                run_num=line[1]\n",
    "                break\n",
    "        print(\"Searching for Run \" + run_num)\n",
    "        nevents = find_total(summary_file,run_num)\n",
    "        if nevents == -1:\n",
    "            print(\"No Histograms to generate.\")\n",
    "            return\n",
    "        print(\"Run located, \" + str(nevents) + \" events.\")\n",
    "        dat2 = [line.split() for line in dat]\n",
    "        mv = dat2[-1][1]\n",
    "        mdm = dat2[-1][2]\n",
    "        electron = [[float(line[i]) for i in range(1,len(line))] for line in dat2 if len(line)>1 and line[0]=='Argon']\n",
    "        dm = [[float(line[i]) for i in range(1,len(line))] for line in dat2 if len(line)>1 and line[0]=='DM']\n",
    "        eE=[par[-1]*1e6 for par in electron]\n",
    "        eE=[En for En in eE if En<1000]\n",
    "        #return(eE)\n",
    "        cos_t_e=[cos_theta(par[0:3]) for par in electron]\n",
    "        \n",
    "        cos_t_dm=[cos_theta(par[0:3]) for par in dm]\n",
    "        \n",
    "        plt.figure(0)\n",
    "        hist, bin_edges = np.histogram(eE,bins=30,normed=1)\n",
    "        return(hist*nevents/1000,bin_edges,nevents)\n",
    "        bin_centers = (bin_edges[:-1] + bin_edges[1:]) / 2\n",
    "        plt.bar(bin_centers,hist*nevents,width=bin_edges[1]-bin_edges[0],linewidth=1,edgecolor='black',log=False)\n",
    "        plt.xlim(0,600)\n",
    "        plt.xlabel(\"Recoil Energy (keV)\")\n",
    "        plt.ylabel(\"Events/keV/1E22POT\")\n",
    "        plt.text(300,max(hist*nevents)*0.7,\"mv={} GeV\\nmdm={} GeV\\nalpha_D=0.5\\nepsilon=0.001\\nTotal Events={}\".format(mv,mdm,nevents))\n",
    "        plt.savefig(prepend_name+'_{}_{}_recoil_energy.pdf'.format(mv,mdm))\n",
    "        plt.show()\n",
    "        plt.close()"
   ]
  },
  {
   "cell_type": "code",
   "execution_count": 62,
   "metadata": {},
   "outputs": [],
   "source": [
    "def custom2d(event_file,summary_file):    \n",
    "    with open(event_file) as ef:\n",
    "        dat=ef.read().splitlines()\n",
    "        run_num=''\n",
    "        for line in dat:\n",
    "            line=line.split()\n",
    "            if len(line)==2 and line[0]==\"Run\":\n",
    "                run_num=line[1]\n",
    "                break\n",
    "        print(\"Searching for Run \" + run_num)\n",
    "        nevents = find_total(summary_file,run_num)\n",
    "        if nevents == -1:\n",
    "            print(\"No Histograms to generate.\")\n",
    "            return\n",
    "        print(\"Run located, \" + str(nevents) + \" events.\")\n",
    "        dat2 = [line.split() for line in dat]\n",
    "        mv = dat2[-1][1]\n",
    "        mdm = dat2[-1][2]\n",
    "        recoil = [[float(line[i]) for i in range(1,len(line))] for line in dat2 if len(line)>1 and line[0]=='Argon']\n",
    "        recoil = [line for line in recoil if line[-1]*1e6<1000]\n",
    "        #dm = [[float(line[i]) for i in range(1,len(line))] for line in dat2 if len(line)>1 and line[0]=='DM']\n",
    "        eE=[par[-1]*1e6 for par in recoil]\n",
    "        #return(eE)\n",
    "        eTime=[par[-2]*1e9 for par in recoil]\n",
    "        #cos_t_e=[cos_theta(par[0:3]) for par in recoil]\n",
    "        #cos_t_dm=[cos_theta(par[0:3]) for par in dm]\n",
    "        plt.figure(0)\n",
    "        hist, bin_edges_x, bin_edges_y = np.histogram2d(eE,eTime,bins=30,normed=1)\n",
    "        return(hist*nevents/1000,bin_edges_x,bin_edges_y,nevents)\n",
    "        bin_centers = (bin_edges[:-1] + bin_edges[1:]) / 2\n",
    "        plt.bar(bin_centers,hist*nevents/1000,width=bin_edges[1]-bin_edges[0],linewidth=1,edgecolor='black',log=False)\n",
    "        plt.xlim(0,600)\n",
    "        plt.xlabel(\"Recoil Energy (keV)\")\n",
    "        plt.ylabel(\"Events/keV/1E22POT/kg/ns\")\n",
    "        plt.text(300,max(hist*nevents)*0.7,\"mv={} GeV\\nmdm={} GeV\\nalpha_D=0.5\\nepsilon=0.001\\nTotal Events={}\".format(mv,mdm,nevents))\n",
    "        plt.savefig(prepend_name+'_{}_{}_recoil_energy.pdf'.format(mv,mdm))\n",
    "        plt.show()\n",
    "        plt.close()"
   ]
  },
  {
   "cell_type": "code",
   "execution_count": 60,
   "metadata": {
    "collapsed": true
   },
   "outputs": [],
   "source": [
    "if '__name__' == '__main__':\n",
    "    if(len(sys.arg)>=2):\n",
    "        main(sys.arg[0],sys.arg[1])\n",
    "    else:\n",
    "        print(\"bdnmc_hist <event_file> <summary_file>\")"
   ]
  },
  {
   "cell_type": "code",
   "execution_count": 93,
   "metadata": {},
   "outputs": [
    {
     "data": {
      "image/png": "[encoded data removed]",
      "text/plain": [
       "<Figure size 432x288 with 1 Axes>"
      ]
     },
     "metadata": {
      "needs_background": "light"
     },
     "output_type": "display_data"
    }
   ],
   "source": [
    "event_file = \"data/pythia_pi0_30gev.dat\"\n",
    "with open(event_file) as ef:\n",
    "        dat=ef.read().splitlines()\n",
    "        dat = [line.split() for line in dat]\n",
    "        e_list = [float(line[3]) for line in dat]\n",
    "        hist, bin_edges = np.histogram(e_list,bins=50)\n",
    "        bin_centers = (bin_edges[:-1] + bin_edges[1:]) / 2\n",
    "        plt.bar(bin_centers,hist*1.67/len(e_list),width=bin_edges[1]-bin_edges[0],linewidth=1,edgecolor='black',log=False)\n",
    "        plt.xlim(0,15)\n",
    "        plt.xlabel(\"Energy (GeV)\",fontsize=15)\n",
    "        plt.ylabel(\"$\\pi^0$ per POT\",fontsize=15)\n",
    "        plt.savefig(\"T2K_hist/pi0_E.pdf\")\n",
    "        plt.show()"
   ]
  },
  {
   "cell_type": "code",
   "execution_count": 170,
   "metadata": {},
   "outputs": [
    {
     "data": {
      "image/png": "[encoded data removed]",
      "text/plain": [
       "<Figure size 432x288 with 1 Axes>"
      ]
     },
     "metadata": {
      "needs_background": "light"
     },
     "output_type": "display_data"
    }
   ],
   "source": [
    "event_file = \"data/pythia_eta_30gev.dat\"\n",
    "with open(event_file) as ef:\n",
    "        dat=ef.read().splitlines()\n",
    "        dat = [line.split() for line in dat]\n",
    "        #e_list = [float(line[3]) for line in dat]\n",
    "        mom_list = [math.sqrt(float(line[1])**2+float(line[2])**2+float(line[3])**2) for line in dat]\n",
    "        hist, bin_edges = np.histogram(mom_list,bins=50)\n",
    "        bin_centers = (bin_edges[:-1] + bin_edges[1:]) / 2\n",
    "        plt.bar(bin_centers,hist*0.178/len(mom_list),width=bin_edges[1]-bin_edges[0],linewidth=1,edgecolor='black',log=False)\n",
    "        plt.xlim(0,15)\n",
    "        plt.xlabel(\"Momentum (GeV)\",fontsize=15)\n",
    "        plt.ylabel(\"$\\eta$ per POT\",fontsize=15)\n",
    "        plt.savefig(\"T2K_hist/eta_E.pdf\")\n",
    "        plt.show()"
   ]
  },
  {
   "cell_type": "code",
   "execution_count": 146,
   "metadata": {},
   "outputs": [
    {
     "data": {
      "image/png": "[encoded data removed]",
      "text/plain": [
       "<Figure size 432x288 with 1 Axes>"
      ]
     },
     "metadata": {
      "needs_background": "light"
     },
     "output_type": "display_data"
    }
   ],
   "source": [
    "event_file = \"T2K_Events/t2k_fgd_dm_180_60.0.dat\"\n",
    "with open(event_file) as ef:\n",
    "        dat=ef.read().splitlines()\n",
    "        dat = [line.split() for line in dat]\n",
    "        e_list = [float(line[3]) for line in dat]\n",
    "        hist, bin_edges = np.histogram(e_list,bins=50)\n",
    "        bin_centers = (bin_edges[:-1] + bin_edges[1:]) / 2\n",
    "        plt.bar(bin_centers,hist*1.67/len(e_list),width=bin_edges[1]-bin_edges[0],linewidth=1,edgecolor='black',log=False)\n",
    "        plt.xlim(0,15)\n",
    "        plt.xlabel(\"Energy (GeV)\",fontsize=15)\n",
    "        plt.ylabel(\"DM\",fontsize=15)\n",
    "        plt.savefig(\"T2K_hist/DM_fgd_E_60mev.pdf\")\n",
    "        plt.show()"
   ]
  },
  {
   "cell_type": "code",
   "execution_count": 147,
   "metadata": {},
   "outputs": [
    {
     "data": {
      "image/png": "[encoded data removed]",
      "text/plain": [
       "<Figure size 432x288 with 1 Axes>"
      ]
     },
     "metadata": {
      "needs_background": "light"
     },
     "output_type": "display_data"
    }
   ],
   "source": [
    "event_file = \"T2K_Events/t2k_fgd_dm_30_10.0.dat\"\n",
    "with open(event_file) as ef:\n",
    "        dat=ef.read().splitlines()\n",
    "        dat = [line.split() for line in dat]\n",
    "        e_list = [float(line[3]) for line in dat]\n",
    "        hist, bin_edges = np.histogram(e_list,bins=50)\n",
    "        bin_centers = (bin_edges[:-1] + bin_edges[1:]) / 2\n",
    "        plt.bar(bin_centers,hist*1.67/len(e_list),width=bin_edges[1]-bin_edges[0],linewidth=1,edgecolor='black',log=False)\n",
    "        plt.xlim(0,15)\n",
    "        plt.xlabel(\"Energy (GeV)\",fontsize=15)\n",
    "        plt.ylabel(\"DM\",fontsize=15)\n",
    "        plt.savefig(\"T2K_hist/DM_fgd_E_10mev.pdf\")\n",
    "        plt.show()"
   ]
  },
  {
   "cell_type": "code",
   "execution_count": 194,
   "metadata": {},
   "outputs": [
    {
     "data": {
      "image/png": "[encoded data removed]",
      "text/plain": [
       "<Figure size 432x288 with 1 Axes>"
      ]
     },
     "metadata": {
      "needs_background": "light"
     },
     "output_type": "display_data"
    }
   ],
   "source": [
    "event_file = \"T2K_Events/t2k_dm_dist_180_60.0.dat\"\n",
    "window_min=0\n",
    "window_max=10\n",
    "with open(event_file) as ef:\n",
    "        dat=ef.read().splitlines()\n",
    "        dat = [line.split() for line in dat]\n",
    "        dat = dat[0:-2]\n",
    "        dat = [[float(line[i]) for i in range(3,len(line))] for line in dat if len(line)>1]\n",
    "        dat2 = [math.acos(line[3]/mom(line[0:4]))*180/math.pi for line in dat]\n",
    "        dat2 = [x for x in dat2 if x > window_min and x < window_max]\n",
    "        hist, bin_edges = np.histogram(dat2,bins=25)\n",
    "        bin_centers = (bin_edges[:-1] + bin_edges[1:]) / 2\n",
    "        plt.bar(bin_centers,hist/len(dat2),width=bin_edges[1]-bin_edges[0],linewidth=1,edgecolor='black',log=False)\n",
    "        plt.xlim(window_min,window_max)\n",
    "        plt.xlabel(\"Angle (Degree)\",fontsize=15)\n",
    "        plt.ylabel(\"DM\",fontsize=15)\n",
    "        plt.savefig(\"T2K_hist/DM_angle_60mev.pdf\")\n",
    "        plt.show()"
   ]
  },
  {
   "cell_type": "code",
   "execution_count": 195,
   "metadata": {},
   "outputs": [
    {
     "data": {
      "image/png": "[encoded data removed]",
      "text/plain": [
       "<Figure size 432x288 with 1 Axes>"
      ]
     },
     "metadata": {
      "needs_background": "light"
     },
     "output_type": "display_data"
    }
   ],
   "source": [
    "event_file = \"T2K_Events/t2k_dm_dist_30_10.0.dat\"\n",
    "window_min=0\n",
    "window_max=10\n",
    "with open(event_file) as ef:\n",
    "        dat=ef.read().splitlines()\n",
    "        dat = [line.split() for line in dat]\n",
    "        dat = dat[0:-2]\n",
    "        dat = [[float(line[i]) for i in range(3,len(line))] for line in dat if len(line)>1]\n",
    "        dat2 = [math.acos(line[3]/mom(line[0:4]))*180/math.pi for line in dat]\n",
    "        dat2 = [x for x in dat2 if x > window_min and x < window_max]\n",
    "        hist, bin_edges = np.histogram(dat2,bins=25)\n",
    "        bin_centers = (bin_edges[:-1] + bin_edges[1:]) / 2\n",
    "        plt.bar(bin_centers,hist/len(dat2),width=bin_edges[1]-bin_edges[0],linewidth=1,edgecolor='black',log=False)\n",
    "        plt.xlim(window_min,window_max)\n",
    "        plt.xlabel(\"Angle (Degree)\",fontsize=15)\n",
    "        plt.ylabel(\"DM\",fontsize=15)\n",
    "        plt.savefig(\"T2K_hist/DM_angle_10mev.pdf\")\n",
    "        plt.show()"
   ]
  },
  {
   "cell_type": "code",
   "execution_count": null,
   "metadata": {},
   "outputs": [],
   "source": []
  }
 ],
 "metadata": {
  "kernelspec": {
   "display_name": "Python 3",
   "language": "python",
   "name": "python3"
  },
  "language_info": {
   "codemirror_mode": {
    "name": "ipython",
    "version": 3
   },
   "file_extension": ".py",
   "mimetype": "text/x-python",
   "name": "python",
   "nbconvert_exporter": "python",
   "pygments_lexer": "ipython3",
   "version": "3.9.5"
  }
 },
 "nbformat": 4,
 "nbformat_minor": 2
}
